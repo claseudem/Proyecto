{
 "cells": [
  {
   "cell_type": "code",
   "execution_count": 56,
   "id": "d3551ce9",
   "metadata": {},
   "outputs": [],
   "source": [
    "import yfinance as yf\n",
    "import pandas as pd\n",
    "import ta\n",
    "from prophet import Prophet\n",
    "\n",
    "\n",
    "from pycaret.regression import *\n",
    "\n",
    "\n",
    "oro = yf.Ticker(\"GLD\")"
   ]
  },
  {
   "cell_type": "code",
   "execution_count": 57,
   "id": "54c42b1a",
   "metadata": {},
   "outputs": [
    {
     "data": {
      "text/html": [
       "<div>\n",
       "<style scoped>\n",
       "    .dataframe tbody tr th:only-of-type {\n",
       "        vertical-align: middle;\n",
       "    }\n",
       "\n",
       "    .dataframe tbody tr th {\n",
       "        vertical-align: top;\n",
       "    }\n",
       "\n",
       "    .dataframe thead th {\n",
       "        text-align: right;\n",
       "    }\n",
       "</style>\n",
       "<table border=\"1\" class=\"dataframe\">\n",
       "  <thead>\n",
       "    <tr style=\"text-align: right;\">\n",
       "      <th></th>\n",
       "      <th>Open</th>\n",
       "      <th>High</th>\n",
       "      <th>Low</th>\n",
       "      <th>Close</th>\n",
       "      <th>Volume</th>\n",
       "      <th>Dividends</th>\n",
       "      <th>Stock Splits</th>\n",
       "      <th>Capital Gains</th>\n",
       "    </tr>\n",
       "    <tr>\n",
       "      <th>Date</th>\n",
       "      <th></th>\n",
       "      <th></th>\n",
       "      <th></th>\n",
       "      <th></th>\n",
       "      <th></th>\n",
       "      <th></th>\n",
       "      <th></th>\n",
       "      <th></th>\n",
       "    </tr>\n",
       "  </thead>\n",
       "  <tbody>\n",
       "    <tr>\n",
       "      <th>2024-10-09 00:00:00-04:00</th>\n",
       "      <td>241.160004</td>\n",
       "      <td>241.839996</td>\n",
       "      <td>240.639999</td>\n",
       "      <td>241.050003</td>\n",
       "      <td>4120500</td>\n",
       "      <td>0.0</td>\n",
       "      <td>0.0</td>\n",
       "      <td>0.0</td>\n",
       "    </tr>\n",
       "    <tr>\n",
       "      <th>2024-10-10 00:00:00-04:00</th>\n",
       "      <td>241.770004</td>\n",
       "      <td>243.020004</td>\n",
       "      <td>241.509995</td>\n",
       "      <td>242.820007</td>\n",
       "      <td>4792700</td>\n",
       "      <td>0.0</td>\n",
       "      <td>0.0</td>\n",
       "      <td>0.0</td>\n",
       "    </tr>\n",
       "    <tr>\n",
       "      <th>2024-10-11 00:00:00-04:00</th>\n",
       "      <td>244.500000</td>\n",
       "      <td>245.919998</td>\n",
       "      <td>244.470001</td>\n",
       "      <td>245.470001</td>\n",
       "      <td>5789500</td>\n",
       "      <td>0.0</td>\n",
       "      <td>0.0</td>\n",
       "      <td>0.0</td>\n",
       "    </tr>\n",
       "    <tr>\n",
       "      <th>2024-10-14 00:00:00-04:00</th>\n",
       "      <td>245.160004</td>\n",
       "      <td>245.860001</td>\n",
       "      <td>244.259995</td>\n",
       "      <td>245.070007</td>\n",
       "      <td>3922900</td>\n",
       "      <td>0.0</td>\n",
       "      <td>0.0</td>\n",
       "      <td>0.0</td>\n",
       "    </tr>\n",
       "    <tr>\n",
       "      <th>2024-10-15 00:00:00-04:00</th>\n",
       "      <td>244.990005</td>\n",
       "      <td>246.550003</td>\n",
       "      <td>244.529999</td>\n",
       "      <td>245.919998</td>\n",
       "      <td>5640800</td>\n",
       "      <td>0.0</td>\n",
       "      <td>0.0</td>\n",
       "      <td>0.0</td>\n",
       "    </tr>\n",
       "    <tr>\n",
       "      <th>...</th>\n",
       "      <td>...</td>\n",
       "      <td>...</td>\n",
       "      <td>...</td>\n",
       "      <td>...</td>\n",
       "      <td>...</td>\n",
       "      <td>...</td>\n",
       "      <td>...</td>\n",
       "      <td>...</td>\n",
       "    </tr>\n",
       "    <tr>\n",
       "      <th>2025-10-02 00:00:00-04:00</th>\n",
       "      <td>358.260010</td>\n",
       "      <td>358.670013</td>\n",
       "      <td>351.399994</td>\n",
       "      <td>354.790009</td>\n",
       "      <td>16162100</td>\n",
       "      <td>0.0</td>\n",
       "      <td>0.0</td>\n",
       "      <td>0.0</td>\n",
       "    </tr>\n",
       "    <tr>\n",
       "      <th>2025-10-03 00:00:00-04:00</th>\n",
       "      <td>357.119995</td>\n",
       "      <td>358.140015</td>\n",
       "      <td>355.799988</td>\n",
       "      <td>357.640015</td>\n",
       "      <td>14464000</td>\n",
       "      <td>0.0</td>\n",
       "      <td>0.0</td>\n",
       "      <td>0.0</td>\n",
       "    </tr>\n",
       "    <tr>\n",
       "      <th>2025-10-06 00:00:00-04:00</th>\n",
       "      <td>362.160004</td>\n",
       "      <td>365.299988</td>\n",
       "      <td>361.369995</td>\n",
       "      <td>364.380005</td>\n",
       "      <td>17093700</td>\n",
       "      <td>0.0</td>\n",
       "      <td>0.0</td>\n",
       "      <td>0.0</td>\n",
       "    </tr>\n",
       "    <tr>\n",
       "      <th>2025-10-07 00:00:00-04:00</th>\n",
       "      <td>366.510010</td>\n",
       "      <td>367.269989</td>\n",
       "      <td>364.549988</td>\n",
       "      <td>366.260010</td>\n",
       "      <td>16836800</td>\n",
       "      <td>0.0</td>\n",
       "      <td>0.0</td>\n",
       "      <td>0.0</td>\n",
       "    </tr>\n",
       "    <tr>\n",
       "      <th>2025-10-08 00:00:00-04:00</th>\n",
       "      <td>371.649994</td>\n",
       "      <td>373.570007</td>\n",
       "      <td>370.500000</td>\n",
       "      <td>372.299988</td>\n",
       "      <td>27710869</td>\n",
       "      <td>0.0</td>\n",
       "      <td>0.0</td>\n",
       "      <td>0.0</td>\n",
       "    </tr>\n",
       "  </tbody>\n",
       "</table>\n",
       "<p>250 rows × 8 columns</p>\n",
       "</div>"
      ],
      "text/plain": [
       "                                 Open        High         Low       Close  \\\n",
       "Date                                                                        \n",
       "2024-10-09 00:00:00-04:00  241.160004  241.839996  240.639999  241.050003   \n",
       "2024-10-10 00:00:00-04:00  241.770004  243.020004  241.509995  242.820007   \n",
       "2024-10-11 00:00:00-04:00  244.500000  245.919998  244.470001  245.470001   \n",
       "2024-10-14 00:00:00-04:00  245.160004  245.860001  244.259995  245.070007   \n",
       "2024-10-15 00:00:00-04:00  244.990005  246.550003  244.529999  245.919998   \n",
       "...                               ...         ...         ...         ...   \n",
       "2025-10-02 00:00:00-04:00  358.260010  358.670013  351.399994  354.790009   \n",
       "2025-10-03 00:00:00-04:00  357.119995  358.140015  355.799988  357.640015   \n",
       "2025-10-06 00:00:00-04:00  362.160004  365.299988  361.369995  364.380005   \n",
       "2025-10-07 00:00:00-04:00  366.510010  367.269989  364.549988  366.260010   \n",
       "2025-10-08 00:00:00-04:00  371.649994  373.570007  370.500000  372.299988   \n",
       "\n",
       "                             Volume  Dividends  Stock Splits  Capital Gains  \n",
       "Date                                                                         \n",
       "2024-10-09 00:00:00-04:00   4120500        0.0           0.0            0.0  \n",
       "2024-10-10 00:00:00-04:00   4792700        0.0           0.0            0.0  \n",
       "2024-10-11 00:00:00-04:00   5789500        0.0           0.0            0.0  \n",
       "2024-10-14 00:00:00-04:00   3922900        0.0           0.0            0.0  \n",
       "2024-10-15 00:00:00-04:00   5640800        0.0           0.0            0.0  \n",
       "...                             ...        ...           ...            ...  \n",
       "2025-10-02 00:00:00-04:00  16162100        0.0           0.0            0.0  \n",
       "2025-10-03 00:00:00-04:00  14464000        0.0           0.0            0.0  \n",
       "2025-10-06 00:00:00-04:00  17093700        0.0           0.0            0.0  \n",
       "2025-10-07 00:00:00-04:00  16836800        0.0           0.0            0.0  \n",
       "2025-10-08 00:00:00-04:00  27710869        0.0           0.0            0.0  \n",
       "\n",
       "[250 rows x 8 columns]"
      ]
     },
     "execution_count": 57,
     "metadata": {},
     "output_type": "execute_result"
    }
   ],
   "source": [
    "oro_data = oro.history(period=\"1y\", interval=\"1d\")\n",
    "oro_data\n"
   ]
  },
  {
   "cell_type": "code",
   "execution_count": 58,
   "id": "f09a62df",
   "metadata": {},
   "outputs": [
    {
     "data": {
      "text/plain": [
       "Date\n",
       "2024-10-09 00:00:00-04:00    241.050003\n",
       "2024-10-10 00:00:00-04:00    242.820007\n",
       "2024-10-11 00:00:00-04:00    245.470001\n",
       "2024-10-14 00:00:00-04:00    245.070007\n",
       "2024-10-15 00:00:00-04:00    245.919998\n",
       "                                ...    \n",
       "2025-10-02 00:00:00-04:00    354.790009\n",
       "2025-10-03 00:00:00-04:00    357.640015\n",
       "2025-10-06 00:00:00-04:00    364.380005\n",
       "2025-10-07 00:00:00-04:00    366.260010\n",
       "2025-10-08 00:00:00-04:00    372.299988\n",
       "Name: Close, Length: 250, dtype: float64"
      ]
     },
     "execution_count": 58,
     "metadata": {},
     "output_type": "execute_result"
    }
   ],
   "source": [
    "data = oro_data[\"Close\"]\n",
    "data"
   ]
  },
  {
   "cell_type": "code",
   "execution_count": 59,
   "id": "204585ba",
   "metadata": {},
   "outputs": [],
   "source": [
    "prophet_frame = data.reset_index()"
   ]
  },
  {
   "cell_type": "code",
   "execution_count": 62,
   "id": "381e64b1",
   "metadata": {},
   "outputs": [
    {
     "data": {
      "text/html": [
       "<div>\n",
       "<style scoped>\n",
       "    .dataframe tbody tr th:only-of-type {\n",
       "        vertical-align: middle;\n",
       "    }\n",
       "\n",
       "    .dataframe tbody tr th {\n",
       "        vertical-align: top;\n",
       "    }\n",
       "\n",
       "    .dataframe thead th {\n",
       "        text-align: right;\n",
       "    }\n",
       "</style>\n",
       "<table border=\"1\" class=\"dataframe\">\n",
       "  <thead>\n",
       "    <tr style=\"text-align: right;\">\n",
       "      <th></th>\n",
       "      <th>ds</th>\n",
       "      <th>y</th>\n",
       "    </tr>\n",
       "  </thead>\n",
       "  <tbody>\n",
       "    <tr>\n",
       "      <th>0</th>\n",
       "      <td>2024-10-09</td>\n",
       "      <td>241.050003</td>\n",
       "    </tr>\n",
       "    <tr>\n",
       "      <th>1</th>\n",
       "      <td>2024-10-10</td>\n",
       "      <td>242.820007</td>\n",
       "    </tr>\n",
       "    <tr>\n",
       "      <th>2</th>\n",
       "      <td>2024-10-11</td>\n",
       "      <td>245.470001</td>\n",
       "    </tr>\n",
       "    <tr>\n",
       "      <th>3</th>\n",
       "      <td>2024-10-14</td>\n",
       "      <td>245.070007</td>\n",
       "    </tr>\n",
       "    <tr>\n",
       "      <th>4</th>\n",
       "      <td>2024-10-15</td>\n",
       "      <td>245.919998</td>\n",
       "    </tr>\n",
       "    <tr>\n",
       "      <th>...</th>\n",
       "      <td>...</td>\n",
       "      <td>...</td>\n",
       "    </tr>\n",
       "    <tr>\n",
       "      <th>245</th>\n",
       "      <td>2025-10-02</td>\n",
       "      <td>354.790009</td>\n",
       "    </tr>\n",
       "    <tr>\n",
       "      <th>246</th>\n",
       "      <td>2025-10-03</td>\n",
       "      <td>357.640015</td>\n",
       "    </tr>\n",
       "    <tr>\n",
       "      <th>247</th>\n",
       "      <td>2025-10-06</td>\n",
       "      <td>364.380005</td>\n",
       "    </tr>\n",
       "    <tr>\n",
       "      <th>248</th>\n",
       "      <td>2025-10-07</td>\n",
       "      <td>366.260010</td>\n",
       "    </tr>\n",
       "    <tr>\n",
       "      <th>249</th>\n",
       "      <td>2025-10-08</td>\n",
       "      <td>372.299988</td>\n",
       "    </tr>\n",
       "  </tbody>\n",
       "</table>\n",
       "<p>250 rows × 2 columns</p>\n",
       "</div>"
      ],
      "text/plain": [
       "            ds           y\n",
       "0   2024-10-09  241.050003\n",
       "1   2024-10-10  242.820007\n",
       "2   2024-10-11  245.470001\n",
       "3   2024-10-14  245.070007\n",
       "4   2024-10-15  245.919998\n",
       "..         ...         ...\n",
       "245 2025-10-02  354.790009\n",
       "246 2025-10-03  357.640015\n",
       "247 2025-10-06  364.380005\n",
       "248 2025-10-07  366.260010\n",
       "249 2025-10-08  372.299988\n",
       "\n",
       "[250 rows x 2 columns]"
      ]
     },
     "execution_count": 62,
     "metadata": {},
     "output_type": "execute_result"
    }
   ],
   "source": [
    "\n",
    "prophet_frame.columns = [\"ds\", \"y\"]\n",
    "prophet_frame[\"ds\"] = prophet_frame[\"ds\"].dt.tz_localize(None)\n",
    "prophet_frame\n"
   ]
  },
  {
   "cell_type": "code",
   "execution_count": 63,
   "id": "3591b2d1",
   "metadata": {},
   "outputs": [
    {
     "name": "stderr",
     "output_type": "stream",
     "text": [
      "INFO\tprophet:forecaster.py:parse_seasonality_args()- Disabling yearly seasonality. Run prophet with yearly_seasonality=True to override this.\n",
      "INFO\tprophet:forecaster.py:parse_seasonality_args()- Disabling daily seasonality. Run prophet with daily_seasonality=True to override this.\n",
      "DEBUG\tcmdstanpy:filesystem.py:_temp_single_json()- input tempfile: /tmp/tmpevkkp6ky/t2ushbhd.json\n",
      "DEBUG\tcmdstanpy:filesystem.py:_temp_single_json()- input tempfile: /tmp/tmpevkkp6ky/8lwjly7i.json\n",
      "DEBUG\tcmdstanpy:model.py:_run_cmdstan()- idx 0\n",
      "DEBUG\tcmdstanpy:model.py:_run_cmdstan()- running CmdStan, num_threads: None\n",
      "DEBUG\tcmdstanpy:model.py:_run_cmdstan()- CmdStan args: ['/opt/conda/envs/pycaret-env/lib/python3.10/site-packages/prophet/stan_model/prophet_model.bin', 'random', 'seed=93293', 'data', 'file=/tmp/tmpevkkp6ky/t2ushbhd.json', 'init=/tmp/tmpevkkp6ky/8lwjly7i.json', 'output', 'file=/tmp/tmpevkkp6ky/prophet_modelyjly6qm9/prophet_model-20251008234738.csv', 'method=optimize', 'algorithm=lbfgs', 'iter=10000']\n",
      "23:47:38 - cmdstanpy - INFO - Chain [1] start processing\n",
      "INFO\tcmdstanpy:model.py:_run_cmdstan()- Chain [1] start processing\n",
      "23:47:38 - cmdstanpy - INFO - Chain [1] done processing\n",
      "INFO\tcmdstanpy:model.py:_run_cmdstan()- Chain [1] done processing\n"
     ]
    },
    {
     "data": {
      "text/plain": [
       "<prophet.forecaster.Prophet at 0x708d0c85ef20>"
      ]
     },
     "execution_count": 63,
     "metadata": {},
     "output_type": "execute_result"
    }
   ],
   "source": [
    "m = Prophet()\n",
    "m.fit(prophet_frame)"
   ]
  },
  {
   "cell_type": "code",
   "execution_count": 64,
   "id": "9f9855be",
   "metadata": {},
   "outputs": [
    {
     "data": {
      "text/html": [
       "<div>\n",
       "<style scoped>\n",
       "    .dataframe tbody tr th:only-of-type {\n",
       "        vertical-align: middle;\n",
       "    }\n",
       "\n",
       "    .dataframe tbody tr th {\n",
       "        vertical-align: top;\n",
       "    }\n",
       "\n",
       "    .dataframe thead th {\n",
       "        text-align: right;\n",
       "    }\n",
       "</style>\n",
       "<table border=\"1\" class=\"dataframe\">\n",
       "  <thead>\n",
       "    <tr style=\"text-align: right;\">\n",
       "      <th></th>\n",
       "      <th>ds</th>\n",
       "    </tr>\n",
       "  </thead>\n",
       "  <tbody>\n",
       "    <tr>\n",
       "      <th>610</th>\n",
       "      <td>2026-10-04</td>\n",
       "    </tr>\n",
       "    <tr>\n",
       "      <th>611</th>\n",
       "      <td>2026-10-05</td>\n",
       "    </tr>\n",
       "    <tr>\n",
       "      <th>612</th>\n",
       "      <td>2026-10-06</td>\n",
       "    </tr>\n",
       "    <tr>\n",
       "      <th>613</th>\n",
       "      <td>2026-10-07</td>\n",
       "    </tr>\n",
       "    <tr>\n",
       "      <th>614</th>\n",
       "      <td>2026-10-08</td>\n",
       "    </tr>\n",
       "  </tbody>\n",
       "</table>\n",
       "</div>"
      ],
      "text/plain": [
       "            ds\n",
       "610 2026-10-04\n",
       "611 2026-10-05\n",
       "612 2026-10-06\n",
       "613 2026-10-07\n",
       "614 2026-10-08"
      ]
     },
     "execution_count": 64,
     "metadata": {},
     "output_type": "execute_result"
    }
   ],
   "source": [
    "future = m.make_future_dataframe(periods=365)\n",
    "future.tail()"
   ]
  },
  {
   "cell_type": "code",
   "execution_count": 65,
   "id": "e0bdca88",
   "metadata": {},
   "outputs": [
    {
     "data": {
      "text/html": [
       "<div>\n",
       "<style scoped>\n",
       "    .dataframe tbody tr th:only-of-type {\n",
       "        vertical-align: middle;\n",
       "    }\n",
       "\n",
       "    .dataframe tbody tr th {\n",
       "        vertical-align: top;\n",
       "    }\n",
       "\n",
       "    .dataframe thead th {\n",
       "        text-align: right;\n",
       "    }\n",
       "</style>\n",
       "<table border=\"1\" class=\"dataframe\">\n",
       "  <thead>\n",
       "    <tr style=\"text-align: right;\">\n",
       "      <th></th>\n",
       "      <th>ds</th>\n",
       "      <th>yhat</th>\n",
       "      <th>yhat_lower</th>\n",
       "      <th>yhat_upper</th>\n",
       "    </tr>\n",
       "  </thead>\n",
       "  <tbody>\n",
       "    <tr>\n",
       "      <th>610</th>\n",
       "      <td>2026-10-04</td>\n",
       "      <td>612.822161</td>\n",
       "      <td>464.438086</td>\n",
       "      <td>757.723252</td>\n",
       "    </tr>\n",
       "    <tr>\n",
       "      <th>611</th>\n",
       "      <td>2026-10-05</td>\n",
       "      <td>618.665236</td>\n",
       "      <td>470.233196</td>\n",
       "      <td>760.915140</td>\n",
       "    </tr>\n",
       "    <tr>\n",
       "      <th>612</th>\n",
       "      <td>2026-10-06</td>\n",
       "      <td>619.858497</td>\n",
       "      <td>470.881670</td>\n",
       "      <td>763.628437</td>\n",
       "    </tr>\n",
       "    <tr>\n",
       "      <th>613</th>\n",
       "      <td>2026-10-07</td>\n",
       "      <td>620.342151</td>\n",
       "      <td>469.317892</td>\n",
       "      <td>767.162118</td>\n",
       "    </tr>\n",
       "    <tr>\n",
       "      <th>614</th>\n",
       "      <td>2026-10-08</td>\n",
       "      <td>620.622297</td>\n",
       "      <td>471.924900</td>\n",
       "      <td>767.388694</td>\n",
       "    </tr>\n",
       "  </tbody>\n",
       "</table>\n",
       "</div>"
      ],
      "text/plain": [
       "            ds        yhat  yhat_lower  yhat_upper\n",
       "610 2026-10-04  612.822161  464.438086  757.723252\n",
       "611 2026-10-05  618.665236  470.233196  760.915140\n",
       "612 2026-10-06  619.858497  470.881670  763.628437\n",
       "613 2026-10-07  620.342151  469.317892  767.162118\n",
       "614 2026-10-08  620.622297  471.924900  767.388694"
      ]
     },
     "execution_count": 65,
     "metadata": {},
     "output_type": "execute_result"
    }
   ],
   "source": [
    "forecast = m.predict(future)\n",
    "forecast[['ds', 'yhat', 'yhat_lower', 'yhat_upper']].tail()"
   ]
  },
  {
   "cell_type": "code",
   "execution_count": 66,
   "id": "f829a7c3",
   "metadata": {},
   "outputs": [
    {
     "name": "stderr",
     "output_type": "stream",
     "text": [
      "WARNING\tmatplotlib.font_manager:font_manager.py:_find_fonts_by_props()- findfont: Generic family 'sans-serif' not found because none of the following families were found: Arial, Liberation Sans, Bitstream Vera Sans, sans-serif\n",
      "WARNING\tmatplotlib.font_manager:font_manager.py:_find_fonts_by_props()- findfont: Generic family 'sans-serif' not found because none of the following families were found: Arial, Liberation Sans, Bitstream Vera Sans, sans-serif\n",
      "WARNING\tmatplotlib.font_manager:font_manager.py:_find_fonts_by_props()- findfont: Generic family 'sans-serif' not found because none of the following families were found: Arial, Liberation Sans, Bitstream Vera Sans, sans-serif\n",
      "WARNING\tmatplotlib.font_manager:font_manager.py:_find_fonts_by_props()- findfont: Generic family 'sans-serif' not found because none of the following families were found: Arial, Liberation Sans, Bitstream Vera Sans, sans-serif\n",
      "WARNING\tmatplotlib.font_manager:font_manager.py:_find_fonts_by_props()- findfont: Generic family 'sans-serif' not found because none of the following families were found: Arial, Liberation Sans, Bitstream Vera Sans, sans-serif\n",
      "WARNING\tmatplotlib.font_manager:font_manager.py:_find_fonts_by_props()- findfont: Generic family 'sans-serif' not found because none of the following families were found: Arial, Liberation Sans, Bitstream Vera Sans, sans-serif\n",
      "WARNING\tmatplotlib.font_manager:font_manager.py:_find_fonts_by_props()- findfont: Generic family 'sans-serif' not found because none of the following families were found: Arial, Liberation Sans, Bitstream Vera Sans, sans-serif\n",
      "WARNING\tmatplotlib.font_manager:font_manager.py:_find_fonts_by_props()- findfont: Generic family 'sans-serif' not found because none of the following families were found: Arial, Liberation Sans, Bitstream Vera Sans, sans-serif\n",
      "WARNING\tmatplotlib.font_manager:font_manager.py:_find_fonts_by_props()- findfont: Generic family 'sans-serif' not found because none of the following families were found: Arial, Liberation Sans, Bitstream Vera Sans, sans-serif\n",
      "WARNING\tmatplotlib.font_manager:font_manager.py:_find_fonts_by_props()- findfont: Generic family 'sans-serif' not found because none of the following families were found: Arial, Liberation Sans, Bitstream Vera Sans, sans-serif\n",
      "WARNING\tmatplotlib.font_manager:font_manager.py:_find_fonts_by_props()- findfont: Generic family 'sans-serif' not found because none of the following families were found: Arial, Liberation Sans, Bitstream Vera Sans, sans-serif\n",
      "WARNING\tmatplotlib.font_manager:font_manager.py:_find_fonts_by_props()- findfont: Generic family 'sans-serif' not found because none of the following families were found: Arial, Liberation Sans, Bitstream Vera Sans, sans-serif\n",
      "WARNING\tmatplotlib.font_manager:font_manager.py:_find_fonts_by_props()- findfont: Generic family 'sans-serif' not found because none of the following families were found: Arial, Liberation Sans, Bitstream Vera Sans, sans-serif\n",
      "WARNING\tmatplotlib.font_manager:font_manager.py:_find_fonts_by_props()- findfont: Generic family 'sans-serif' not found because none of the following families were found: Arial, Liberation Sans, Bitstream Vera Sans, sans-serif\n",
      "WARNING\tmatplotlib.font_manager:font_manager.py:_find_fonts_by_props()- findfont: Generic family 'sans-serif' not found because none of the following families were found: Arial, Liberation Sans, Bitstream Vera Sans, sans-serif\n",
      "WARNING\tmatplotlib.font_manager:font_manager.py:_find_fonts_by_props()- findfont: Generic family 'sans-serif' not found because none of the following families were found: Arial, Liberation Sans, Bitstream Vera Sans, sans-serif\n",
      "WARNING\tmatplotlib.font_manager:font_manager.py:_find_fonts_by_props()- findfont: Generic family 'sans-serif' not found because none of the following families were found: Arial, Liberation Sans, Bitstream Vera Sans, sans-serif\n",
      "WARNING\tmatplotlib.font_manager:font_manager.py:_find_fonts_by_props()- findfont: Generic family 'sans-serif' not found because none of the following families were found: Arial, Liberation Sans, Bitstream Vera Sans, sans-serif\n",
      "WARNING\tmatplotlib.font_manager:font_manager.py:_find_fonts_by_props()- findfont: Generic family 'sans-serif' not found because none of the following families were found: Arial, Liberation Sans, Bitstream Vera Sans, sans-serif\n",
      "WARNING\tmatplotlib.font_manager:font_manager.py:_find_fonts_by_props()- findfont: Generic family 'sans-serif' not found because none of the following families were found: Arial, Liberation Sans, Bitstream Vera Sans, sans-serif\n",
      "WARNING\tmatplotlib.font_manager:font_manager.py:_find_fonts_by_props()- findfont: Generic family 'sans-serif' not found because none of the following families were found: Arial, Liberation Sans, Bitstream Vera Sans, sans-serif\n",
      "WARNING\tmatplotlib.font_manager:font_manager.py:_find_fonts_by_props()- findfont: Generic family 'sans-serif' not found because none of the following families were found: Arial, Liberation Sans, Bitstream Vera Sans, sans-serif\n",
      "WARNING\tmatplotlib.font_manager:font_manager.py:_find_fonts_by_props()- findfont: Generic family 'sans-serif' not found because none of the following families were found: Arial, Liberation Sans, Bitstream Vera Sans, sans-serif\n",
      "WARNING\tmatplotlib.font_manager:font_manager.py:_find_fonts_by_props()- findfont: Generic family 'sans-serif' not found because none of the following families were found: Arial, Liberation Sans, Bitstream Vera Sans, sans-serif\n",
      "WARNING\tmatplotlib.font_manager:font_manager.py:_find_fonts_by_props()- findfont: Generic family 'sans-serif' not found because none of the following families were found: Arial, Liberation Sans, Bitstream Vera Sans, sans-serif\n",
      "WARNING\tmatplotlib.font_manager:font_manager.py:_find_fonts_by_props()- findfont: Generic family 'sans-serif' not found because none of the following families were found: Arial, Liberation Sans, Bitstream Vera Sans, sans-serif\n",
      "WARNING\tmatplotlib.font_manager:font_manager.py:_find_fonts_by_props()- findfont: Generic family 'sans-serif' not found because none of the following families were found: Arial, Liberation Sans, Bitstream Vera Sans, sans-serif\n",
      "WARNING\tmatplotlib.font_manager:font_manager.py:_find_fonts_by_props()- findfont: Generic family 'sans-serif' not found because none of the following families were found: Arial, Liberation Sans, Bitstream Vera Sans, sans-serif\n",
      "WARNING\tmatplotlib.font_manager:font_manager.py:_find_fonts_by_props()- findfont: Generic family 'sans-serif' not found because none of the following families were found: Arial, Liberation Sans, Bitstream Vera Sans, sans-serif\n",
      "WARNING\tmatplotlib.font_manager:font_manager.py:_find_fonts_by_props()- findfont: Generic family 'sans-serif' not found because none of the following families were found: Arial, Liberation Sans, Bitstream Vera Sans, sans-serif\n",
      "WARNING\tmatplotlib.font_manager:font_manager.py:_find_fonts_by_props()- findfont: Generic family 'sans-serif' not found because none of the following families were found: Arial, Liberation Sans, Bitstream Vera Sans, sans-serif\n",
      "WARNING\tmatplotlib.font_manager:font_manager.py:_find_fonts_by_props()- findfont: Generic family 'sans-serif' not found because none of the following families were found: Arial, Liberation Sans, Bitstream Vera Sans, sans-serif\n",
      "WARNING\tmatplotlib.font_manager:font_manager.py:_find_fonts_by_props()- findfont: Generic family 'sans-serif' not found because none of the following families were found: Arial, Liberation Sans, Bitstream Vera Sans, sans-serif\n",
      "WARNING\tmatplotlib.font_manager:font_manager.py:_find_fonts_by_props()- findfont: Generic family 'sans-serif' not found because none of the following families were found: Arial, Liberation Sans, Bitstream Vera Sans, sans-serif\n",
      "WARNING\tmatplotlib.font_manager:font_manager.py:_find_fonts_by_props()- findfont: Generic family 'sans-serif' not found because none of the following families were found: Arial, Liberation Sans, Bitstream Vera Sans, sans-serif\n",
      "WARNING\tmatplotlib.font_manager:font_manager.py:_find_fonts_by_props()- findfont: Generic family 'sans-serif' not found because none of the following families were found: Arial, Liberation Sans, Bitstream Vera Sans, sans-serif\n",
      "WARNING\tmatplotlib.font_manager:font_manager.py:_find_fonts_by_props()- findfont: Generic family 'sans-serif' not found because none of the following families were found: Arial, Liberation Sans, Bitstream Vera Sans, sans-serif\n",
      "WARNING\tmatplotlib.font_manager:font_manager.py:_find_fonts_by_props()- findfont: Generic family 'sans-serif' not found because none of the following families were found: Arial, Liberation Sans, Bitstream Vera Sans, sans-serif\n",
      "WARNING\tmatplotlib.font_manager:font_manager.py:_find_fonts_by_props()- findfont: Generic family 'sans-serif' not found because none of the following families were found: Arial, Liberation Sans, Bitstream Vera Sans, sans-serif\n",
      "WARNING\tmatplotlib.font_manager:font_manager.py:_find_fonts_by_props()- findfont: Generic family 'sans-serif' not found because none of the following families were found: Arial, Liberation Sans, Bitstream Vera Sans, sans-serif\n",
      "WARNING\tmatplotlib.font_manager:font_manager.py:_find_fonts_by_props()- findfont: Generic family 'sans-serif' not found because none of the following families were found: Arial, Liberation Sans, Bitstream Vera Sans, sans-serif\n",
      "WARNING\tmatplotlib.font_manager:font_manager.py:_find_fonts_by_props()- findfont: Generic family 'sans-serif' not found because none of the following families were found: Arial, Liberation Sans, Bitstream Vera Sans, sans-serif\n",
      "WARNING\tmatplotlib.font_manager:font_manager.py:_find_fonts_by_props()- findfont: Generic family 'sans-serif' not found because none of the following families were found: Arial, Liberation Sans, Bitstream Vera Sans, sans-serif\n",
      "WARNING\tmatplotlib.font_manager:font_manager.py:_find_fonts_by_props()- findfont: Generic family 'sans-serif' not found because none of the following families were found: Arial, Liberation Sans, Bitstream Vera Sans, sans-serif\n",
      "WARNING\tmatplotlib.font_manager:font_manager.py:_find_fonts_by_props()- findfont: Generic family 'sans-serif' not found because none of the following families were found: Arial, Liberation Sans, Bitstream Vera Sans, sans-serif\n",
      "WARNING\tmatplotlib.font_manager:font_manager.py:_find_fonts_by_props()- findfont: Generic family 'sans-serif' not found because none of the following families were found: Arial, Liberation Sans, Bitstream Vera Sans, sans-serif\n",
      "WARNING\tmatplotlib.font_manager:font_manager.py:_find_fonts_by_props()- findfont: Generic family 'sans-serif' not found because none of the following families were found: Arial, Liberation Sans, Bitstream Vera Sans, sans-serif\n",
      "WARNING\tmatplotlib.font_manager:font_manager.py:_find_fonts_by_props()- findfont: Generic family 'sans-serif' not found because none of the following families were found: Arial, Liberation Sans, Bitstream Vera Sans, sans-serif\n",
      "WARNING\tmatplotlib.font_manager:font_manager.py:_find_fonts_by_props()- findfont: Generic family 'sans-serif' not found because none of the following families were found: Arial, Liberation Sans, Bitstream Vera Sans, sans-serif\n",
      "WARNING\tmatplotlib.font_manager:font_manager.py:_find_fonts_by_props()- findfont: Generic family 'sans-serif' not found because none of the following families were found: Arial, Liberation Sans, Bitstream Vera Sans, sans-serif\n",
      "WARNING\tmatplotlib.font_manager:font_manager.py:_find_fonts_by_props()- findfont: Generic family 'sans-serif' not found because none of the following families were found: Arial, Liberation Sans, Bitstream Vera Sans, sans-serif\n",
      "WARNING\tmatplotlib.font_manager:font_manager.py:_find_fonts_by_props()- findfont: Generic family 'sans-serif' not found because none of the following families were found: Arial, Liberation Sans, Bitstream Vera Sans, sans-serif\n",
      "WARNING\tmatplotlib.font_manager:font_manager.py:_find_fonts_by_props()- findfont: Generic family 'sans-serif' not found because none of the following families were found: Arial, Liberation Sans, Bitstream Vera Sans, sans-serif\n",
      "WARNING\tmatplotlib.font_manager:font_manager.py:_find_fonts_by_props()- findfont: Generic family 'sans-serif' not found because none of the following families were found: Arial, Liberation Sans, Bitstream Vera Sans, sans-serif\n",
      "WARNING\tmatplotlib.font_manager:font_manager.py:_find_fonts_by_props()- findfont: Generic family 'sans-serif' not found because none of the following families were found: Arial, Liberation Sans, Bitstream Vera Sans, sans-serif\n",
      "WARNING\tmatplotlib.font_manager:font_manager.py:_find_fonts_by_props()- findfont: Generic family 'sans-serif' not found because none of the following families were found: Arial, Liberation Sans, Bitstream Vera Sans, sans-serif\n",
      "WARNING\tmatplotlib.font_manager:font_manager.py:_find_fonts_by_props()- findfont: Generic family 'sans-serif' not found because none of the following families were found: Arial, Liberation Sans, Bitstream Vera Sans, sans-serif\n",
      "WARNING\tmatplotlib.font_manager:font_manager.py:_find_fonts_by_props()- findfont: Generic family 'sans-serif' not found because none of the following families were found: Arial, Liberation Sans, Bitstream Vera Sans, sans-serif\n",
      "WARNING\tmatplotlib.font_manager:font_manager.py:_find_fonts_by_props()- findfont: Generic family 'sans-serif' not found because none of the following families were found: Arial, Liberation Sans, Bitstream Vera Sans, sans-serif\n",
      "WARNING\tmatplotlib.font_manager:font_manager.py:_find_fonts_by_props()- findfont: Generic family 'sans-serif' not found because none of the following families were found: Arial, Liberation Sans, Bitstream Vera Sans, sans-serif\n",
      "WARNING\tmatplotlib.font_manager:font_manager.py:_find_fonts_by_props()- findfont: Generic family 'sans-serif' not found because none of the following families were found: Arial, Liberation Sans, Bitstream Vera Sans, sans-serif\n",
      "WARNING\tmatplotlib.font_manager:font_manager.py:_find_fonts_by_props()- findfont: Generic family 'sans-serif' not found because none of the following families were found: Arial, Liberation Sans, Bitstream Vera Sans, sans-serif\n",
      "WARNING\tmatplotlib.font_manager:font_manager.py:_find_fonts_by_props()- findfont: Generic family 'sans-serif' not found because none of the following families were found: Arial, Liberation Sans, Bitstream Vera Sans, sans-serif\n",
      "WARNING\tmatplotlib.font_manager:font_manager.py:_find_fonts_by_props()- findfont: Generic family 'sans-serif' not found because none of the following families were found: Arial, Liberation Sans, Bitstream Vera Sans, sans-serif\n"
     ]
    },
    {
     "data": {
      "image/png": "[encoded data removed]",
      "text/plain": [
       "<Figure size 1000x600 with 1 Axes>"
      ]
     },
     "metadata": {},
     "output_type": "display_data"
    }
   ],
   "source": [
    "fig1 = m.plot(forecast)\n"
   ]
  },
  {
   "cell_type": "code",
   "execution_count": 25,
   "id": "57c9058c",
   "metadata": {},
   "outputs": [],
   "source": [
    "data  = oro_data[\"Close\"]\n",
    "data = data.asfreq('D') \n",
    "data.fillna(method = \"ffill\", inplace = True)"
   ]
  },
  {
   "cell_type": "code",
   "execution_count": 26,
   "id": "235f3533",
   "metadata": {},
   "outputs": [
    {
     "data": {
      "text/plain": [
       "<Axes: xlabel='Date'>"
      ]
     },
     "execution_count": 26,
     "metadata": {},
     "output_type": "execute_result"
    },
    {
     "name": "stderr",
     "output_type": "stream",
     "text": [
      "WARNING\tmatplotlib.font_manager:font_manager.py:_find_fonts_by_props()- findfont: Generic family 'sans-serif' not found because none of the following families were found: Arial, Liberation Sans, Bitstream Vera Sans, sans-serif\n",
      "WARNING\tmatplotlib.font_manager:font_manager.py:_find_fonts_by_props()- findfont: Generic family 'sans-serif' not found because none of the following families were found: Arial, Liberation Sans, Bitstream Vera Sans, sans-serif\n",
      "WARNING\tmatplotlib.font_manager:font_manager.py:_find_fonts_by_props()- findfont: Generic family 'sans-serif' not found because none of the following families were found: Arial, Liberation Sans, Bitstream Vera Sans, sans-serif\n",
      "WARNING\tmatplotlib.font_manager:font_manager.py:_find_fonts_by_props()- findfont: Generic family 'sans-serif' not found because none of the following families were found: Arial, Liberation Sans, Bitstream Vera Sans, sans-serif\n",
      "WARNING\tmatplotlib.font_manager:font_manager.py:_find_fonts_by_props()- findfont: Generic family 'sans-serif' not found because none of the following families were found: Arial, Liberation Sans, Bitstream Vera Sans, sans-serif\n",
      "WARNING\tmatplotlib.font_manager:font_manager.py:_find_fonts_by_props()- findfont: Generic family 'sans-serif' not found because none of the following families were found: Arial, Liberation Sans, Bitstream Vera Sans, sans-serif\n",
      "WARNING\tmatplotlib.font_manager:font_manager.py:_find_fonts_by_props()- findfont: Generic family 'sans-serif' not found because none of the following families were found: Arial, Liberation Sans, Bitstream Vera Sans, sans-serif\n",
      "WARNING\tmatplotlib.font_manager:font_manager.py:_find_fonts_by_props()- findfont: Generic family 'sans-serif' not found because none of the following families were found: Arial, Liberation Sans, Bitstream Vera Sans, sans-serif\n",
      "WARNING\tmatplotlib.font_manager:font_manager.py:_find_fonts_by_props()- findfont: Generic family 'sans-serif' not found because none of the following families were found: Arial, Liberation Sans, Bitstream Vera Sans, sans-serif\n",
      "WARNING\tmatplotlib.font_manager:font_manager.py:_find_fonts_by_props()- findfont: Generic family 'sans-serif' not found because none of the following families were found: Arial, Liberation Sans, Bitstream Vera Sans, sans-serif\n",
      "WARNING\tmatplotlib.font_manager:font_manager.py:_find_fonts_by_props()- findfont: Generic family 'sans-serif' not found because none of the following families were found: Arial, Liberation Sans, Bitstream Vera Sans, sans-serif\n",
      "WARNING\tmatplotlib.font_manager:font_manager.py:_find_fonts_by_props()- findfont: Generic family 'sans-serif' not found because none of the following families were found: Arial, Liberation Sans, Bitstream Vera Sans, sans-serif\n",
      "WARNING\tmatplotlib.font_manager:font_manager.py:_find_fonts_by_props()- findfont: Generic family 'sans-serif' not found because none of the following families were found: Arial, Liberation Sans, Bitstream Vera Sans, sans-serif\n",
      "WARNING\tmatplotlib.font_manager:font_manager.py:_find_fonts_by_props()- findfont: Generic family 'sans-serif' not found because none of the following families were found: Arial, Liberation Sans, Bitstream Vera Sans, sans-serif\n",
      "WARNING\tmatplotlib.font_manager:font_manager.py:_find_fonts_by_props()- findfont: Generic family 'sans-serif' not found because none of the following families were found: Arial, Liberation Sans, Bitstream Vera Sans, sans-serif\n",
      "WARNING\tmatplotlib.font_manager:font_manager.py:_find_fonts_by_props()- findfont: Generic family 'sans-serif' not found because none of the following families were found: Arial, Liberation Sans, Bitstream Vera Sans, sans-serif\n",
      "WARNING\tmatplotlib.font_manager:font_manager.py:_find_fonts_by_props()- findfont: Generic family 'sans-serif' not found because none of the following families were found: Arial, Liberation Sans, Bitstream Vera Sans, sans-serif\n",
      "WARNING\tmatplotlib.font_manager:font_manager.py:_find_fonts_by_props()- findfont: Generic family 'sans-serif' not found because none of the following families were found: Arial, Liberation Sans, Bitstream Vera Sans, sans-serif\n",
      "WARNING\tmatplotlib.font_manager:font_manager.py:_find_fonts_by_props()- findfont: Generic family 'sans-serif' not found because none of the following families were found: Arial, Liberation Sans, Bitstream Vera Sans, sans-serif\n",
      "WARNING\tmatplotlib.font_manager:font_manager.py:_find_fonts_by_props()- findfont: Generic family 'sans-serif' not found because none of the following families were found: Arial, Liberation Sans, Bitstream Vera Sans, sans-serif\n",
      "WARNING\tmatplotlib.font_manager:font_manager.py:_find_fonts_by_props()- findfont: Generic family 'sans-serif' not found because none of the following families were found: Arial, Liberation Sans, Bitstream Vera Sans, sans-serif\n",
      "WARNING\tmatplotlib.font_manager:font_manager.py:_find_fonts_by_props()- findfont: Generic family 'sans-serif' not found because none of the following families were found: Arial, Liberation Sans, Bitstream Vera Sans, sans-serif\n",
      "WARNING\tmatplotlib.font_manager:font_manager.py:_find_fonts_by_props()- findfont: Generic family 'sans-serif' not found because none of the following families were found: Arial, Liberation Sans, Bitstream Vera Sans, sans-serif\n",
      "WARNING\tmatplotlib.font_manager:font_manager.py:_find_fonts_by_props()- findfont: Generic family 'sans-serif' not found because none of the following families were found: Arial, Liberation Sans, Bitstream Vera Sans, sans-serif\n",
      "WARNING\tmatplotlib.font_manager:font_manager.py:_find_fonts_by_props()- findfont: Generic family 'sans-serif' not found because none of the following families were found: Arial, Liberation Sans, Bitstream Vera Sans, sans-serif\n",
      "WARNING\tmatplotlib.font_manager:font_manager.py:_find_fonts_by_props()- findfont: Generic family 'sans-serif' not found because none of the following families were found: Arial, Liberation Sans, Bitstream Vera Sans, sans-serif\n",
      "WARNING\tmatplotlib.font_manager:font_manager.py:_find_fonts_by_props()- findfont: Generic family 'sans-serif' not found because none of the following families were found: Arial, Liberation Sans, Bitstream Vera Sans, sans-serif\n",
      "WARNING\tmatplotlib.font_manager:font_manager.py:_find_fonts_by_props()- findfont: Generic family 'sans-serif' not found because none of the following families were found: Arial, Liberation Sans, Bitstream Vera Sans, sans-serif\n",
      "WARNING\tmatplotlib.font_manager:font_manager.py:_find_fonts_by_props()- findfont: Generic family 'sans-serif' not found because none of the following families were found: Arial, Liberation Sans, Bitstream Vera Sans, sans-serif\n",
      "WARNING\tmatplotlib.font_manager:font_manager.py:_find_fonts_by_props()- findfont: Generic family 'sans-serif' not found because none of the following families were found: Arial, Liberation Sans, Bitstream Vera Sans, sans-serif\n",
      "WARNING\tmatplotlib.font_manager:font_manager.py:_find_fonts_by_props()- findfont: Generic family 'sans-serif' not found because none of the following families were found: Arial, Liberation Sans, Bitstream Vera Sans, sans-serif\n",
      "WARNING\tmatplotlib.font_manager:font_manager.py:_find_fonts_by_props()- findfont: Generic family 'sans-serif' not found because none of the following families were found: Arial, Liberation Sans, Bitstream Vera Sans, sans-serif\n",
      "WARNING\tmatplotlib.font_manager:font_manager.py:_find_fonts_by_props()- findfont: Generic family 'sans-serif' not found because none of the following families were found: Arial, Liberation Sans, Bitstream Vera Sans, sans-serif\n",
      "WARNING\tmatplotlib.font_manager:font_manager.py:_find_fonts_by_props()- findfont: Generic family 'sans-serif' not found because none of the following families were found: Arial, Liberation Sans, Bitstream Vera Sans, sans-serif\n",
      "WARNING\tmatplotlib.font_manager:font_manager.py:_find_fonts_by_props()- findfont: Generic family 'sans-serif' not found because none of the following families were found: Arial, Liberation Sans, Bitstream Vera Sans, sans-serif\n",
      "WARNING\tmatplotlib.font_manager:font_manager.py:_find_fonts_by_props()- findfont: Generic family 'sans-serif' not found because none of the following families were found: Arial, Liberation Sans, Bitstream Vera Sans, sans-serif\n",
      "WARNING\tmatplotlib.font_manager:font_manager.py:_find_fonts_by_props()- findfont: Generic family 'sans-serif' not found because none of the following families were found: Arial, Liberation Sans, Bitstream Vera Sans, sans-serif\n",
      "WARNING\tmatplotlib.font_manager:font_manager.py:_find_fonts_by_props()- findfont: Generic family 'sans-serif' not found because none of the following families were found: Arial, Liberation Sans, Bitstream Vera Sans, sans-serif\n",
      "WARNING\tmatplotlib.font_manager:font_manager.py:_find_fonts_by_props()- findfont: Generic family 'sans-serif' not found because none of the following families were found: Arial, Liberation Sans, Bitstream Vera Sans, sans-serif\n",
      "WARNING\tmatplotlib.font_manager:font_manager.py:_find_fonts_by_props()- findfont: Generic family 'sans-serif' not found because none of the following families were found: Arial, Liberation Sans, Bitstream Vera Sans, sans-serif\n",
      "WARNING\tmatplotlib.font_manager:font_manager.py:_find_fonts_by_props()- findfont: Generic family 'sans-serif' not found because none of the following families were found: Arial, Liberation Sans, Bitstream Vera Sans, sans-serif\n",
      "WARNING\tmatplotlib.font_manager:font_manager.py:_find_fonts_by_props()- findfont: Generic family 'sans-serif' not found because none of the following families were found: Arial, Liberation Sans, Bitstream Vera Sans, sans-serif\n",
      "WARNING\tmatplotlib.font_manager:font_manager.py:_find_fonts_by_props()- findfont: Generic family 'sans-serif' not found because none of the following families were found: Arial, Liberation Sans, Bitstream Vera Sans, sans-serif\n",
      "WARNING\tmatplotlib.font_manager:font_manager.py:_find_fonts_by_props()- findfont: Generic family 'sans-serif' not found because none of the following families were found: Arial, Liberation Sans, Bitstream Vera Sans, sans-serif\n",
      "WARNING\tmatplotlib.font_manager:font_manager.py:_find_fonts_by_props()- findfont: Generic family 'sans-serif' not found because none of the following families were found: Arial, Liberation Sans, Bitstream Vera Sans, sans-serif\n",
      "WARNING\tmatplotlib.font_manager:font_manager.py:_find_fonts_by_props()- findfont: Generic family 'sans-serif' not found because none of the following families were found: Arial, Liberation Sans, Bitstream Vera Sans, sans-serif\n",
      "WARNING\tmatplotlib.font_manager:font_manager.py:_find_fonts_by_props()- findfont: Generic family 'sans-serif' not found because none of the following families were found: Arial, Liberation Sans, Bitstream Vera Sans, sans-serif\n",
      "WARNING\tmatplotlib.font_manager:font_manager.py:_find_fonts_by_props()- findfont: Generic family 'sans-serif' not found because none of the following families were found: Arial, Liberation Sans, Bitstream Vera Sans, sans-serif\n",
      "WARNING\tmatplotlib.font_manager:font_manager.py:_find_fonts_by_props()- findfont: Generic family 'sans-serif' not found because none of the following families were found: Arial, Liberation Sans, Bitstream Vera Sans, sans-serif\n",
      "WARNING\tmatplotlib.font_manager:font_manager.py:_find_fonts_by_props()- findfont: Generic family 'sans-serif' not found because none of the following families were found: Arial, Liberation Sans, Bitstream Vera Sans, sans-serif\n",
      "WARNING\tmatplotlib.font_manager:font_manager.py:_find_fonts_by_props()- findfont: Generic family 'sans-serif' not found because none of the following families were found: Arial, Liberation Sans, Bitstream Vera Sans, sans-serif\n",
      "WARNING\tmatplotlib.font_manager:font_manager.py:_find_fonts_by_props()- findfont: Generic family 'sans-serif' not found because none of the following families were found: Arial, Liberation Sans, Bitstream Vera Sans, sans-serif\n",
      "WARNING\tmatplotlib.font_manager:font_manager.py:_find_fonts_by_props()- findfont: Generic family 'sans-serif' not found because none of the following families were found: Arial, Liberation Sans, Bitstream Vera Sans, sans-serif\n",
      "WARNING\tmatplotlib.font_manager:font_manager.py:_find_fonts_by_props()- findfont: Generic family 'sans-serif' not found because none of the following families were found: Arial, Liberation Sans, Bitstream Vera Sans, sans-serif\n",
      "WARNING\tmatplotlib.font_manager:font_manager.py:_find_fonts_by_props()- findfont: Generic family 'sans-serif' not found because none of the following families were found: Arial, Liberation Sans, Bitstream Vera Sans, sans-serif\n",
      "WARNING\tmatplotlib.font_manager:font_manager.py:_find_fonts_by_props()- findfont: Generic family 'sans-serif' not found because none of the following families were found: Arial, Liberation Sans, Bitstream Vera Sans, sans-serif\n",
      "WARNING\tmatplotlib.font_manager:font_manager.py:_find_fonts_by_props()- findfont: Generic family 'sans-serif' not found because none of the following families were found: Arial, Liberation Sans, Bitstream Vera Sans, sans-serif\n",
      "WARNING\tmatplotlib.font_manager:font_manager.py:_find_fonts_by_props()- findfont: Generic family 'sans-serif' not found because none of the following families were found: Arial, Liberation Sans, Bitstream Vera Sans, sans-serif\n",
      "WARNING\tmatplotlib.font_manager:font_manager.py:_find_fonts_by_props()- findfont: Generic family 'sans-serif' not found because none of the following families were found: Arial, Liberation Sans, Bitstream Vera Sans, sans-serif\n",
      "WARNING\tmatplotlib.font_manager:font_manager.py:_find_fonts_by_props()- findfont: Generic family 'sans-serif' not found because none of the following families were found: Arial, Liberation Sans, Bitstream Vera Sans, sans-serif\n",
      "WARNING\tmatplotlib.font_manager:font_manager.py:_find_fonts_by_props()- findfont: Generic family 'sans-serif' not found because none of the following families were found: Arial, Liberation Sans, Bitstream Vera Sans, sans-serif\n",
      "WARNING\tmatplotlib.font_manager:font_manager.py:_find_fonts_by_props()- findfont: Generic family 'sans-serif' not found because none of the following families were found: Arial, Liberation Sans, Bitstream Vera Sans, sans-serif\n",
      "WARNING\tmatplotlib.font_manager:font_manager.py:_find_fonts_by_props()- findfont: Generic family 'sans-serif' not found because none of the following families were found: Arial, Liberation Sans, Bitstream Vera Sans, sans-serif\n",
      "WARNING\tmatplotlib.font_manager:font_manager.py:_find_fonts_by_props()- findfont: Generic family 'sans-serif' not found because none of the following families were found: Arial, Liberation Sans, Bitstream Vera Sans, sans-serif\n",
      "WARNING\tmatplotlib.font_manager:font_manager.py:_find_fonts_by_props()- findfont: Generic family 'sans-serif' not found because none of the following families were found: Arial, Liberation Sans, Bitstream Vera Sans, sans-serif\n",
      "WARNING\tmatplotlib.font_manager:font_manager.py:_find_fonts_by_props()- findfont: Generic family 'sans-serif' not found because none of the following families were found: Arial, Liberation Sans, Bitstream Vera Sans, sans-serif\n",
      "WARNING\tmatplotlib.font_manager:font_manager.py:_find_fonts_by_props()- findfont: Generic family 'sans-serif' not found because none of the following families were found: Arial, Liberation Sans, Bitstream Vera Sans, sans-serif\n",
      "WARNING\tmatplotlib.font_manager:font_manager.py:_find_fonts_by_props()- findfont: Generic family 'sans-serif' not found because none of the following families were found: Arial, Liberation Sans, Bitstream Vera Sans, sans-serif\n",
      "WARNING\tmatplotlib.font_manager:font_manager.py:_find_fonts_by_props()- findfont: Generic family 'sans-serif' not found because none of the following families were found: Arial, Liberation Sans, Bitstream Vera Sans, sans-serif\n",
      "WARNING\tmatplotlib.font_manager:font_manager.py:_find_fonts_by_props()- findfont: Generic family 'sans-serif' not found because none of the following families were found: Arial, Liberation Sans, Bitstream Vera Sans, sans-serif\n",
      "WARNING\tmatplotlib.font_manager:font_manager.py:_find_fonts_by_props()- findfont: Generic family 'sans-serif' not found because none of the following families were found: Arial, Liberation Sans, Bitstream Vera Sans, sans-serif\n",
      "WARNING\tmatplotlib.font_manager:font_manager.py:_find_fonts_by_props()- findfont: Generic family 'sans-serif' not found because none of the following families were found: Arial, Liberation Sans, Bitstream Vera Sans, sans-serif\n",
      "WARNING\tmatplotlib.font_manager:font_manager.py:_find_fonts_by_props()- findfont: Generic family 'sans-serif' not found because none of the following families were found: Arial, Liberation Sans, Bitstream Vera Sans, sans-serif\n",
      "WARNING\tmatplotlib.font_manager:font_manager.py:_find_fonts_by_props()- findfont: Generic family 'sans-serif' not found because none of the following families were found: Arial, Liberation Sans, Bitstream Vera Sans, sans-serif\n",
      "WARNING\tmatplotlib.font_manager:font_manager.py:_find_fonts_by_props()- findfont: Generic family 'sans-serif' not found because none of the following families were found: Arial, Liberation Sans, Bitstream Vera Sans, sans-serif\n",
      "WARNING\tmatplotlib.font_manager:font_manager.py:_find_fonts_by_props()- findfont: Generic family 'sans-serif' not found because none of the following families were found: Arial, Liberation Sans, Bitstream Vera Sans, sans-serif\n",
      "WARNING\tmatplotlib.font_manager:font_manager.py:_find_fonts_by_props()- findfont: Generic family 'sans-serif' not found because none of the following families were found: Arial, Liberation Sans, Bitstream Vera Sans, sans-serif\n",
      "WARNING\tmatplotlib.font_manager:font_manager.py:_find_fonts_by_props()- findfont: Generic family 'sans-serif' not found because none of the following families were found: Arial, Liberation Sans, Bitstream Vera Sans, sans-serif\n",
      "WARNING\tmatplotlib.font_manager:font_manager.py:_find_fonts_by_props()- findfont: Generic family 'sans-serif' not found because none of the following families were found: Arial, Liberation Sans, Bitstream Vera Sans, sans-serif\n",
      "WARNING\tmatplotlib.font_manager:font_manager.py:_find_fonts_by_props()- findfont: Generic family 'sans-serif' not found because none of the following families were found: Arial, Liberation Sans, Bitstream Vera Sans, sans-serif\n",
      "WARNING\tmatplotlib.font_manager:font_manager.py:_find_fonts_by_props()- findfont: Generic family 'sans-serif' not found because none of the following families were found: Arial, Liberation Sans, Bitstream Vera Sans, sans-serif\n",
      "WARNING\tmatplotlib.font_manager:font_manager.py:_find_fonts_by_props()- findfont: Generic family 'sans-serif' not found because none of the following families were found: Arial, Liberation Sans, Bitstream Vera Sans, sans-serif\n",
      "WARNING\tmatplotlib.font_manager:font_manager.py:_find_fonts_by_props()- findfont: Generic family 'sans-serif' not found because none of the following families were found: Arial, Liberation Sans, Bitstream Vera Sans, sans-serif\n",
      "WARNING\tmatplotlib.font_manager:font_manager.py:_find_fonts_by_props()- findfont: Generic family 'sans-serif' not found because none of the following families were found: Arial, Liberation Sans, Bitstream Vera Sans, sans-serif\n",
      "WARNING\tmatplotlib.font_manager:font_manager.py:_find_fonts_by_props()- findfont: Generic family 'sans-serif' not found because none of the following families were found: Arial, Liberation Sans, Bitstream Vera Sans, sans-serif\n",
      "WARNING\tmatplotlib.font_manager:font_manager.py:_find_fonts_by_props()- findfont: Generic family 'sans-serif' not found because none of the following families were found: Arial, Liberation Sans, Bitstream Vera Sans, sans-serif\n",
      "WARNING\tmatplotlib.font_manager:font_manager.py:_find_fonts_by_props()- findfont: Generic family 'sans-serif' not found because none of the following families were found: Arial, Liberation Sans, Bitstream Vera Sans, sans-serif\n",
      "WARNING\tmatplotlib.font_manager:font_manager.py:_find_fonts_by_props()- findfont: Generic family 'sans-serif' not found because none of the following families were found: Arial, Liberation Sans, Bitstream Vera Sans, sans-serif\n"
     ]
    },
    {
     "data": {
      "image/png": "[encoded data removed]",
      "text/plain": [
       "<Figure size 800x550 with 1 Axes>"
      ]
     },
     "metadata": {},
     "output_type": "display_data"
    }
   ],
   "source": [
    "data.plot()"
   ]
  },
  {
   "cell_type": "code",
   "execution_count": 27,
   "id": "702e070e",
   "metadata": {},
   "outputs": [
    {
     "data": {
      "text/html": [
       "<style type=\"text/css\">\n",
       "#T_74432_row25_col1 {\n",
       "  background-color: lightgreen;\n",
       "}\n",
       "</style>\n",
       "<table id=\"T_74432\">\n",
       "  <thead>\n",
       "    <tr>\n",
       "      <th class=\"blank level0\" >&nbsp;</th>\n",
       "      <th id=\"T_74432_level0_col0\" class=\"col_heading level0 col0\" >Description</th>\n",
       "      <th id=\"T_74432_level0_col1\" class=\"col_heading level0 col1\" >Value</th>\n",
       "    </tr>\n",
       "  </thead>\n",
       "  <tbody>\n",
       "    <tr>\n",
       "      <th id=\"T_74432_level0_row0\" class=\"row_heading level0 row0\" >0</th>\n",
       "      <td id=\"T_74432_row0_col0\" class=\"data row0 col0\" >session_id</td>\n",
       "      <td id=\"T_74432_row0_col1\" class=\"data row0 col1\" >123</td>\n",
       "    </tr>\n",
       "    <tr>\n",
       "      <th id=\"T_74432_level0_row1\" class=\"row_heading level0 row1\" >1</th>\n",
       "      <td id=\"T_74432_row1_col0\" class=\"data row1 col0\" >Target</td>\n",
       "      <td id=\"T_74432_row1_col1\" class=\"data row1 col1\" >Close</td>\n",
       "    </tr>\n",
       "    <tr>\n",
       "      <th id=\"T_74432_level0_row2\" class=\"row_heading level0 row2\" >2</th>\n",
       "      <td id=\"T_74432_row2_col0\" class=\"data row2 col0\" >Approach</td>\n",
       "      <td id=\"T_74432_row2_col1\" class=\"data row2 col1\" >Univariate</td>\n",
       "    </tr>\n",
       "    <tr>\n",
       "      <th id=\"T_74432_level0_row3\" class=\"row_heading level0 row3\" >3</th>\n",
       "      <td id=\"T_74432_row3_col0\" class=\"data row3 col0\" >Exogenous Variables</td>\n",
       "      <td id=\"T_74432_row3_col1\" class=\"data row3 col1\" >Not Present</td>\n",
       "    </tr>\n",
       "    <tr>\n",
       "      <th id=\"T_74432_level0_row4\" class=\"row_heading level0 row4\" >4</th>\n",
       "      <td id=\"T_74432_row4_col0\" class=\"data row4 col0\" >Original data shape</td>\n",
       "      <td id=\"T_74432_row4_col1\" class=\"data row4 col1\" >(365, 1)</td>\n",
       "    </tr>\n",
       "    <tr>\n",
       "      <th id=\"T_74432_level0_row5\" class=\"row_heading level0 row5\" >5</th>\n",
       "      <td id=\"T_74432_row5_col0\" class=\"data row5 col0\" >Transformed data shape</td>\n",
       "      <td id=\"T_74432_row5_col1\" class=\"data row5 col1\" >(365, 1)</td>\n",
       "    </tr>\n",
       "    <tr>\n",
       "      <th id=\"T_74432_level0_row6\" class=\"row_heading level0 row6\" >6</th>\n",
       "      <td id=\"T_74432_row6_col0\" class=\"data row6 col0\" >Transformed train set shape</td>\n",
       "      <td id=\"T_74432_row6_col1\" class=\"data row6 col1\" >(364, 1)</td>\n",
       "    </tr>\n",
       "    <tr>\n",
       "      <th id=\"T_74432_level0_row7\" class=\"row_heading level0 row7\" >7</th>\n",
       "      <td id=\"T_74432_row7_col0\" class=\"data row7 col0\" >Transformed test set shape</td>\n",
       "      <td id=\"T_74432_row7_col1\" class=\"data row7 col1\" >(1, 1)</td>\n",
       "    </tr>\n",
       "    <tr>\n",
       "      <th id=\"T_74432_level0_row8\" class=\"row_heading level0 row8\" >8</th>\n",
       "      <td id=\"T_74432_row8_col0\" class=\"data row8 col0\" >Rows with missing values</td>\n",
       "      <td id=\"T_74432_row8_col1\" class=\"data row8 col1\" >0.0%</td>\n",
       "    </tr>\n",
       "    <tr>\n",
       "      <th id=\"T_74432_level0_row9\" class=\"row_heading level0 row9\" >9</th>\n",
       "      <td id=\"T_74432_row9_col0\" class=\"data row9 col0\" >Fold Generator</td>\n",
       "      <td id=\"T_74432_row9_col1\" class=\"data row9 col1\" >ExpandingWindowSplitter</td>\n",
       "    </tr>\n",
       "    <tr>\n",
       "      <th id=\"T_74432_level0_row10\" class=\"row_heading level0 row10\" >10</th>\n",
       "      <td id=\"T_74432_row10_col0\" class=\"data row10 col0\" >Fold Number</td>\n",
       "      <td id=\"T_74432_row10_col1\" class=\"data row10 col1\" >3</td>\n",
       "    </tr>\n",
       "    <tr>\n",
       "      <th id=\"T_74432_level0_row11\" class=\"row_heading level0 row11\" >11</th>\n",
       "      <td id=\"T_74432_row11_col0\" class=\"data row11 col0\" >Enforce Prediction Interval</td>\n",
       "      <td id=\"T_74432_row11_col1\" class=\"data row11 col1\" >False</td>\n",
       "    </tr>\n",
       "    <tr>\n",
       "      <th id=\"T_74432_level0_row12\" class=\"row_heading level0 row12\" >12</th>\n",
       "      <td id=\"T_74432_row12_col0\" class=\"data row12 col0\" >Splits used for hyperparameters</td>\n",
       "      <td id=\"T_74432_row12_col1\" class=\"data row12 col1\" >all</td>\n",
       "    </tr>\n",
       "    <tr>\n",
       "      <th id=\"T_74432_level0_row13\" class=\"row_heading level0 row13\" >13</th>\n",
       "      <td id=\"T_74432_row13_col0\" class=\"data row13 col0\" >User Defined Seasonal Period(s)</td>\n",
       "      <td id=\"T_74432_row13_col1\" class=\"data row13 col1\" >None</td>\n",
       "    </tr>\n",
       "    <tr>\n",
       "      <th id=\"T_74432_level0_row14\" class=\"row_heading level0 row14\" >14</th>\n",
       "      <td id=\"T_74432_row14_col0\" class=\"data row14 col0\" >Ignore Seasonality Test</td>\n",
       "      <td id=\"T_74432_row14_col1\" class=\"data row14 col1\" >False</td>\n",
       "    </tr>\n",
       "    <tr>\n",
       "      <th id=\"T_74432_level0_row15\" class=\"row_heading level0 row15\" >15</th>\n",
       "      <td id=\"T_74432_row15_col0\" class=\"data row15 col0\" >Seasonality Detection Algo</td>\n",
       "      <td id=\"T_74432_row15_col1\" class=\"data row15 col1\" >auto</td>\n",
       "    </tr>\n",
       "    <tr>\n",
       "      <th id=\"T_74432_level0_row16\" class=\"row_heading level0 row16\" >16</th>\n",
       "      <td id=\"T_74432_row16_col0\" class=\"data row16 col0\" >Max Period to Consider</td>\n",
       "      <td id=\"T_74432_row16_col1\" class=\"data row16 col1\" >60</td>\n",
       "    </tr>\n",
       "    <tr>\n",
       "      <th id=\"T_74432_level0_row17\" class=\"row_heading level0 row17\" >17</th>\n",
       "      <td id=\"T_74432_row17_col0\" class=\"data row17 col0\" >Seasonal Period(s) Tested</td>\n",
       "      <td id=\"T_74432_row17_col1\" class=\"data row17 col1\" >[39, 19]</td>\n",
       "    </tr>\n",
       "    <tr>\n",
       "      <th id=\"T_74432_level0_row18\" class=\"row_heading level0 row18\" >18</th>\n",
       "      <td id=\"T_74432_row18_col0\" class=\"data row18 col0\" >Significant Seasonal Period(s)</td>\n",
       "      <td id=\"T_74432_row18_col1\" class=\"data row18 col1\" >[39, 19]</td>\n",
       "    </tr>\n",
       "    <tr>\n",
       "      <th id=\"T_74432_level0_row19\" class=\"row_heading level0 row19\" >19</th>\n",
       "      <td id=\"T_74432_row19_col0\" class=\"data row19 col0\" >Significant Seasonal Period(s) without Harmonics</td>\n",
       "      <td id=\"T_74432_row19_col1\" class=\"data row19 col1\" >[39, 19]</td>\n",
       "    </tr>\n",
       "    <tr>\n",
       "      <th id=\"T_74432_level0_row20\" class=\"row_heading level0 row20\" >20</th>\n",
       "      <td id=\"T_74432_row20_col0\" class=\"data row20 col0\" >Remove Harmonics</td>\n",
       "      <td id=\"T_74432_row20_col1\" class=\"data row20 col1\" >False</td>\n",
       "    </tr>\n",
       "    <tr>\n",
       "      <th id=\"T_74432_level0_row21\" class=\"row_heading level0 row21\" >21</th>\n",
       "      <td id=\"T_74432_row21_col0\" class=\"data row21 col0\" >Harmonics Order Method</td>\n",
       "      <td id=\"T_74432_row21_col1\" class=\"data row21 col1\" >harmonic_max</td>\n",
       "    </tr>\n",
       "    <tr>\n",
       "      <th id=\"T_74432_level0_row22\" class=\"row_heading level0 row22\" >22</th>\n",
       "      <td id=\"T_74432_row22_col0\" class=\"data row22 col0\" >Num Seasonalities to Use</td>\n",
       "      <td id=\"T_74432_row22_col1\" class=\"data row22 col1\" >1</td>\n",
       "    </tr>\n",
       "    <tr>\n",
       "      <th id=\"T_74432_level0_row23\" class=\"row_heading level0 row23\" >23</th>\n",
       "      <td id=\"T_74432_row23_col0\" class=\"data row23 col0\" >All Seasonalities to Use</td>\n",
       "      <td id=\"T_74432_row23_col1\" class=\"data row23 col1\" >[39]</td>\n",
       "    </tr>\n",
       "    <tr>\n",
       "      <th id=\"T_74432_level0_row24\" class=\"row_heading level0 row24\" >24</th>\n",
       "      <td id=\"T_74432_row24_col0\" class=\"data row24 col0\" >Primary Seasonality</td>\n",
       "      <td id=\"T_74432_row24_col1\" class=\"data row24 col1\" >39</td>\n",
       "    </tr>\n",
       "    <tr>\n",
       "      <th id=\"T_74432_level0_row25\" class=\"row_heading level0 row25\" >25</th>\n",
       "      <td id=\"T_74432_row25_col0\" class=\"data row25 col0\" >Seasonality Present</td>\n",
       "      <td id=\"T_74432_row25_col1\" class=\"data row25 col1\" >True</td>\n",
       "    </tr>\n",
       "    <tr>\n",
       "      <th id=\"T_74432_level0_row26\" class=\"row_heading level0 row26\" >26</th>\n",
       "      <td id=\"T_74432_row26_col0\" class=\"data row26 col0\" >Seasonality Type</td>\n",
       "      <td id=\"T_74432_row26_col1\" class=\"data row26 col1\" >mul</td>\n",
       "    </tr>\n",
       "    <tr>\n",
       "      <th id=\"T_74432_level0_row27\" class=\"row_heading level0 row27\" >27</th>\n",
       "      <td id=\"T_74432_row27_col0\" class=\"data row27 col0\" >Target Strictly Positive</td>\n",
       "      <td id=\"T_74432_row27_col1\" class=\"data row27 col1\" >True</td>\n",
       "    </tr>\n",
       "    <tr>\n",
       "      <th id=\"T_74432_level0_row28\" class=\"row_heading level0 row28\" >28</th>\n",
       "      <td id=\"T_74432_row28_col0\" class=\"data row28 col0\" >Target White Noise</td>\n",
       "      <td id=\"T_74432_row28_col1\" class=\"data row28 col1\" >No</td>\n",
       "    </tr>\n",
       "    <tr>\n",
       "      <th id=\"T_74432_level0_row29\" class=\"row_heading level0 row29\" >29</th>\n",
       "      <td id=\"T_74432_row29_col0\" class=\"data row29 col0\" >Recommended d</td>\n",
       "      <td id=\"T_74432_row29_col1\" class=\"data row29 col1\" >1</td>\n",
       "    </tr>\n",
       "    <tr>\n",
       "      <th id=\"T_74432_level0_row30\" class=\"row_heading level0 row30\" >30</th>\n",
       "      <td id=\"T_74432_row30_col0\" class=\"data row30 col0\" >Recommended Seasonal D</td>\n",
       "      <td id=\"T_74432_row30_col1\" class=\"data row30 col1\" >0</td>\n",
       "    </tr>\n",
       "    <tr>\n",
       "      <th id=\"T_74432_level0_row31\" class=\"row_heading level0 row31\" >31</th>\n",
       "      <td id=\"T_74432_row31_col0\" class=\"data row31 col0\" >Preprocess</td>\n",
       "      <td id=\"T_74432_row31_col1\" class=\"data row31 col1\" >False</td>\n",
       "    </tr>\n",
       "    <tr>\n",
       "      <th id=\"T_74432_level0_row32\" class=\"row_heading level0 row32\" >32</th>\n",
       "      <td id=\"T_74432_row32_col0\" class=\"data row32 col0\" >CPU Jobs</td>\n",
       "      <td id=\"T_74432_row32_col1\" class=\"data row32 col1\" >-1</td>\n",
       "    </tr>\n",
       "    <tr>\n",
       "      <th id=\"T_74432_level0_row33\" class=\"row_heading level0 row33\" >33</th>\n",
       "      <td id=\"T_74432_row33_col0\" class=\"data row33 col0\" >Use GPU</td>\n",
       "      <td id=\"T_74432_row33_col1\" class=\"data row33 col1\" >False</td>\n",
       "    </tr>\n",
       "    <tr>\n",
       "      <th id=\"T_74432_level0_row34\" class=\"row_heading level0 row34\" >34</th>\n",
       "      <td id=\"T_74432_row34_col0\" class=\"data row34 col0\" >Log Experiment</td>\n",
       "      <td id=\"T_74432_row34_col1\" class=\"data row34 col1\" >False</td>\n",
       "    </tr>\n",
       "    <tr>\n",
       "      <th id=\"T_74432_level0_row35\" class=\"row_heading level0 row35\" >35</th>\n",
       "      <td id=\"T_74432_row35_col0\" class=\"data row35 col0\" >Experiment Name</td>\n",
       "      <td id=\"T_74432_row35_col1\" class=\"data row35 col1\" >ts-default-name</td>\n",
       "    </tr>\n",
       "    <tr>\n",
       "      <th id=\"T_74432_level0_row36\" class=\"row_heading level0 row36\" >36</th>\n",
       "      <td id=\"T_74432_row36_col0\" class=\"data row36 col0\" >USI</td>\n",
       "      <td id=\"T_74432_row36_col1\" class=\"data row36 col1\" >30dd</td>\n",
       "    </tr>\n",
       "  </tbody>\n",
       "</table>\n"
      ],
      "text/plain": [
       "<pandas.io.formats.style.Styler at 0x708d0f0c9060>"
      ]
     },
     "metadata": {},
     "output_type": "display_data"
    }
   ],
   "source": [
    "from pycaret.time_series import *\n",
    "\n",
    "s = setup(data, session_id = 123)"
   ]
  },
  {
   "cell_type": "code",
   "execution_count": 31,
   "id": "56f52817",
   "metadata": {},
   "outputs": [],
   "source": [
    "# import TSForecastingExperiment and init the class\n",
    "from pycaret.time_series import TSForecastingExperiment\n",
    "exp = TSForecastingExperiment()"
   ]
  },
  {
   "cell_type": "code",
   "execution_count": 32,
   "id": "f52f4d4b",
   "metadata": {},
   "outputs": [
    {
     "data": {
      "text/html": [
       "<style type=\"text/css\">\n",
       "#T_95b0f_row25_col1 {\n",
       "  background-color: lightgreen;\n",
       "}\n",
       "</style>\n",
       "<table id=\"T_95b0f\">\n",
       "  <thead>\n",
       "    <tr>\n",
       "      <th class=\"blank level0\" >&nbsp;</th>\n",
       "      <th id=\"T_95b0f_level0_col0\" class=\"col_heading level0 col0\" >Description</th>\n",
       "      <th id=\"T_95b0f_level0_col1\" class=\"col_heading level0 col1\" >Value</th>\n",
       "    </tr>\n",
       "  </thead>\n",
       "  <tbody>\n",
       "    <tr>\n",
       "      <th id=\"T_95b0f_level0_row0\" class=\"row_heading level0 row0\" >0</th>\n",
       "      <td id=\"T_95b0f_row0_col0\" class=\"data row0 col0\" >session_id</td>\n",
       "      <td id=\"T_95b0f_row0_col1\" class=\"data row0 col1\" >123</td>\n",
       "    </tr>\n",
       "    <tr>\n",
       "      <th id=\"T_95b0f_level0_row1\" class=\"row_heading level0 row1\" >1</th>\n",
       "      <td id=\"T_95b0f_row1_col0\" class=\"data row1 col0\" >Target</td>\n",
       "      <td id=\"T_95b0f_row1_col1\" class=\"data row1 col1\" >Close</td>\n",
       "    </tr>\n",
       "    <tr>\n",
       "      <th id=\"T_95b0f_level0_row2\" class=\"row_heading level0 row2\" >2</th>\n",
       "      <td id=\"T_95b0f_row2_col0\" class=\"data row2 col0\" >Approach</td>\n",
       "      <td id=\"T_95b0f_row2_col1\" class=\"data row2 col1\" >Univariate</td>\n",
       "    </tr>\n",
       "    <tr>\n",
       "      <th id=\"T_95b0f_level0_row3\" class=\"row_heading level0 row3\" >3</th>\n",
       "      <td id=\"T_95b0f_row3_col0\" class=\"data row3 col0\" >Exogenous Variables</td>\n",
       "      <td id=\"T_95b0f_row3_col1\" class=\"data row3 col1\" >Not Present</td>\n",
       "    </tr>\n",
       "    <tr>\n",
       "      <th id=\"T_95b0f_level0_row4\" class=\"row_heading level0 row4\" >4</th>\n",
       "      <td id=\"T_95b0f_row4_col0\" class=\"data row4 col0\" >Original data shape</td>\n",
       "      <td id=\"T_95b0f_row4_col1\" class=\"data row4 col1\" >(365, 1)</td>\n",
       "    </tr>\n",
       "    <tr>\n",
       "      <th id=\"T_95b0f_level0_row5\" class=\"row_heading level0 row5\" >5</th>\n",
       "      <td id=\"T_95b0f_row5_col0\" class=\"data row5 col0\" >Transformed data shape</td>\n",
       "      <td id=\"T_95b0f_row5_col1\" class=\"data row5 col1\" >(365, 1)</td>\n",
       "    </tr>\n",
       "    <tr>\n",
       "      <th id=\"T_95b0f_level0_row6\" class=\"row_heading level0 row6\" >6</th>\n",
       "      <td id=\"T_95b0f_row6_col0\" class=\"data row6 col0\" >Transformed train set shape</td>\n",
       "      <td id=\"T_95b0f_row6_col1\" class=\"data row6 col1\" >(364, 1)</td>\n",
       "    </tr>\n",
       "    <tr>\n",
       "      <th id=\"T_95b0f_level0_row7\" class=\"row_heading level0 row7\" >7</th>\n",
       "      <td id=\"T_95b0f_row7_col0\" class=\"data row7 col0\" >Transformed test set shape</td>\n",
       "      <td id=\"T_95b0f_row7_col1\" class=\"data row7 col1\" >(1, 1)</td>\n",
       "    </tr>\n",
       "    <tr>\n",
       "      <th id=\"T_95b0f_level0_row8\" class=\"row_heading level0 row8\" >8</th>\n",
       "      <td id=\"T_95b0f_row8_col0\" class=\"data row8 col0\" >Rows with missing values</td>\n",
       "      <td id=\"T_95b0f_row8_col1\" class=\"data row8 col1\" >0.0%</td>\n",
       "    </tr>\n",
       "    <tr>\n",
       "      <th id=\"T_95b0f_level0_row9\" class=\"row_heading level0 row9\" >9</th>\n",
       "      <td id=\"T_95b0f_row9_col0\" class=\"data row9 col0\" >Fold Generator</td>\n",
       "      <td id=\"T_95b0f_row9_col1\" class=\"data row9 col1\" >ExpandingWindowSplitter</td>\n",
       "    </tr>\n",
       "    <tr>\n",
       "      <th id=\"T_95b0f_level0_row10\" class=\"row_heading level0 row10\" >10</th>\n",
       "      <td id=\"T_95b0f_row10_col0\" class=\"data row10 col0\" >Fold Number</td>\n",
       "      <td id=\"T_95b0f_row10_col1\" class=\"data row10 col1\" >3</td>\n",
       "    </tr>\n",
       "    <tr>\n",
       "      <th id=\"T_95b0f_level0_row11\" class=\"row_heading level0 row11\" >11</th>\n",
       "      <td id=\"T_95b0f_row11_col0\" class=\"data row11 col0\" >Enforce Prediction Interval</td>\n",
       "      <td id=\"T_95b0f_row11_col1\" class=\"data row11 col1\" >False</td>\n",
       "    </tr>\n",
       "    <tr>\n",
       "      <th id=\"T_95b0f_level0_row12\" class=\"row_heading level0 row12\" >12</th>\n",
       "      <td id=\"T_95b0f_row12_col0\" class=\"data row12 col0\" >Splits used for hyperparameters</td>\n",
       "      <td id=\"T_95b0f_row12_col1\" class=\"data row12 col1\" >all</td>\n",
       "    </tr>\n",
       "    <tr>\n",
       "      <th id=\"T_95b0f_level0_row13\" class=\"row_heading level0 row13\" >13</th>\n",
       "      <td id=\"T_95b0f_row13_col0\" class=\"data row13 col0\" >User Defined Seasonal Period(s)</td>\n",
       "      <td id=\"T_95b0f_row13_col1\" class=\"data row13 col1\" >None</td>\n",
       "    </tr>\n",
       "    <tr>\n",
       "      <th id=\"T_95b0f_level0_row14\" class=\"row_heading level0 row14\" >14</th>\n",
       "      <td id=\"T_95b0f_row14_col0\" class=\"data row14 col0\" >Ignore Seasonality Test</td>\n",
       "      <td id=\"T_95b0f_row14_col1\" class=\"data row14 col1\" >False</td>\n",
       "    </tr>\n",
       "    <tr>\n",
       "      <th id=\"T_95b0f_level0_row15\" class=\"row_heading level0 row15\" >15</th>\n",
       "      <td id=\"T_95b0f_row15_col0\" class=\"data row15 col0\" >Seasonality Detection Algo</td>\n",
       "      <td id=\"T_95b0f_row15_col1\" class=\"data row15 col1\" >auto</td>\n",
       "    </tr>\n",
       "    <tr>\n",
       "      <th id=\"T_95b0f_level0_row16\" class=\"row_heading level0 row16\" >16</th>\n",
       "      <td id=\"T_95b0f_row16_col0\" class=\"data row16 col0\" >Max Period to Consider</td>\n",
       "      <td id=\"T_95b0f_row16_col1\" class=\"data row16 col1\" >60</td>\n",
       "    </tr>\n",
       "    <tr>\n",
       "      <th id=\"T_95b0f_level0_row17\" class=\"row_heading level0 row17\" >17</th>\n",
       "      <td id=\"T_95b0f_row17_col0\" class=\"data row17 col0\" >Seasonal Period(s) Tested</td>\n",
       "      <td id=\"T_95b0f_row17_col1\" class=\"data row17 col1\" >[39, 19]</td>\n",
       "    </tr>\n",
       "    <tr>\n",
       "      <th id=\"T_95b0f_level0_row18\" class=\"row_heading level0 row18\" >18</th>\n",
       "      <td id=\"T_95b0f_row18_col0\" class=\"data row18 col0\" >Significant Seasonal Period(s)</td>\n",
       "      <td id=\"T_95b0f_row18_col1\" class=\"data row18 col1\" >[39, 19]</td>\n",
       "    </tr>\n",
       "    <tr>\n",
       "      <th id=\"T_95b0f_level0_row19\" class=\"row_heading level0 row19\" >19</th>\n",
       "      <td id=\"T_95b0f_row19_col0\" class=\"data row19 col0\" >Significant Seasonal Period(s) without Harmonics</td>\n",
       "      <td id=\"T_95b0f_row19_col1\" class=\"data row19 col1\" >[39, 19]</td>\n",
       "    </tr>\n",
       "    <tr>\n",
       "      <th id=\"T_95b0f_level0_row20\" class=\"row_heading level0 row20\" >20</th>\n",
       "      <td id=\"T_95b0f_row20_col0\" class=\"data row20 col0\" >Remove Harmonics</td>\n",
       "      <td id=\"T_95b0f_row20_col1\" class=\"data row20 col1\" >False</td>\n",
       "    </tr>\n",
       "    <tr>\n",
       "      <th id=\"T_95b0f_level0_row21\" class=\"row_heading level0 row21\" >21</th>\n",
       "      <td id=\"T_95b0f_row21_col0\" class=\"data row21 col0\" >Harmonics Order Method</td>\n",
       "      <td id=\"T_95b0f_row21_col1\" class=\"data row21 col1\" >harmonic_max</td>\n",
       "    </tr>\n",
       "    <tr>\n",
       "      <th id=\"T_95b0f_level0_row22\" class=\"row_heading level0 row22\" >22</th>\n",
       "      <td id=\"T_95b0f_row22_col0\" class=\"data row22 col0\" >Num Seasonalities to Use</td>\n",
       "      <td id=\"T_95b0f_row22_col1\" class=\"data row22 col1\" >1</td>\n",
       "    </tr>\n",
       "    <tr>\n",
       "      <th id=\"T_95b0f_level0_row23\" class=\"row_heading level0 row23\" >23</th>\n",
       "      <td id=\"T_95b0f_row23_col0\" class=\"data row23 col0\" >All Seasonalities to Use</td>\n",
       "      <td id=\"T_95b0f_row23_col1\" class=\"data row23 col1\" >[39]</td>\n",
       "    </tr>\n",
       "    <tr>\n",
       "      <th id=\"T_95b0f_level0_row24\" class=\"row_heading level0 row24\" >24</th>\n",
       "      <td id=\"T_95b0f_row24_col0\" class=\"data row24 col0\" >Primary Seasonality</td>\n",
       "      <td id=\"T_95b0f_row24_col1\" class=\"data row24 col1\" >39</td>\n",
       "    </tr>\n",
       "    <tr>\n",
       "      <th id=\"T_95b0f_level0_row25\" class=\"row_heading level0 row25\" >25</th>\n",
       "      <td id=\"T_95b0f_row25_col0\" class=\"data row25 col0\" >Seasonality Present</td>\n",
       "      <td id=\"T_95b0f_row25_col1\" class=\"data row25 col1\" >True</td>\n",
       "    </tr>\n",
       "    <tr>\n",
       "      <th id=\"T_95b0f_level0_row26\" class=\"row_heading level0 row26\" >26</th>\n",
       "      <td id=\"T_95b0f_row26_col0\" class=\"data row26 col0\" >Seasonality Type</td>\n",
       "      <td id=\"T_95b0f_row26_col1\" class=\"data row26 col1\" >mul</td>\n",
       "    </tr>\n",
       "    <tr>\n",
       "      <th id=\"T_95b0f_level0_row27\" class=\"row_heading level0 row27\" >27</th>\n",
       "      <td id=\"T_95b0f_row27_col0\" class=\"data row27 col0\" >Target Strictly Positive</td>\n",
       "      <td id=\"T_95b0f_row27_col1\" class=\"data row27 col1\" >True</td>\n",
       "    </tr>\n",
       "    <tr>\n",
       "      <th id=\"T_95b0f_level0_row28\" class=\"row_heading level0 row28\" >28</th>\n",
       "      <td id=\"T_95b0f_row28_col0\" class=\"data row28 col0\" >Target White Noise</td>\n",
       "      <td id=\"T_95b0f_row28_col1\" class=\"data row28 col1\" >No</td>\n",
       "    </tr>\n",
       "    <tr>\n",
       "      <th id=\"T_95b0f_level0_row29\" class=\"row_heading level0 row29\" >29</th>\n",
       "      <td id=\"T_95b0f_row29_col0\" class=\"data row29 col0\" >Recommended d</td>\n",
       "      <td id=\"T_95b0f_row29_col1\" class=\"data row29 col1\" >1</td>\n",
       "    </tr>\n",
       "    <tr>\n",
       "      <th id=\"T_95b0f_level0_row30\" class=\"row_heading level0 row30\" >30</th>\n",
       "      <td id=\"T_95b0f_row30_col0\" class=\"data row30 col0\" >Recommended Seasonal D</td>\n",
       "      <td id=\"T_95b0f_row30_col1\" class=\"data row30 col1\" >0</td>\n",
       "    </tr>\n",
       "    <tr>\n",
       "      <th id=\"T_95b0f_level0_row31\" class=\"row_heading level0 row31\" >31</th>\n",
       "      <td id=\"T_95b0f_row31_col0\" class=\"data row31 col0\" >Preprocess</td>\n",
       "      <td id=\"T_95b0f_row31_col1\" class=\"data row31 col1\" >False</td>\n",
       "    </tr>\n",
       "    <tr>\n",
       "      <th id=\"T_95b0f_level0_row32\" class=\"row_heading level0 row32\" >32</th>\n",
       "      <td id=\"T_95b0f_row32_col0\" class=\"data row32 col0\" >CPU Jobs</td>\n",
       "      <td id=\"T_95b0f_row32_col1\" class=\"data row32 col1\" >-1</td>\n",
       "    </tr>\n",
       "    <tr>\n",
       "      <th id=\"T_95b0f_level0_row33\" class=\"row_heading level0 row33\" >33</th>\n",
       "      <td id=\"T_95b0f_row33_col0\" class=\"data row33 col0\" >Use GPU</td>\n",
       "      <td id=\"T_95b0f_row33_col1\" class=\"data row33 col1\" >False</td>\n",
       "    </tr>\n",
       "    <tr>\n",
       "      <th id=\"T_95b0f_level0_row34\" class=\"row_heading level0 row34\" >34</th>\n",
       "      <td id=\"T_95b0f_row34_col0\" class=\"data row34 col0\" >Log Experiment</td>\n",
       "      <td id=\"T_95b0f_row34_col1\" class=\"data row34 col1\" >False</td>\n",
       "    </tr>\n",
       "    <tr>\n",
       "      <th id=\"T_95b0f_level0_row35\" class=\"row_heading level0 row35\" >35</th>\n",
       "      <td id=\"T_95b0f_row35_col0\" class=\"data row35 col0\" >Experiment Name</td>\n",
       "      <td id=\"T_95b0f_row35_col1\" class=\"data row35 col1\" >ts-default-name</td>\n",
       "    </tr>\n",
       "    <tr>\n",
       "      <th id=\"T_95b0f_level0_row36\" class=\"row_heading level0 row36\" >36</th>\n",
       "      <td id=\"T_95b0f_row36_col0\" class=\"data row36 col0\" >USI</td>\n",
       "      <td id=\"T_95b0f_row36_col1\" class=\"data row36 col1\" >cd78</td>\n",
       "    </tr>\n",
       "  </tbody>\n",
       "</table>\n"
      ],
      "text/plain": [
       "<pandas.io.formats.style.Styler at 0x708d0efdcee0>"
      ]
     },
     "metadata": {},
     "output_type": "display_data"
    },
    {
     "data": {
      "text/plain": [
       "<pycaret.time_series.forecasting.oop.TSForecastingExperiment at 0x708d0f31ccd0>"
      ]
     },
     "execution_count": 32,
     "metadata": {},
     "output_type": "execute_result"
    }
   ],
   "source": [
    "exp.setup(data, session_id = 123)"
   ]
  },
  {
   "cell_type": "code",
   "execution_count": 33,
   "id": "5599b7f5",
   "metadata": {},
   "outputs": [
    {
     "data": {
      "text/html": [
       "<div>\n",
       "<style scoped>\n",
       "    .dataframe tbody tr th:only-of-type {\n",
       "        vertical-align: middle;\n",
       "    }\n",
       "\n",
       "    .dataframe tbody tr th {\n",
       "        vertical-align: top;\n",
       "    }\n",
       "\n",
       "    .dataframe thead th {\n",
       "        text-align: right;\n",
       "    }\n",
       "</style>\n",
       "<table border=\"1\" class=\"dataframe\">\n",
       "  <thead>\n",
       "    <tr style=\"text-align: right;\">\n",
       "      <th></th>\n",
       "      <th>Test</th>\n",
       "      <th>Test Name</th>\n",
       "      <th>Data</th>\n",
       "      <th>Property</th>\n",
       "      <th>Setting</th>\n",
       "      <th>Value</th>\n",
       "    </tr>\n",
       "  </thead>\n",
       "  <tbody>\n",
       "    <tr>\n",
       "      <th>0</th>\n",
       "      <td>Summary</td>\n",
       "      <td>Statistics</td>\n",
       "      <td>Transformed</td>\n",
       "      <td>Length</td>\n",
       "      <td></td>\n",
       "      <td>365.0</td>\n",
       "    </tr>\n",
       "    <tr>\n",
       "      <th>1</th>\n",
       "      <td>Summary</td>\n",
       "      <td>Statistics</td>\n",
       "      <td>Transformed</td>\n",
       "      <td># Missing Values</td>\n",
       "      <td></td>\n",
       "      <td>0.0</td>\n",
       "    </tr>\n",
       "    <tr>\n",
       "      <th>2</th>\n",
       "      <td>Summary</td>\n",
       "      <td>Statistics</td>\n",
       "      <td>Transformed</td>\n",
       "      <td>Mean</td>\n",
       "      <td></td>\n",
       "      <td>285.294</td>\n",
       "    </tr>\n",
       "    <tr>\n",
       "      <th>3</th>\n",
       "      <td>Summary</td>\n",
       "      <td>Statistics</td>\n",
       "      <td>Transformed</td>\n",
       "      <td>Median</td>\n",
       "      <td></td>\n",
       "      <td>288.160004</td>\n",
       "    </tr>\n",
       "    <tr>\n",
       "      <th>4</th>\n",
       "      <td>Summary</td>\n",
       "      <td>Statistics</td>\n",
       "      <td>Transformed</td>\n",
       "      <td>Standard Deviation</td>\n",
       "      <td></td>\n",
       "      <td>32.746923</td>\n",
       "    </tr>\n",
       "    <tr>\n",
       "      <th>5</th>\n",
       "      <td>Summary</td>\n",
       "      <td>Statistics</td>\n",
       "      <td>Transformed</td>\n",
       "      <td>Variance</td>\n",
       "      <td></td>\n",
       "      <td>1072.360993</td>\n",
       "    </tr>\n",
       "    <tr>\n",
       "      <th>6</th>\n",
       "      <td>Summary</td>\n",
       "      <td>Statistics</td>\n",
       "      <td>Transformed</td>\n",
       "      <td>Kurtosis</td>\n",
       "      <td></td>\n",
       "      <td>-0.947494</td>\n",
       "    </tr>\n",
       "    <tr>\n",
       "      <th>7</th>\n",
       "      <td>Summary</td>\n",
       "      <td>Statistics</td>\n",
       "      <td>Transformed</td>\n",
       "      <td>Skewness</td>\n",
       "      <td></td>\n",
       "      <td>0.211906</td>\n",
       "    </tr>\n",
       "    <tr>\n",
       "      <th>8</th>\n",
       "      <td>Summary</td>\n",
       "      <td>Statistics</td>\n",
       "      <td>Transformed</td>\n",
       "      <td># Distinct Values</td>\n",
       "      <td></td>\n",
       "      <td>248.0</td>\n",
       "    </tr>\n",
       "    <tr>\n",
       "      <th>9</th>\n",
       "      <td>White Noise</td>\n",
       "      <td>Ljung-Box</td>\n",
       "      <td>Transformed</td>\n",
       "      <td>Test Statictic</td>\n",
       "      <td>{'alpha': 0.05, 'K': 24}</td>\n",
       "      <td>6777.521778</td>\n",
       "    </tr>\n",
       "    <tr>\n",
       "      <th>10</th>\n",
       "      <td>White Noise</td>\n",
       "      <td>Ljung-Box</td>\n",
       "      <td>Transformed</td>\n",
       "      <td>Test Statictic</td>\n",
       "      <td>{'alpha': 0.05, 'K': 48}</td>\n",
       "      <td>10967.840797</td>\n",
       "    </tr>\n",
       "    <tr>\n",
       "      <th>11</th>\n",
       "      <td>White Noise</td>\n",
       "      <td>Ljung-Box</td>\n",
       "      <td>Transformed</td>\n",
       "      <td>p-value</td>\n",
       "      <td>{'alpha': 0.05, 'K': 24}</td>\n",
       "      <td>0.0</td>\n",
       "    </tr>\n",
       "    <tr>\n",
       "      <th>12</th>\n",
       "      <td>White Noise</td>\n",
       "      <td>Ljung-Box</td>\n",
       "      <td>Transformed</td>\n",
       "      <td>p-value</td>\n",
       "      <td>{'alpha': 0.05, 'K': 48}</td>\n",
       "      <td>0.0</td>\n",
       "    </tr>\n",
       "    <tr>\n",
       "      <th>13</th>\n",
       "      <td>White Noise</td>\n",
       "      <td>Ljung-Box</td>\n",
       "      <td>Transformed</td>\n",
       "      <td>White Noise</td>\n",
       "      <td>{'alpha': 0.05, 'K': 24}</td>\n",
       "      <td>0.0</td>\n",
       "    </tr>\n",
       "    <tr>\n",
       "      <th>14</th>\n",
       "      <td>White Noise</td>\n",
       "      <td>Ljung-Box</td>\n",
       "      <td>Transformed</td>\n",
       "      <td>White Noise</td>\n",
       "      <td>{'alpha': 0.05, 'K': 48}</td>\n",
       "      <td>0.0</td>\n",
       "    </tr>\n",
       "    <tr>\n",
       "      <th>15</th>\n",
       "      <td>Stationarity</td>\n",
       "      <td>ADF</td>\n",
       "      <td>Transformed</td>\n",
       "      <td>Stationarity</td>\n",
       "      <td>{'alpha': 0.05}</td>\n",
       "      <td>False</td>\n",
       "    </tr>\n",
       "    <tr>\n",
       "      <th>16</th>\n",
       "      <td>Stationarity</td>\n",
       "      <td>ADF</td>\n",
       "      <td>Transformed</td>\n",
       "      <td>p-value</td>\n",
       "      <td>{'alpha': 0.05}</td>\n",
       "      <td>0.993251</td>\n",
       "    </tr>\n",
       "    <tr>\n",
       "      <th>17</th>\n",
       "      <td>Stationarity</td>\n",
       "      <td>ADF</td>\n",
       "      <td>Transformed</td>\n",
       "      <td>Test Statistic</td>\n",
       "      <td>{'alpha': 0.05}</td>\n",
       "      <td>0.912457</td>\n",
       "    </tr>\n",
       "    <tr>\n",
       "      <th>18</th>\n",
       "      <td>Stationarity</td>\n",
       "      <td>ADF</td>\n",
       "      <td>Transformed</td>\n",
       "      <td>Critical Value 1%</td>\n",
       "      <td>{'alpha': 0.05}</td>\n",
       "      <td>-3.448443</td>\n",
       "    </tr>\n",
       "    <tr>\n",
       "      <th>19</th>\n",
       "      <td>Stationarity</td>\n",
       "      <td>ADF</td>\n",
       "      <td>Transformed</td>\n",
       "      <td>Critical Value 5%</td>\n",
       "      <td>{'alpha': 0.05}</td>\n",
       "      <td>-2.869513</td>\n",
       "    </tr>\n",
       "    <tr>\n",
       "      <th>20</th>\n",
       "      <td>Stationarity</td>\n",
       "      <td>ADF</td>\n",
       "      <td>Transformed</td>\n",
       "      <td>Critical Value 10%</td>\n",
       "      <td>{'alpha': 0.05}</td>\n",
       "      <td>-2.571018</td>\n",
       "    </tr>\n",
       "    <tr>\n",
       "      <th>21</th>\n",
       "      <td>Stationarity</td>\n",
       "      <td>KPSS</td>\n",
       "      <td>Transformed</td>\n",
       "      <td>Trend Stationarity</td>\n",
       "      <td>{'alpha': 0.05}</td>\n",
       "      <td>False</td>\n",
       "    </tr>\n",
       "    <tr>\n",
       "      <th>22</th>\n",
       "      <td>Stationarity</td>\n",
       "      <td>KPSS</td>\n",
       "      <td>Transformed</td>\n",
       "      <td>p-value</td>\n",
       "      <td>{'alpha': 0.05}</td>\n",
       "      <td>0.023322</td>\n",
       "    </tr>\n",
       "    <tr>\n",
       "      <th>23</th>\n",
       "      <td>Stationarity</td>\n",
       "      <td>KPSS</td>\n",
       "      <td>Transformed</td>\n",
       "      <td>Test Statistic</td>\n",
       "      <td>{'alpha': 0.05}</td>\n",
       "      <td>0.180474</td>\n",
       "    </tr>\n",
       "    <tr>\n",
       "      <th>24</th>\n",
       "      <td>Stationarity</td>\n",
       "      <td>KPSS</td>\n",
       "      <td>Transformed</td>\n",
       "      <td>Critical Value 10%</td>\n",
       "      <td>{'alpha': 0.05}</td>\n",
       "      <td>0.119</td>\n",
       "    </tr>\n",
       "    <tr>\n",
       "      <th>25</th>\n",
       "      <td>Stationarity</td>\n",
       "      <td>KPSS</td>\n",
       "      <td>Transformed</td>\n",
       "      <td>Critical Value 5%</td>\n",
       "      <td>{'alpha': 0.05}</td>\n",
       "      <td>0.146</td>\n",
       "    </tr>\n",
       "    <tr>\n",
       "      <th>26</th>\n",
       "      <td>Stationarity</td>\n",
       "      <td>KPSS</td>\n",
       "      <td>Transformed</td>\n",
       "      <td>Critical Value 2.5%</td>\n",
       "      <td>{'alpha': 0.05}</td>\n",
       "      <td>0.176</td>\n",
       "    </tr>\n",
       "    <tr>\n",
       "      <th>27</th>\n",
       "      <td>Stationarity</td>\n",
       "      <td>KPSS</td>\n",
       "      <td>Transformed</td>\n",
       "      <td>Critical Value 1%</td>\n",
       "      <td>{'alpha': 0.05}</td>\n",
       "      <td>0.216</td>\n",
       "    </tr>\n",
       "    <tr>\n",
       "      <th>28</th>\n",
       "      <td>Normality</td>\n",
       "      <td>Shapiro</td>\n",
       "      <td>Transformed</td>\n",
       "      <td>Normality</td>\n",
       "      <td>{'alpha': 0.05}</td>\n",
       "      <td>False</td>\n",
       "    </tr>\n",
       "    <tr>\n",
       "      <th>29</th>\n",
       "      <td>Normality</td>\n",
       "      <td>Shapiro</td>\n",
       "      <td>Transformed</td>\n",
       "      <td>p-value</td>\n",
       "      <td>{'alpha': 0.05}</td>\n",
       "      <td>0.0</td>\n",
       "    </tr>\n",
       "  </tbody>\n",
       "</table>\n",
       "</div>"
      ],
      "text/plain": [
       "            Test   Test Name         Data             Property  \\\n",
       "0        Summary  Statistics  Transformed               Length   \n",
       "1        Summary  Statistics  Transformed     # Missing Values   \n",
       "2        Summary  Statistics  Transformed                 Mean   \n",
       "3        Summary  Statistics  Transformed               Median   \n",
       "4        Summary  Statistics  Transformed   Standard Deviation   \n",
       "5        Summary  Statistics  Transformed             Variance   \n",
       "6        Summary  Statistics  Transformed             Kurtosis   \n",
       "7        Summary  Statistics  Transformed             Skewness   \n",
       "8        Summary  Statistics  Transformed    # Distinct Values   \n",
       "9    White Noise   Ljung-Box  Transformed       Test Statictic   \n",
       "10   White Noise   Ljung-Box  Transformed       Test Statictic   \n",
       "11   White Noise   Ljung-Box  Transformed              p-value   \n",
       "12   White Noise   Ljung-Box  Transformed              p-value   \n",
       "13   White Noise   Ljung-Box  Transformed          White Noise   \n",
       "14   White Noise   Ljung-Box  Transformed          White Noise   \n",
       "15  Stationarity         ADF  Transformed         Stationarity   \n",
       "16  Stationarity         ADF  Transformed              p-value   \n",
       "17  Stationarity         ADF  Transformed       Test Statistic   \n",
       "18  Stationarity         ADF  Transformed    Critical Value 1%   \n",
       "19  Stationarity         ADF  Transformed    Critical Value 5%   \n",
       "20  Stationarity         ADF  Transformed   Critical Value 10%   \n",
       "21  Stationarity        KPSS  Transformed   Trend Stationarity   \n",
       "22  Stationarity        KPSS  Transformed              p-value   \n",
       "23  Stationarity        KPSS  Transformed       Test Statistic   \n",
       "24  Stationarity        KPSS  Transformed   Critical Value 10%   \n",
       "25  Stationarity        KPSS  Transformed    Critical Value 5%   \n",
       "26  Stationarity        KPSS  Transformed  Critical Value 2.5%   \n",
       "27  Stationarity        KPSS  Transformed    Critical Value 1%   \n",
       "28     Normality     Shapiro  Transformed            Normality   \n",
       "29     Normality     Shapiro  Transformed              p-value   \n",
       "\n",
       "                     Setting         Value  \n",
       "0                                    365.0  \n",
       "1                                      0.0  \n",
       "2                                  285.294  \n",
       "3                               288.160004  \n",
       "4                                32.746923  \n",
       "5                              1072.360993  \n",
       "6                                -0.947494  \n",
       "7                                 0.211906  \n",
       "8                                    248.0  \n",
       "9   {'alpha': 0.05, 'K': 24}   6777.521778  \n",
       "10  {'alpha': 0.05, 'K': 48}  10967.840797  \n",
       "11  {'alpha': 0.05, 'K': 24}           0.0  \n",
       "12  {'alpha': 0.05, 'K': 48}           0.0  \n",
       "13  {'alpha': 0.05, 'K': 24}           0.0  \n",
       "14  {'alpha': 0.05, 'K': 48}           0.0  \n",
       "15           {'alpha': 0.05}         False  \n",
       "16           {'alpha': 0.05}      0.993251  \n",
       "17           {'alpha': 0.05}      0.912457  \n",
       "18           {'alpha': 0.05}     -3.448443  \n",
       "19           {'alpha': 0.05}     -2.869513  \n",
       "20           {'alpha': 0.05}     -2.571018  \n",
       "21           {'alpha': 0.05}         False  \n",
       "22           {'alpha': 0.05}      0.023322  \n",
       "23           {'alpha': 0.05}      0.180474  \n",
       "24           {'alpha': 0.05}         0.119  \n",
       "25           {'alpha': 0.05}         0.146  \n",
       "26           {'alpha': 0.05}         0.176  \n",
       "27           {'alpha': 0.05}         0.216  \n",
       "28           {'alpha': 0.05}         False  \n",
       "29           {'alpha': 0.05}           0.0  "
      ]
     },
     "execution_count": 33,
     "metadata": {},
     "output_type": "execute_result"
    }
   ],
   "source": [
    "check_stats()"
   ]
  },
  {
   "cell_type": "code",
   "execution_count": 34,
   "id": "c5675e41",
   "metadata": {},
   "outputs": [
    {
     "data": {
      "text/html": [],
      "text/plain": [
       "<IPython.core.display.HTML object>"
      ]
     },
     "metadata": {},
     "output_type": "display_data"
    },
    {
     "data": {
      "text/html": [
       "<style type=\"text/css\">\n",
       "#T_3b4e7 th {\n",
       "  text-align: left;\n",
       "}\n",
       "#T_3b4e7_row0_col0, #T_3b4e7_row1_col0, #T_3b4e7_row1_col1, #T_3b4e7_row1_col2, #T_3b4e7_row1_col3, #T_3b4e7_row1_col4, #T_3b4e7_row1_col5, #T_3b4e7_row1_col6, #T_3b4e7_row2_col0, #T_3b4e7_row2_col1, #T_3b4e7_row2_col2, #T_3b4e7_row2_col3, #T_3b4e7_row2_col4, #T_3b4e7_row2_col5, #T_3b4e7_row2_col6, #T_3b4e7_row3_col0, #T_3b4e7_row3_col1, #T_3b4e7_row3_col2, #T_3b4e7_row3_col3, #T_3b4e7_row3_col4, #T_3b4e7_row3_col5, #T_3b4e7_row3_col6, #T_3b4e7_row4_col0, #T_3b4e7_row4_col1, #T_3b4e7_row4_col2, #T_3b4e7_row4_col3, #T_3b4e7_row4_col4, #T_3b4e7_row4_col5, #T_3b4e7_row4_col6, #T_3b4e7_row5_col0, #T_3b4e7_row5_col1, #T_3b4e7_row5_col2, #T_3b4e7_row5_col3, #T_3b4e7_row5_col4, #T_3b4e7_row5_col5, #T_3b4e7_row5_col6, #T_3b4e7_row6_col0, #T_3b4e7_row6_col1, #T_3b4e7_row6_col2, #T_3b4e7_row6_col3, #T_3b4e7_row6_col4, #T_3b4e7_row6_col5, #T_3b4e7_row6_col6, #T_3b4e7_row7_col0, #T_3b4e7_row7_col1, #T_3b4e7_row7_col2, #T_3b4e7_row7_col3, #T_3b4e7_row7_col4, #T_3b4e7_row7_col5, #T_3b4e7_row7_col6, #T_3b4e7_row8_col0, #T_3b4e7_row8_col1, #T_3b4e7_row8_col2, #T_3b4e7_row8_col3, #T_3b4e7_row8_col4, #T_3b4e7_row8_col5, #T_3b4e7_row8_col6, #T_3b4e7_row9_col0, #T_3b4e7_row9_col1, #T_3b4e7_row9_col2, #T_3b4e7_row9_col3, #T_3b4e7_row9_col4, #T_3b4e7_row9_col5, #T_3b4e7_row9_col6, #T_3b4e7_row10_col0, #T_3b4e7_row10_col1, #T_3b4e7_row10_col2, #T_3b4e7_row10_col3, #T_3b4e7_row10_col4, #T_3b4e7_row10_col5, #T_3b4e7_row10_col6, #T_3b4e7_row11_col0, #T_3b4e7_row11_col1, #T_3b4e7_row11_col2, #T_3b4e7_row11_col3, #T_3b4e7_row11_col4, #T_3b4e7_row11_col5, #T_3b4e7_row11_col6, #T_3b4e7_row12_col0, #T_3b4e7_row12_col1, #T_3b4e7_row12_col2, #T_3b4e7_row12_col3, #T_3b4e7_row12_col4, #T_3b4e7_row12_col5, #T_3b4e7_row12_col6, #T_3b4e7_row13_col0, #T_3b4e7_row13_col1, #T_3b4e7_row13_col2, #T_3b4e7_row13_col3, #T_3b4e7_row13_col4, #T_3b4e7_row13_col5, #T_3b4e7_row13_col6, #T_3b4e7_row14_col0, #T_3b4e7_row14_col1, #T_3b4e7_row14_col2, #T_3b4e7_row14_col3, #T_3b4e7_row14_col4, #T_3b4e7_row14_col5, #T_3b4e7_row14_col6, #T_3b4e7_row15_col0, #T_3b4e7_row15_col1, #T_3b4e7_row15_col2, #T_3b4e7_row15_col3, #T_3b4e7_row15_col4, #T_3b4e7_row15_col5, #T_3b4e7_row15_col6, #T_3b4e7_row16_col0, #T_3b4e7_row16_col1, #T_3b4e7_row16_col2, #T_3b4e7_row16_col3, #T_3b4e7_row16_col4, #T_3b4e7_row16_col5, #T_3b4e7_row16_col6, #T_3b4e7_row17_col0, #T_3b4e7_row17_col1, #T_3b4e7_row17_col2, #T_3b4e7_row17_col3, #T_3b4e7_row17_col4, #T_3b4e7_row17_col5, #T_3b4e7_row17_col6, #T_3b4e7_row18_col0, #T_3b4e7_row18_col1, #T_3b4e7_row18_col2, #T_3b4e7_row18_col3, #T_3b4e7_row18_col4, #T_3b4e7_row18_col5, #T_3b4e7_row18_col6, #T_3b4e7_row19_col0, #T_3b4e7_row19_col1, #T_3b4e7_row19_col2, #T_3b4e7_row19_col3, #T_3b4e7_row19_col4, #T_3b4e7_row19_col5, #T_3b4e7_row19_col6, #T_3b4e7_row20_col0, #T_3b4e7_row20_col1, #T_3b4e7_row20_col2, #T_3b4e7_row20_col3, #T_3b4e7_row20_col4, #T_3b4e7_row20_col5, #T_3b4e7_row20_col6, #T_3b4e7_row21_col0, #T_3b4e7_row21_col1, #T_3b4e7_row21_col2, #T_3b4e7_row21_col3, #T_3b4e7_row21_col4, #T_3b4e7_row21_col5, #T_3b4e7_row21_col6, #T_3b4e7_row22_col0, #T_3b4e7_row22_col1, #T_3b4e7_row22_col2, #T_3b4e7_row22_col3, #T_3b4e7_row22_col4, #T_3b4e7_row22_col5, #T_3b4e7_row22_col6, #T_3b4e7_row23_col0, #T_3b4e7_row23_col1, #T_3b4e7_row23_col2, #T_3b4e7_row23_col3, #T_3b4e7_row23_col4, #T_3b4e7_row23_col5, #T_3b4e7_row23_col6 {\n",
       "  text-align: left;\n",
       "}\n",
       "#T_3b4e7_row0_col1, #T_3b4e7_row0_col2, #T_3b4e7_row0_col3, #T_3b4e7_row0_col4, #T_3b4e7_row0_col5, #T_3b4e7_row0_col6 {\n",
       "  text-align: left;\n",
       "  background-color: yellow;\n",
       "}\n",
       "#T_3b4e7_row0_col7, #T_3b4e7_row1_col7, #T_3b4e7_row2_col7, #T_3b4e7_row3_col7, #T_3b4e7_row4_col7, #T_3b4e7_row5_col7, #T_3b4e7_row6_col7, #T_3b4e7_row7_col7, #T_3b4e7_row8_col7, #T_3b4e7_row9_col7, #T_3b4e7_row10_col7, #T_3b4e7_row11_col7, #T_3b4e7_row12_col7, #T_3b4e7_row13_col7, #T_3b4e7_row14_col7, #T_3b4e7_row15_col7, #T_3b4e7_row16_col7, #T_3b4e7_row17_col7, #T_3b4e7_row18_col7, #T_3b4e7_row19_col7, #T_3b4e7_row21_col7, #T_3b4e7_row22_col7, #T_3b4e7_row23_col7 {\n",
       "  text-align: left;\n",
       "  background-color: lightgrey;\n",
       "}\n",
       "#T_3b4e7_row20_col7 {\n",
       "  text-align: left;\n",
       "  background-color: yellow;\n",
       "  background-color: lightgrey;\n",
       "}\n",
       "</style>\n",
       "<table id=\"T_3b4e7\">\n",
       "  <thead>\n",
       "    <tr>\n",
       "      <th class=\"blank level0\" >&nbsp;</th>\n",
       "      <th id=\"T_3b4e7_level0_col0\" class=\"col_heading level0 col0\" >Model</th>\n",
       "      <th id=\"T_3b4e7_level0_col1\" class=\"col_heading level0 col1\" >MASE</th>\n",
       "      <th id=\"T_3b4e7_level0_col2\" class=\"col_heading level0 col2\" >RMSSE</th>\n",
       "      <th id=\"T_3b4e7_level0_col3\" class=\"col_heading level0 col3\" >MAE</th>\n",
       "      <th id=\"T_3b4e7_level0_col4\" class=\"col_heading level0 col4\" >RMSE</th>\n",
       "      <th id=\"T_3b4e7_level0_col5\" class=\"col_heading level0 col5\" >MAPE</th>\n",
       "      <th id=\"T_3b4e7_level0_col6\" class=\"col_heading level0 col6\" >SMAPE</th>\n",
       "      <th id=\"T_3b4e7_level0_col7\" class=\"col_heading level0 col7\" >TT (Sec)</th>\n",
       "    </tr>\n",
       "  </thead>\n",
       "  <tbody>\n",
       "    <tr>\n",
       "      <th id=\"T_3b4e7_level0_row0\" class=\"row_heading level0 row0\" >arima</th>\n",
       "      <td id=\"T_3b4e7_row0_col0\" class=\"data row0 col0\" >ARIMA</td>\n",
       "      <td id=\"T_3b4e7_row0_col1\" class=\"data row0 col1\" >0.1515</td>\n",
       "      <td id=\"T_3b4e7_row0_col2\" class=\"data row0 col2\" >0.1143</td>\n",
       "      <td id=\"T_3b4e7_row0_col3\" class=\"data row0 col3\" >1.9590</td>\n",
       "      <td id=\"T_3b4e7_row0_col4\" class=\"data row0 col4\" >1.9590</td>\n",
       "      <td id=\"T_3b4e7_row0_col5\" class=\"data row0 col5\" >0.0054</td>\n",
       "      <td id=\"T_3b4e7_row0_col6\" class=\"data row0 col6\" >0.0054</td>\n",
       "      <td id=\"T_3b4e7_row0_col7\" class=\"data row0 col7\" >0.3767</td>\n",
       "    </tr>\n",
       "    <tr>\n",
       "      <th id=\"T_3b4e7_level0_row1\" class=\"row_heading level0 row1\" >exp_smooth</th>\n",
       "      <td id=\"T_3b4e7_row1_col0\" class=\"data row1 col0\" >Exponential Smoothing</td>\n",
       "      <td id=\"T_3b4e7_row1_col1\" class=\"data row1 col1\" >0.1862</td>\n",
       "      <td id=\"T_3b4e7_row1_col2\" class=\"data row1 col2\" >0.1404</td>\n",
       "      <td id=\"T_3b4e7_row1_col3\" class=\"data row1 col3\" >2.4079</td>\n",
       "      <td id=\"T_3b4e7_row1_col4\" class=\"data row1 col4\" >2.4079</td>\n",
       "      <td id=\"T_3b4e7_row1_col5\" class=\"data row1 col5\" >0.0066</td>\n",
       "      <td id=\"T_3b4e7_row1_col6\" class=\"data row1 col6\" >0.0067</td>\n",
       "      <td id=\"T_3b4e7_row1_col7\" class=\"data row1 col7\" >1.2867</td>\n",
       "    </tr>\n",
       "    <tr>\n",
       "      <th id=\"T_3b4e7_level0_row2\" class=\"row_heading level0 row2\" >ets</th>\n",
       "      <td id=\"T_3b4e7_row2_col0\" class=\"data row2 col0\" >ETS</td>\n",
       "      <td id=\"T_3b4e7_row2_col1\" class=\"data row2 col1\" >0.1863</td>\n",
       "      <td id=\"T_3b4e7_row2_col2\" class=\"data row2 col2\" >0.1405</td>\n",
       "      <td id=\"T_3b4e7_row2_col3\" class=\"data row2 col3\" >2.4086</td>\n",
       "      <td id=\"T_3b4e7_row2_col4\" class=\"data row2 col4\" >2.4086</td>\n",
       "      <td id=\"T_3b4e7_row2_col5\" class=\"data row2 col5\" >0.0066</td>\n",
       "      <td id=\"T_3b4e7_row2_col6\" class=\"data row2 col6\" >0.0067</td>\n",
       "      <td id=\"T_3b4e7_row2_col7\" class=\"data row2 col7\" >1.0333</td>\n",
       "    </tr>\n",
       "    <tr>\n",
       "      <th id=\"T_3b4e7_level0_row3\" class=\"row_heading level0 row3\" >theta</th>\n",
       "      <td id=\"T_3b4e7_row3_col0\" class=\"data row3 col0\" >Theta Forecaster</td>\n",
       "      <td id=\"T_3b4e7_row3_col1\" class=\"data row3 col1\" >0.1965</td>\n",
       "      <td id=\"T_3b4e7_row3_col2\" class=\"data row3 col2\" >0.1482</td>\n",
       "      <td id=\"T_3b4e7_row3_col3\" class=\"data row3 col3\" >2.5406</td>\n",
       "      <td id=\"T_3b4e7_row3_col4\" class=\"data row3 col4\" >2.5406</td>\n",
       "      <td id=\"T_3b4e7_row3_col5\" class=\"data row3 col5\" >0.0070</td>\n",
       "      <td id=\"T_3b4e7_row3_col6\" class=\"data row3 col6\" >0.0070</td>\n",
       "      <td id=\"T_3b4e7_row3_col7\" class=\"data row3 col7\" >0.0400</td>\n",
       "    </tr>\n",
       "    <tr>\n",
       "      <th id=\"T_3b4e7_level0_row4\" class=\"row_heading level0 row4\" >omp_cds_dt</th>\n",
       "      <td id=\"T_3b4e7_row4_col0\" class=\"data row4 col0\" >Orthogonal Matching Pursuit w/ Cond. Deseasonalize & Detrending</td>\n",
       "      <td id=\"T_3b4e7_row4_col1\" class=\"data row4 col1\" >0.1968</td>\n",
       "      <td id=\"T_3b4e7_row4_col2\" class=\"data row4 col2\" >0.1484</td>\n",
       "      <td id=\"T_3b4e7_row4_col3\" class=\"data row4 col3\" >2.5457</td>\n",
       "      <td id=\"T_3b4e7_row4_col4\" class=\"data row4 col4\" >2.5457</td>\n",
       "      <td id=\"T_3b4e7_row4_col5\" class=\"data row4 col5\" >0.0070</td>\n",
       "      <td id=\"T_3b4e7_row4_col6\" class=\"data row4 col6\" >0.0070</td>\n",
       "      <td id=\"T_3b4e7_row4_col7\" class=\"data row4 col7\" >0.1100</td>\n",
       "    </tr>\n",
       "    <tr>\n",
       "      <th id=\"T_3b4e7_level0_row5\" class=\"row_heading level0 row5\" >llar_cds_dt</th>\n",
       "      <td id=\"T_3b4e7_row5_col0\" class=\"data row5 col0\" >Lasso Least Angular Regressor w/ Cond. Deseasonalize & Detrending</td>\n",
       "      <td id=\"T_3b4e7_row5_col1\" class=\"data row5 col1\" >0.2189</td>\n",
       "      <td id=\"T_3b4e7_row5_col2\" class=\"data row5 col2\" >0.1650</td>\n",
       "      <td id=\"T_3b4e7_row5_col3\" class=\"data row5 col3\" >2.8325</td>\n",
       "      <td id=\"T_3b4e7_row5_col4\" class=\"data row5 col4\" >2.8325</td>\n",
       "      <td id=\"T_3b4e7_row5_col5\" class=\"data row5 col5\" >0.0078</td>\n",
       "      <td id=\"T_3b4e7_row5_col6\" class=\"data row5 col6\" >0.0078</td>\n",
       "      <td id=\"T_3b4e7_row5_col7\" class=\"data row5 col7\" >0.1267</td>\n",
       "    </tr>\n",
       "    <tr>\n",
       "      <th id=\"T_3b4e7_level0_row6\" class=\"row_heading level0 row6\" >lasso_cds_dt</th>\n",
       "      <td id=\"T_3b4e7_row6_col0\" class=\"data row6 col0\" >Lasso w/ Cond. Deseasonalize & Detrending</td>\n",
       "      <td id=\"T_3b4e7_row6_col1\" class=\"data row6 col1\" >0.2189</td>\n",
       "      <td id=\"T_3b4e7_row6_col2\" class=\"data row6 col2\" >0.1650</td>\n",
       "      <td id=\"T_3b4e7_row6_col3\" class=\"data row6 col3\" >2.8327</td>\n",
       "      <td id=\"T_3b4e7_row6_col4\" class=\"data row6 col4\" >2.8327</td>\n",
       "      <td id=\"T_3b4e7_row6_col5\" class=\"data row6 col5\" >0.0078</td>\n",
       "      <td id=\"T_3b4e7_row6_col6\" class=\"data row6 col6\" >0.0078</td>\n",
       "      <td id=\"T_3b4e7_row6_col7\" class=\"data row6 col7\" >0.1267</td>\n",
       "    </tr>\n",
       "    <tr>\n",
       "      <th id=\"T_3b4e7_level0_row7\" class=\"row_heading level0 row7\" >en_cds_dt</th>\n",
       "      <td id=\"T_3b4e7_row7_col0\" class=\"data row7 col0\" >Elastic Net w/ Cond. Deseasonalize & Detrending</td>\n",
       "      <td id=\"T_3b4e7_row7_col1\" class=\"data row7 col1\" >0.2250</td>\n",
       "      <td id=\"T_3b4e7_row7_col2\" class=\"data row7 col2\" >0.1696</td>\n",
       "      <td id=\"T_3b4e7_row7_col3\" class=\"data row7 col3\" >2.9130</td>\n",
       "      <td id=\"T_3b4e7_row7_col4\" class=\"data row7 col4\" >2.9130</td>\n",
       "      <td id=\"T_3b4e7_row7_col5\" class=\"data row7 col5\" >0.0080</td>\n",
       "      <td id=\"T_3b4e7_row7_col6\" class=\"data row7 col6\" >0.0081</td>\n",
       "      <td id=\"T_3b4e7_row7_col7\" class=\"data row7 col7\" >0.1233</td>\n",
       "    </tr>\n",
       "    <tr>\n",
       "      <th id=\"T_3b4e7_level0_row8\" class=\"row_heading level0 row8\" >lr_cds_dt</th>\n",
       "      <td id=\"T_3b4e7_row8_col0\" class=\"data row8 col0\" >Linear w/ Cond. Deseasonalize & Detrending</td>\n",
       "      <td id=\"T_3b4e7_row8_col1\" class=\"data row8 col1\" >0.2308</td>\n",
       "      <td id=\"T_3b4e7_row8_col2\" class=\"data row8 col2\" >0.1741</td>\n",
       "      <td id=\"T_3b4e7_row8_col3\" class=\"data row8 col3\" >2.9870</td>\n",
       "      <td id=\"T_3b4e7_row8_col4\" class=\"data row8 col4\" >2.9870</td>\n",
       "      <td id=\"T_3b4e7_row8_col5\" class=\"data row8 col5\" >0.0082</td>\n",
       "      <td id=\"T_3b4e7_row8_col6\" class=\"data row8 col6\" >0.0083</td>\n",
       "      <td id=\"T_3b4e7_row8_col7\" class=\"data row8 col7\" >0.3300</td>\n",
       "    </tr>\n",
       "    <tr>\n",
       "      <th id=\"T_3b4e7_level0_row9\" class=\"row_heading level0 row9\" >ridge_cds_dt</th>\n",
       "      <td id=\"T_3b4e7_row9_col0\" class=\"data row9 col0\" >Ridge w/ Cond. Deseasonalize & Detrending</td>\n",
       "      <td id=\"T_3b4e7_row9_col1\" class=\"data row9 col1\" >0.2309</td>\n",
       "      <td id=\"T_3b4e7_row9_col2\" class=\"data row9 col2\" >0.1741</td>\n",
       "      <td id=\"T_3b4e7_row9_col3\" class=\"data row9 col3\" >2.9882</td>\n",
       "      <td id=\"T_3b4e7_row9_col4\" class=\"data row9 col4\" >2.9882</td>\n",
       "      <td id=\"T_3b4e7_row9_col5\" class=\"data row9 col5\" >0.0082</td>\n",
       "      <td id=\"T_3b4e7_row9_col6\" class=\"data row9 col6\" >0.0083</td>\n",
       "      <td id=\"T_3b4e7_row9_col7\" class=\"data row9 col7\" >0.1300</td>\n",
       "    </tr>\n",
       "    <tr>\n",
       "      <th id=\"T_3b4e7_level0_row10\" class=\"row_heading level0 row10\" >br_cds_dt</th>\n",
       "      <td id=\"T_3b4e7_row10_col0\" class=\"data row10 col0\" >Bayesian Ridge w/ Cond. Deseasonalize & Detrending</td>\n",
       "      <td id=\"T_3b4e7_row10_col1\" class=\"data row10 col1\" >0.2458</td>\n",
       "      <td id=\"T_3b4e7_row10_col2\" class=\"data row10 col2\" >0.1853</td>\n",
       "      <td id=\"T_3b4e7_row10_col3\" class=\"data row10 col3\" >3.1831</td>\n",
       "      <td id=\"T_3b4e7_row10_col4\" class=\"data row10 col4\" >3.1831</td>\n",
       "      <td id=\"T_3b4e7_row10_col5\" class=\"data row10 col5\" >0.0087</td>\n",
       "      <td id=\"T_3b4e7_row10_col6\" class=\"data row10 col6\" >0.0088</td>\n",
       "      <td id=\"T_3b4e7_row10_col7\" class=\"data row10 col7\" >0.1100</td>\n",
       "    </tr>\n",
       "    <tr>\n",
       "      <th id=\"T_3b4e7_level0_row11\" class=\"row_heading level0 row11\" >huber_cds_dt</th>\n",
       "      <td id=\"T_3b4e7_row11_col0\" class=\"data row11 col0\" >Huber w/ Cond. Deseasonalize & Detrending</td>\n",
       "      <td id=\"T_3b4e7_row11_col1\" class=\"data row11 col1\" >0.2631</td>\n",
       "      <td id=\"T_3b4e7_row11_col2\" class=\"data row11 col2\" >0.1983</td>\n",
       "      <td id=\"T_3b4e7_row11_col3\" class=\"data row11 col3\" >3.4053</td>\n",
       "      <td id=\"T_3b4e7_row11_col4\" class=\"data row11 col4\" >3.4053</td>\n",
       "      <td id=\"T_3b4e7_row11_col5\" class=\"data row11 col5\" >0.0093</td>\n",
       "      <td id=\"T_3b4e7_row11_col6\" class=\"data row11 col6\" >0.0094</td>\n",
       "      <td id=\"T_3b4e7_row11_col7\" class=\"data row11 col7\" >0.1333</td>\n",
       "    </tr>\n",
       "    <tr>\n",
       "      <th id=\"T_3b4e7_level0_row12\" class=\"row_heading level0 row12\" >knn_cds_dt</th>\n",
       "      <td id=\"T_3b4e7_row12_col0\" class=\"data row12 col0\" >K Neighbors w/ Cond. Deseasonalize & Detrending</td>\n",
       "      <td id=\"T_3b4e7_row12_col1\" class=\"data row12 col1\" >0.4059</td>\n",
       "      <td id=\"T_3b4e7_row12_col2\" class=\"data row12 col2\" >0.3059</td>\n",
       "      <td id=\"T_3b4e7_row12_col3\" class=\"data row12 col3\" >5.2622</td>\n",
       "      <td id=\"T_3b4e7_row12_col4\" class=\"data row12 col4\" >5.2622</td>\n",
       "      <td id=\"T_3b4e7_row12_col5\" class=\"data row12 col5\" >0.0144</td>\n",
       "      <td id=\"T_3b4e7_row12_col6\" class=\"data row12 col6\" >0.0146</td>\n",
       "      <td id=\"T_3b4e7_row12_col7\" class=\"data row12 col7\" >0.1100</td>\n",
       "    </tr>\n",
       "    <tr>\n",
       "      <th id=\"T_3b4e7_level0_row13\" class=\"row_heading level0 row13\" >stlf</th>\n",
       "      <td id=\"T_3b4e7_row13_col0\" class=\"data row13 col0\" >STLF</td>\n",
       "      <td id=\"T_3b4e7_row13_col1\" class=\"data row13 col1\" >0.4210</td>\n",
       "      <td id=\"T_3b4e7_row13_col2\" class=\"data row13 col2\" >0.3174</td>\n",
       "      <td id=\"T_3b4e7_row13_col3\" class=\"data row13 col3\" >5.4461</td>\n",
       "      <td id=\"T_3b4e7_row13_col4\" class=\"data row13 col4\" >5.4461</td>\n",
       "      <td id=\"T_3b4e7_row13_col5\" class=\"data row13 col5\" >0.0150</td>\n",
       "      <td id=\"T_3b4e7_row13_col6\" class=\"data row13 col6\" >0.0151</td>\n",
       "      <td id=\"T_3b4e7_row13_col7\" class=\"data row13 col7\" >0.1100</td>\n",
       "    </tr>\n",
       "    <tr>\n",
       "      <th id=\"T_3b4e7_level0_row14\" class=\"row_heading level0 row14\" >rf_cds_dt</th>\n",
       "      <td id=\"T_3b4e7_row14_col0\" class=\"data row14 col0\" >Random Forest w/ Cond. Deseasonalize & Detrending</td>\n",
       "      <td id=\"T_3b4e7_row14_col1\" class=\"data row14 col1\" >0.4785</td>\n",
       "      <td id=\"T_3b4e7_row14_col2\" class=\"data row14 col2\" >0.3607</td>\n",
       "      <td id=\"T_3b4e7_row14_col3\" class=\"data row14 col3\" >6.1981</td>\n",
       "      <td id=\"T_3b4e7_row14_col4\" class=\"data row14 col4\" >6.1981</td>\n",
       "      <td id=\"T_3b4e7_row14_col5\" class=\"data row14 col5\" >0.0170</td>\n",
       "      <td id=\"T_3b4e7_row14_col6\" class=\"data row14 col6\" >0.0172</td>\n",
       "      <td id=\"T_3b4e7_row14_col7\" class=\"data row14 col7\" >0.4633</td>\n",
       "    </tr>\n",
       "    <tr>\n",
       "      <th id=\"T_3b4e7_level0_row15\" class=\"row_heading level0 row15\" >et_cds_dt</th>\n",
       "      <td id=\"T_3b4e7_row15_col0\" class=\"data row15 col0\" >Extra Trees w/ Cond. Deseasonalize & Detrending</td>\n",
       "      <td id=\"T_3b4e7_row15_col1\" class=\"data row15 col1\" >0.4853</td>\n",
       "      <td id=\"T_3b4e7_row15_col2\" class=\"data row15 col2\" >0.3658</td>\n",
       "      <td id=\"T_3b4e7_row15_col3\" class=\"data row15 col3\" >6.2895</td>\n",
       "      <td id=\"T_3b4e7_row15_col4\" class=\"data row15 col4\" >6.2895</td>\n",
       "      <td id=\"T_3b4e7_row15_col5\" class=\"data row15 col5\" >0.0173</td>\n",
       "      <td id=\"T_3b4e7_row15_col6\" class=\"data row15 col6\" >0.0175</td>\n",
       "      <td id=\"T_3b4e7_row15_col7\" class=\"data row15 col7\" >0.3567</td>\n",
       "    </tr>\n",
       "    <tr>\n",
       "      <th id=\"T_3b4e7_level0_row16\" class=\"row_heading level0 row16\" >gbr_cds_dt</th>\n",
       "      <td id=\"T_3b4e7_row16_col0\" class=\"data row16 col0\" >Gradient Boosting w/ Cond. Deseasonalize & Detrending</td>\n",
       "      <td id=\"T_3b4e7_row16_col1\" class=\"data row16 col1\" >0.5443</td>\n",
       "      <td id=\"T_3b4e7_row16_col2\" class=\"data row16 col2\" >0.4104</td>\n",
       "      <td id=\"T_3b4e7_row16_col3\" class=\"data row16 col3\" >7.0447</td>\n",
       "      <td id=\"T_3b4e7_row16_col4\" class=\"data row16 col4\" >7.0447</td>\n",
       "      <td id=\"T_3b4e7_row16_col5\" class=\"data row16 col5\" >0.0194</td>\n",
       "      <td id=\"T_3b4e7_row16_col6\" class=\"data row16 col6\" >0.0196</td>\n",
       "      <td id=\"T_3b4e7_row16_col7\" class=\"data row16 col7\" >0.4433</td>\n",
       "    </tr>\n",
       "    <tr>\n",
       "      <th id=\"T_3b4e7_level0_row17\" class=\"row_heading level0 row17\" >ada_cds_dt</th>\n",
       "      <td id=\"T_3b4e7_row17_col0\" class=\"data row17 col0\" >AdaBoost w/ Cond. Deseasonalize & Detrending</td>\n",
       "      <td id=\"T_3b4e7_row17_col1\" class=\"data row17 col1\" >0.5895</td>\n",
       "      <td id=\"T_3b4e7_row17_col2\" class=\"data row17 col2\" >0.4444</td>\n",
       "      <td id=\"T_3b4e7_row17_col3\" class=\"data row17 col3\" >7.6329</td>\n",
       "      <td id=\"T_3b4e7_row17_col4\" class=\"data row17 col4\" >7.6329</td>\n",
       "      <td id=\"T_3b4e7_row17_col5\" class=\"data row17 col5\" >0.0210</td>\n",
       "      <td id=\"T_3b4e7_row17_col6\" class=\"data row17 col6\" >0.0212</td>\n",
       "      <td id=\"T_3b4e7_row17_col7\" class=\"data row17 col7\" >0.2233</td>\n",
       "    </tr>\n",
       "    <tr>\n",
       "      <th id=\"T_3b4e7_level0_row18\" class=\"row_heading level0 row18\" >dt_cds_dt</th>\n",
       "      <td id=\"T_3b4e7_row18_col0\" class=\"data row18 col0\" >Decision Tree w/ Cond. Deseasonalize & Detrending</td>\n",
       "      <td id=\"T_3b4e7_row18_col1\" class=\"data row18 col1\" >0.6690</td>\n",
       "      <td id=\"T_3b4e7_row18_col2\" class=\"data row18 col2\" >0.5043</td>\n",
       "      <td id=\"T_3b4e7_row18_col3\" class=\"data row18 col3\" >8.6655</td>\n",
       "      <td id=\"T_3b4e7_row18_col4\" class=\"data row18 col4\" >8.6655</td>\n",
       "      <td id=\"T_3b4e7_row18_col5\" class=\"data row18 col5\" >0.0238</td>\n",
       "      <td id=\"T_3b4e7_row18_col6\" class=\"data row18 col6\" >0.0241</td>\n",
       "      <td id=\"T_3b4e7_row18_col7\" class=\"data row18 col7\" >0.1367</td>\n",
       "    </tr>\n",
       "    <tr>\n",
       "      <th id=\"T_3b4e7_level0_row19\" class=\"row_heading level0 row19\" >lightgbm_cds_dt</th>\n",
       "      <td id=\"T_3b4e7_row19_col0\" class=\"data row19 col0\" >Light Gradient Boosting w/ Cond. Deseasonalize & Detrending</td>\n",
       "      <td id=\"T_3b4e7_row19_col1\" class=\"data row19 col1\" >0.6821</td>\n",
       "      <td id=\"T_3b4e7_row19_col2\" class=\"data row19 col2\" >0.5142</td>\n",
       "      <td id=\"T_3b4e7_row19_col3\" class=\"data row19 col3\" >8.8358</td>\n",
       "      <td id=\"T_3b4e7_row19_col4\" class=\"data row19 col4\" >8.8358</td>\n",
       "      <td id=\"T_3b4e7_row19_col5\" class=\"data row19 col5\" >0.0243</td>\n",
       "      <td id=\"T_3b4e7_row19_col6\" class=\"data row19 col6\" >0.0246</td>\n",
       "      <td id=\"T_3b4e7_row19_col7\" class=\"data row19 col7\" >0.6400</td>\n",
       "    </tr>\n",
       "    <tr>\n",
       "      <th id=\"T_3b4e7_level0_row20\" class=\"row_heading level0 row20\" >croston</th>\n",
       "      <td id=\"T_3b4e7_row20_col0\" class=\"data row20 col0\" >Croston</td>\n",
       "      <td id=\"T_3b4e7_row20_col1\" class=\"data row20 col1\" >1.0898</td>\n",
       "      <td id=\"T_3b4e7_row20_col2\" class=\"data row20 col2\" >0.8215</td>\n",
       "      <td id=\"T_3b4e7_row20_col3\" class=\"data row20 col3\" >14.1144</td>\n",
       "      <td id=\"T_3b4e7_row20_col4\" class=\"data row20 col4\" >14.1144</td>\n",
       "      <td id=\"T_3b4e7_row20_col5\" class=\"data row20 col5\" >0.0388</td>\n",
       "      <td id=\"T_3b4e7_row20_col6\" class=\"data row20 col6\" >0.0396</td>\n",
       "      <td id=\"T_3b4e7_row20_col7\" class=\"data row20 col7\" >0.0200</td>\n",
       "    </tr>\n",
       "    <tr>\n",
       "      <th id=\"T_3b4e7_level0_row21\" class=\"row_heading level0 row21\" >polytrend</th>\n",
       "      <td id=\"T_3b4e7_row21_col0\" class=\"data row21 col0\" >Polynomial Trend Forecaster</td>\n",
       "      <td id=\"T_3b4e7_row21_col1\" class=\"data row21 col1\" >1.9559</td>\n",
       "      <td id=\"T_3b4e7_row21_col2\" class=\"data row21 col2\" >1.4745</td>\n",
       "      <td id=\"T_3b4e7_row21_col3\" class=\"data row21 col3\" >25.3225</td>\n",
       "      <td id=\"T_3b4e7_row21_col4\" class=\"data row21 col4\" >25.3225</td>\n",
       "      <td id=\"T_3b4e7_row21_col5\" class=\"data row21 col5\" >0.0697</td>\n",
       "      <td id=\"T_3b4e7_row21_col6\" class=\"data row21 col6\" >0.0723</td>\n",
       "      <td id=\"T_3b4e7_row21_col7\" class=\"data row21 col7\" >0.0233</td>\n",
       "    </tr>\n",
       "    <tr>\n",
       "      <th id=\"T_3b4e7_level0_row22\" class=\"row_heading level0 row22\" >snaive</th>\n",
       "      <td id=\"T_3b4e7_row22_col0\" class=\"data row22 col0\" >Seasonal Naive Forecaster</td>\n",
       "      <td id=\"T_3b4e7_row22_col1\" class=\"data row22 col1\" >3.6704</td>\n",
       "      <td id=\"T_3b4e7_row22_col2\" class=\"data row22 col2\" >2.7674</td>\n",
       "      <td id=\"T_3b4e7_row22_col3\" class=\"data row22 col3\" >47.4900</td>\n",
       "      <td id=\"T_3b4e7_row22_col4\" class=\"data row22 col4\" >47.4900</td>\n",
       "      <td id=\"T_3b4e7_row22_col5\" class=\"data row22 col5\" >0.1309</td>\n",
       "      <td id=\"T_3b4e7_row22_col6\" class=\"data row22 col6\" >0.1401</td>\n",
       "      <td id=\"T_3b4e7_row22_col7\" class=\"data row22 col7\" >0.1100</td>\n",
       "    </tr>\n",
       "    <tr>\n",
       "      <th id=\"T_3b4e7_level0_row23\" class=\"row_heading level0 row23\" >grand_means</th>\n",
       "      <td id=\"T_3b4e7_row23_col0\" class=\"data row23 col0\" >Grand Means Forecaster</td>\n",
       "      <td id=\"T_3b4e7_row23_col1\" class=\"data row23 col1\" >6.0389</td>\n",
       "      <td id=\"T_3b4e7_row23_col2\" class=\"data row23 col2\" >4.5530</td>\n",
       "      <td id=\"T_3b4e7_row23_col3\" class=\"data row23 col3\" >78.1427</td>\n",
       "      <td id=\"T_3b4e7_row23_col4\" class=\"data row23 col4\" >78.1427</td>\n",
       "      <td id=\"T_3b4e7_row23_col5\" class=\"data row23 col5\" >0.2153</td>\n",
       "      <td id=\"T_3b4e7_row23_col6\" class=\"data row23 col6\" >0.2414</td>\n",
       "      <td id=\"T_3b4e7_row23_col7\" class=\"data row23 col7\" >0.0267</td>\n",
       "    </tr>\n",
       "  </tbody>\n",
       "</table>\n"
      ],
      "text/plain": [
       "<pandas.io.formats.style.Styler at 0x708d0fae66e0>"
      ]
     },
     "metadata": {},
     "output_type": "display_data"
    },
    {
     "data": {
      "text/html": [],
      "text/plain": [
       "<IPython.core.display.HTML object>"
      ]
     },
     "metadata": {},
     "output_type": "display_data"
    }
   ],
   "source": [
    "# compare baseline models\n",
    "best = compare_models()"
   ]
  },
  {
   "cell_type": "code",
   "execution_count": 35,
   "id": "8b37c79f",
   "metadata": {},
   "outputs": [
    {
     "data": {
      "application/vnd.plotly.v1+json": {
       "config": {
        "plotlyServerURL": "https://plot.ly"
       },
       "data": [
        {
         "line": {
          "color": "#1f77b4"
         },
         "marker": {
          "size": 5
         },
         "mode": "lines+markers",
         "name": "Forecast | ARIMA",
         "showlegend": true,
         "type": "scatter",
         "x": [
          "2025-10-08T00:00:00"
         ],
         "y": {
          "bdata": "G55eKcvVdkA=",
          "dtype": "f8"
         }
        },
        {
         "line": {
          "width": 0
         },
         "marker": {
          "color": "#68BBE3"
         },
         "mode": "lines",
         "name": "Lower Interval",
         "showlegend": false,
         "type": "scatter",
         "x": [
          "2025-10-08T00:00:00"
         ],
         "y": {
          "bdata": "ZapgVFJ5dkA=",
          "dtype": "f8"
         }
        },
        {
         "fill": "tonexty",
         "fillcolor": "rgba(104,187,227,0.5)",
         "line": {
          "width": 0
         },
         "marker": {
          "color": "#68BBE3"
         },
         "mode": "lines",
         "name": "Prediction Interval | ARIMA",
         "showlegend": true,
         "type": "scatter",
         "x": [
          "2025-10-08T00:00:00"
         ],
         "y": {
          "bdata": "0ZFc/kMyd0A=",
          "dtype": "f8"
         }
        },
        {
         "marker": {
          "color": "#3f3f3f",
          "size": 5
         },
         "mode": "lines+markers",
         "name": "Original",
         "showlegend": true,
         "type": "scatter",
         "x": [
          "2024-10-09T00:00:00",
          "2024-10-10T00:00:00",
          "2024-10-11T00:00:00",
          "2024-10-12T00:00:00",
          "2024-10-13T00:00:00",
          "2024-10-14T00:00:00",
          "2024-10-15T00:00:00",
          "2024-10-16T00:00:00",
          "2024-10-17T00:00:00",
          "2024-10-18T00:00:00",
          "2024-10-19T00:00:00",
          "2024-10-20T00:00:00",
          "2024-10-21T00:00:00",
          "2024-10-22T00:00:00",
          "2024-10-23T00:00:00",
          "2024-10-24T00:00:00",
          "2024-10-25T00:00:00",
          "2024-10-26T00:00:00",
          "2024-10-27T00:00:00",
          "2024-10-28T00:00:00",
          "2024-10-29T00:00:00",
          "2024-10-30T00:00:00",
          "2024-10-31T00:00:00",
          "2024-11-01T00:00:00",
          "2024-11-02T00:00:00",
          "2024-11-03T00:00:00",
          "2024-11-04T00:00:00",
          "2024-11-05T00:00:00",
          "2024-11-06T00:00:00",
          "2024-11-07T00:00:00",
          "2024-11-08T00:00:00",
          "2024-11-09T00:00:00",
          "2024-11-10T00:00:00",
          "2024-11-11T00:00:00",
          "2024-11-12T00:00:00",
          "2024-11-13T00:00:00",
          "2024-11-14T00:00:00",
          "2024-11-15T00:00:00",
          "2024-11-16T00:00:00",
          "2024-11-17T00:00:00",
          "2024-11-18T00:00:00",
          "2024-11-19T00:00:00",
          "2024-11-20T00:00:00",
          "2024-11-21T00:00:00",
          "2024-11-22T00:00:00",
          "2024-11-23T00:00:00",
          "2024-11-24T00:00:00",
          "2024-11-25T00:00:00",
          "2024-11-26T00:00:00",
          "2024-11-27T00:00:00",
          "2024-11-28T00:00:00",
          "2024-11-29T00:00:00",
          "2024-11-30T00:00:00",
          "2024-12-01T00:00:00",
          "2024-12-02T00:00:00",
          "2024-12-03T00:00:00",
          "2024-12-04T00:00:00",
          "2024-12-05T00:00:00",
          "2024-12-06T00:00:00",
          "2024-12-07T00:00:00",
          "2024-12-08T00:00:00",
          "2024-12-09T00:00:00",
          "2024-12-10T00:00:00",
          "2024-12-11T00:00:00",
          "2024-12-12T00:00:00",
          "2024-12-13T00:00:00",
          "2024-12-14T00:00:00",
          "2024-12-15T00:00:00",
          "2024-12-16T00:00:00",
          "2024-12-17T00:00:00",
          "2024-12-18T00:00:00",
          "2024-12-19T00:00:00",
          "2024-12-20T00:00:00",
          "2024-12-21T00:00:00",
          "2024-12-22T00:00:00",
          "2024-12-23T00:00:00",
          "2024-12-24T00:00:00",
          "2024-12-25T00:00:00",
          "2024-12-26T00:00:00",
          "2024-12-27T00:00:00",
          "2024-12-28T00:00:00",
          "2024-12-29T00:00:00",
          "2024-12-30T00:00:00",
          "2024-12-31T00:00:00",
          "2025-01-01T00:00:00",
          "2025-01-02T00:00:00",
          "2025-01-03T00:00:00",
          "2025-01-04T00:00:00",
          "2025-01-05T00:00:00",
          "2025-01-06T00:00:00",
          "2025-01-07T00:00:00",
          "2025-01-08T00:00:00",
          "2025-01-09T00:00:00",
          "2025-01-10T00:00:00",
          "2025-01-11T00:00:00",
          "2025-01-12T00:00:00",
          "2025-01-13T00:00:00",
          "2025-01-14T00:00:00",
          "2025-01-15T00:00:00",
          "2025-01-16T00:00:00",
          "2025-01-17T00:00:00",
          "2025-01-18T00:00:00",
          "2025-01-19T00:00:00",
          "2025-01-20T00:00:00",
          "2025-01-21T00:00:00",
          "2025-01-22T00:00:00",
          "2025-01-23T00:00:00",
          "2025-01-24T00:00:00",
          "2025-01-25T00:00:00",
          "2025-01-26T00:00:00",
          "2025-01-27T00:00:00",
          "2025-01-28T00:00:00",
          "2025-01-29T00:00:00",
          "2025-01-30T00:00:00",
          "2025-01-31T00:00:00",
          "2025-02-01T00:00:00",
          "2025-02-02T00:00:00",
          "2025-02-03T00:00:00",
          "2025-02-04T00:00:00",
          "2025-02-05T00:00:00",
          "2025-02-06T00:00:00",
          "2025-02-07T00:00:00",
          "2025-02-08T00:00:00",
          "2025-02-09T00:00:00",
          "2025-02-10T00:00:00",
          "2025-02-11T00:00:00",
          "2025-02-12T00:00:00",
          "2025-02-13T00:00:00",
          "2025-02-14T00:00:00",
          "2025-02-15T00:00:00",
          "2025-02-16T00:00:00",
          "2025-02-17T00:00:00",
          "2025-02-18T00:00:00",
          "2025-02-19T00:00:00",
          "2025-02-20T00:00:00",
          "2025-02-21T00:00:00",
          "2025-02-22T00:00:00",
          "2025-02-23T00:00:00",
          "2025-02-24T00:00:00",
          "2025-02-25T00:00:00",
          "2025-02-26T00:00:00",
          "2025-02-27T00:00:00",
          "2025-02-28T00:00:00",
          "2025-03-01T00:00:00",
          "2025-03-02T00:00:00",
          "2025-03-03T00:00:00",
          "2025-03-04T00:00:00",
          "2025-03-05T00:00:00",
          "2025-03-06T00:00:00",
          "2025-03-07T00:00:00",
          "2025-03-08T00:00:00",
          "2025-03-09T00:00:00",
          "2025-03-10T00:00:00",
          "2025-03-11T00:00:00",
          "2025-03-12T00:00:00",
          "2025-03-13T00:00:00",
          "2025-03-14T00:00:00",
          "2025-03-15T00:00:00",
          "2025-03-16T00:00:00",
          "2025-03-17T00:00:00",
          "2025-03-18T00:00:00",
          "2025-03-19T00:00:00",
          "2025-03-20T00:00:00",
          "2025-03-21T00:00:00",
          "2025-03-22T00:00:00",
          "2025-03-23T00:00:00",
          "2025-03-24T00:00:00",
          "2025-03-25T00:00:00",
          "2025-03-26T00:00:00",
          "2025-03-27T00:00:00",
          "2025-03-28T00:00:00",
          "2025-03-29T00:00:00",
          "2025-03-30T00:00:00",
          "2025-03-31T00:00:00",
          "2025-04-01T00:00:00",
          "2025-04-02T00:00:00",
          "2025-04-03T00:00:00",
          "2025-04-04T00:00:00",
          "2025-04-05T00:00:00",
          "2025-04-06T00:00:00",
          "2025-04-07T00:00:00",
          "2025-04-08T00:00:00",
          "2025-04-09T00:00:00",
          "2025-04-10T00:00:00",
          "2025-04-11T00:00:00",
          "2025-04-12T00:00:00",
          "2025-04-13T00:00:00",
          "2025-04-14T00:00:00",
          "2025-04-15T00:00:00",
          "2025-04-16T00:00:00",
          "2025-04-17T00:00:00",
          "2025-04-18T00:00:00",
          "2025-04-19T00:00:00",
          "2025-04-20T00:00:00",
          "2025-04-21T00:00:00",
          "2025-04-22T00:00:00",
          "2025-04-23T00:00:00",
          "2025-04-24T00:00:00",
          "2025-04-25T00:00:00",
          "2025-04-26T00:00:00",
          "2025-04-27T00:00:00",
          "2025-04-28T00:00:00",
          "2025-04-29T00:00:00",
          "2025-04-30T00:00:00",
          "2025-05-01T00:00:00",
          "2025-05-02T00:00:00",
          "2025-05-03T00:00:00",
          "2025-05-04T00:00:00",
          "2025-05-05T00:00:00",
          "2025-05-06T00:00:00",
          "2025-05-07T00:00:00",
          "2025-05-08T00:00:00",
          "2025-05-09T00:00:00",
          "2025-05-10T00:00:00",
          "2025-05-11T00:00:00",
          "2025-05-12T00:00:00",
          "2025-05-13T00:00:00",
          "2025-05-14T00:00:00",
          "2025-05-15T00:00:00",
          "2025-05-16T00:00:00",
          "2025-05-17T00:00:00",
          "2025-05-18T00:00:00",
          "2025-05-19T00:00:00",
          "2025-05-20T00:00:00",
          "2025-05-21T00:00:00",
          "2025-05-22T00:00:00",
          "2025-05-23T00:00:00",
          "2025-05-24T00:00:00",
          "2025-05-25T00:00:00",
          "2025-05-26T00:00:00",
          "2025-05-27T00:00:00",
          "2025-05-28T00:00:00",
          "2025-05-29T00:00:00",
          "2025-05-30T00:00:00",
          "2025-05-31T00:00:00",
          "2025-06-01T00:00:00",
          "2025-06-02T00:00:00",
          "2025-06-03T00:00:00",
          "2025-06-04T00:00:00",
          "2025-06-05T00:00:00",
          "2025-06-06T00:00:00",
          "2025-06-07T00:00:00",
          "2025-06-08T00:00:00",
          "2025-06-09T00:00:00",
          "2025-06-10T00:00:00",
          "2025-06-11T00:00:00",
          "2025-06-12T00:00:00",
          "2025-06-13T00:00:00",
          "2025-06-14T00:00:00",
          "2025-06-15T00:00:00",
          "2025-06-16T00:00:00",
          "2025-06-17T00:00:00",
          "2025-06-18T00:00:00",
          "2025-06-19T00:00:00",
          "2025-06-20T00:00:00",
          "2025-06-21T00:00:00",
          "2025-06-22T00:00:00",
          "2025-06-23T00:00:00",
          "2025-06-24T00:00:00",
          "2025-06-25T00:00:00",
          "2025-06-26T00:00:00",
          "2025-06-27T00:00:00",
          "2025-06-28T00:00:00",
          "2025-06-29T00:00:00",
          "2025-06-30T00:00:00",
          "2025-07-01T00:00:00",
          "2025-07-02T00:00:00",
          "2025-07-03T00:00:00",
          "2025-07-04T00:00:00",
          "2025-07-05T00:00:00",
          "2025-07-06T00:00:00",
          "2025-07-07T00:00:00",
          "2025-07-08T00:00:00",
          "2025-07-09T00:00:00",
          "2025-07-10T00:00:00",
          "2025-07-11T00:00:00",
          "2025-07-12T00:00:00",
          "2025-07-13T00:00:00",
          "2025-07-14T00:00:00",
          "2025-07-15T00:00:00",
          "2025-07-16T00:00:00",
          "2025-07-17T00:00:00",
          "2025-07-18T00:00:00",
          "2025-07-19T00:00:00",
          "2025-07-20T00:00:00",
          "2025-07-21T00:00:00",
          "2025-07-22T00:00:00",
          "2025-07-23T00:00:00",
          "2025-07-24T00:00:00",
          "2025-07-25T00:00:00",
          "2025-07-26T00:00:00",
          "2025-07-27T00:00:00",
          "2025-07-28T00:00:00",
          "2025-07-29T00:00:00",
          "2025-07-30T00:00:00",
          "2025-07-31T00:00:00",
          "2025-08-01T00:00:00",
          "2025-08-02T00:00:00",
          "2025-08-03T00:00:00",
          "2025-08-04T00:00:00",
          "2025-08-05T00:00:00",
          "2025-08-06T00:00:00",
          "2025-08-07T00:00:00",
          "2025-08-08T00:00:00",
          "2025-08-09T00:00:00",
          "2025-08-10T00:00:00",
          "2025-08-11T00:00:00",
          "2025-08-12T00:00:00",
          "2025-08-13T00:00:00",
          "2025-08-14T00:00:00",
          "2025-08-15T00:00:00",
          "2025-08-16T00:00:00",
          "2025-08-17T00:00:00",
          "2025-08-18T00:00:00",
          "2025-08-19T00:00:00",
          "2025-08-20T00:00:00",
          "2025-08-21T00:00:00",
          "2025-08-22T00:00:00",
          "2025-08-23T00:00:00",
          "2025-08-24T00:00:00",
          "2025-08-25T00:00:00",
          "2025-08-26T00:00:00",
          "2025-08-27T00:00:00",
          "2025-08-28T00:00:00",
          "2025-08-29T00:00:00",
          "2025-08-30T00:00:00",
          "2025-08-31T00:00:00",
          "2025-09-01T00:00:00",
          "2025-09-02T00:00:00",
          "2025-09-03T00:00:00",
          "2025-09-04T00:00:00",
          "2025-09-05T00:00:00",
          "2025-09-06T00:00:00",
          "2025-09-07T00:00:00",
          "2025-09-08T00:00:00",
          "2025-09-09T00:00:00",
          "2025-09-10T00:00:00",
          "2025-09-11T00:00:00",
          "2025-09-12T00:00:00",
          "2025-09-13T00:00:00",
          "2025-09-14T00:00:00",
          "2025-09-15T00:00:00",
          "2025-09-16T00:00:00",
          "2025-09-17T00:00:00",
          "2025-09-18T00:00:00",
          "2025-09-19T00:00:00",
          "2025-09-20T00:00:00",
          "2025-09-21T00:00:00",
          "2025-09-22T00:00:00",
          "2025-09-23T00:00:00",
          "2025-09-24T00:00:00",
          "2025-09-25T00:00:00",
          "2025-09-26T00:00:00",
          "2025-09-27T00:00:00",
          "2025-09-28T00:00:00",
          "2025-09-29T00:00:00",
          "2025-09-30T00:00:00",
          "2025-10-01T00:00:00",
          "2025-10-02T00:00:00",
          "2025-10-03T00:00:00",
          "2025-10-04T00:00:00",
          "2025-10-05T00:00:00",
          "2025-10-06T00:00:00",
          "2025-10-07T00:00:00",
          "2025-10-08T00:00:00"
         ],
         "y": {
          "bdata": "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",
          "dtype": "f8"
         }
        }
       ],
       "layout": {
        "showlegend": true,
        "template": {
         "data": {
          "bar": [
           {
            "error_x": {
             "color": "rgb(51,51,51)"
            },
            "error_y": {
             "color": "rgb(51,51,51)"
            },
            "marker": {
             "line": {
              "color": "rgb(237,237,237)",
              "width": 0.5
             },
             "pattern": {
              "fillmode": "overlay",
              "size": 10,
              "solidity": 0.2
             }
            },
            "type": "bar"
           }
          ],
          "barpolar": [
           {
            "marker": {
             "line": {
              "color": "rgb(237,237,237)",
              "width": 0.5
             },
             "pattern": {
              "fillmode": "overlay",
              "size": 10,
              "solidity": 0.2
             }
            },
            "type": "barpolar"
           }
          ],
          "carpet": [
           {
            "aaxis": {
             "endlinecolor": "rgb(51,51,51)",
             "gridcolor": "white",
             "linecolor": "white",
             "minorgridcolor": "white",
             "startlinecolor": "rgb(51,51,51)"
            },
            "baxis": {
             "endlinecolor": "rgb(51,51,51)",
             "gridcolor": "white",
             "linecolor": "white",
             "minorgridcolor": "white",
             "startlinecolor": "rgb(51,51,51)"
            },
            "type": "carpet"
           }
          ],
          "choropleth": [
           {
            "colorbar": {
             "outlinewidth": 0,
             "tickcolor": "rgb(237,237,237)",
             "ticklen": 6,
             "ticks": "inside"
            },
            "type": "choropleth"
           }
          ],
          "contour": [
           {
            "colorbar": {
             "outlinewidth": 0,
             "tickcolor": "rgb(237,237,237)",
             "ticklen": 6,
             "ticks": "inside"
            },
            "colorscale": [
             [
              0,
              "rgb(20,44,66)"
             ],
             [
              1,
              "rgb(90,179,244)"
             ]
            ],
            "type": "contour"
           }
          ],
          "contourcarpet": [
           {
            "colorbar": {
             "outlinewidth": 0,
             "tickcolor": "rgb(237,237,237)",
             "ticklen": 6,
             "ticks": "inside"
            },
            "type": "contourcarpet"
           }
          ],
          "heatmap": [
           {
            "colorbar": {
             "outlinewidth": 0,
             "tickcolor": "rgb(237,237,237)",
             "ticklen": 6,
             "ticks": "inside"
            },
            "colorscale": [
             [
              0,
              "rgb(20,44,66)"
             ],
             [
              1,
              "rgb(90,179,244)"
             ]
            ],
            "type": "heatmap"
           }
          ],
          "histogram": [
           {
            "marker": {
             "pattern": {
              "fillmode": "overlay",
              "size": 10,
              "solidity": 0.2
             }
            },
            "type": "histogram"
           }
          ],
          "histogram2d": [
           {
            "colorbar": {
             "outlinewidth": 0,
             "tickcolor": "rgb(237,237,237)",
             "ticklen": 6,
             "ticks": "inside"
            },
            "colorscale": [
             [
              0,
              "rgb(20,44,66)"
             ],
             [
              1,
              "rgb(90,179,244)"
             ]
            ],
            "type": "histogram2d"
           }
          ],
          "histogram2dcontour": [
           {
            "colorbar": {
             "outlinewidth": 0,
             "tickcolor": "rgb(237,237,237)",
             "ticklen": 6,
             "ticks": "inside"
            },
            "colorscale": [
             [
              0,
              "rgb(20,44,66)"
             ],
             [
              1,
              "rgb(90,179,244)"
             ]
            ],
            "type": "histogram2dcontour"
           }
          ],
          "mesh3d": [
           {
            "colorbar": {
             "outlinewidth": 0,
             "tickcolor": "rgb(237,237,237)",
             "ticklen": 6,
             "ticks": "inside"
            },
            "type": "mesh3d"
           }
          ],
          "parcoords": [
           {
            "line": {
             "colorbar": {
              "outlinewidth": 0,
              "tickcolor": "rgb(237,237,237)",
              "ticklen": 6,
              "ticks": "inside"
             }
            },
            "type": "parcoords"
           }
          ],
          "pie": [
           {
            "automargin": true,
            "type": "pie"
           }
          ],
          "scatter": [
           {
            "fillpattern": {
             "fillmode": "overlay",
             "size": 10,
             "solidity": 0.2
            },
            "type": "scatter"
           }
          ],
          "scatter3d": [
           {
            "line": {
             "colorbar": {
              "outlinewidth": 0,
              "tickcolor": "rgb(237,237,237)",
              "ticklen": 6,
              "ticks": "inside"
             }
            },
            "marker": {
             "colorbar": {
              "outlinewidth": 0,
              "tickcolor": "rgb(237,237,237)",
              "ticklen": 6,
              "ticks": "inside"
             }
            },
            "type": "scatter3d"
           }
          ],
          "scattercarpet": [
           {
            "marker": {
             "colorbar": {
              "outlinewidth": 0,
              "tickcolor": "rgb(237,237,237)",
              "ticklen": 6,
              "ticks": "inside"
             }
            },
            "type": "scattercarpet"
           }
          ],
          "scattergeo": [
           {
            "marker": {
             "colorbar": {
              "outlinewidth": 0,
              "tickcolor": "rgb(237,237,237)",
              "ticklen": 6,
              "ticks": "inside"
             }
            },
            "type": "scattergeo"
           }
          ],
          "scattergl": [
           {
            "marker": {
             "colorbar": {
              "outlinewidth": 0,
              "tickcolor": "rgb(237,237,237)",
              "ticklen": 6,
              "ticks": "inside"
             }
            },
            "type": "scattergl"
           }
          ],
          "scattermap": [
           {
            "marker": {
             "colorbar": {
              "outlinewidth": 0,
              "tickcolor": "rgb(237,237,237)",
              "ticklen": 6,
              "ticks": "inside"
             }
            },
            "type": "scattermap"
           }
          ],
          "scattermapbox": [
           {
            "marker": {
             "colorbar": {
              "outlinewidth": 0,
              "tickcolor": "rgb(237,237,237)",
              "ticklen": 6,
              "ticks": "inside"
             }
            },
            "type": "scattermapbox"
           }
          ],
          "scatterpolar": [
           {
            "marker": {
             "colorbar": {
              "outlinewidth": 0,
              "tickcolor": "rgb(237,237,237)",
              "ticklen": 6,
              "ticks": "inside"
             }
            },
            "type": "scatterpolar"
           }
          ],
          "scatterpolargl": [
           {
            "marker": {
             "colorbar": {
              "outlinewidth": 0,
              "tickcolor": "rgb(237,237,237)",
              "ticklen": 6,
              "ticks": "inside"
             }
            },
            "type": "scatterpolargl"
           }
          ],
          "scatterternary": [
           {
            "marker": {
             "colorbar": {
              "outlinewidth": 0,
              "tickcolor": "rgb(237,237,237)",
              "ticklen": 6,
              "ticks": "inside"
             }
            },
            "type": "scatterternary"
           }
          ],
          "surface": [
           {
            "colorbar": {
             "outlinewidth": 0,
             "tickcolor": "rgb(237,237,237)",
             "ticklen": 6,
             "ticks": "inside"
            },
            "colorscale": [
             [
              0,
              "rgb(20,44,66)"
             ],
             [
              1,
              "rgb(90,179,244)"
             ]
            ],
            "type": "surface"
           }
          ],
          "table": [
           {
            "cells": {
             "fill": {
              "color": "rgb(237,237,237)"
             },
             "line": {
              "color": "white"
             }
            },
            "header": {
             "fill": {
              "color": "rgb(217,217,217)"
             },
             "line": {
              "color": "white"
             }
            },
            "type": "table"
           }
          ]
         },
         "layout": {
          "annotationdefaults": {
           "arrowhead": 0,
           "arrowwidth": 1
          },
          "autotypenumbers": "strict",
          "coloraxis": {
           "colorbar": {
            "outlinewidth": 0,
            "tickcolor": "rgb(237,237,237)",
            "ticklen": 6,
            "ticks": "inside"
           }
          },
          "colorscale": {
           "sequential": [
            [
             0,
             "rgb(20,44,66)"
            ],
            [
             1,
             "rgb(90,179,244)"
            ]
           ],
           "sequentialminus": [
            [
             0,
             "rgb(20,44,66)"
            ],
            [
             1,
             "rgb(90,179,244)"
            ]
           ]
          },
          "colorway": [
           "#F8766D",
           "#A3A500",
           "#00BF7D",
           "#00B0F6",
           "#E76BF3"
          ],
          "font": {
           "color": "rgb(51,51,51)"
          },
          "geo": {
           "bgcolor": "white",
           "lakecolor": "white",
           "landcolor": "rgb(237,237,237)",
           "showlakes": true,
           "showland": true,
           "subunitcolor": "white"
          },
          "hoverlabel": {
           "align": "left"
          },
          "hovermode": "closest",
          "paper_bgcolor": "white",
          "plot_bgcolor": "rgb(237,237,237)",
          "polar": {
           "angularaxis": {
            "gridcolor": "white",
            "linecolor": "white",
            "showgrid": true,
            "tickcolor": "rgb(51,51,51)",
            "ticks": "outside"
           },
           "bgcolor": "rgb(237,237,237)",
           "radialaxis": {
            "gridcolor": "white",
            "linecolor": "white",
            "showgrid": true,
            "tickcolor": "rgb(51,51,51)",
            "ticks": "outside"
           }
          },
          "scene": {
           "xaxis": {
            "backgroundcolor": "rgb(237,237,237)",
            "gridcolor": "white",
            "gridwidth": 2,
            "linecolor": "white",
            "showbackground": true,
            "showgrid": true,
            "tickcolor": "rgb(51,51,51)",
            "ticks": "outside",
            "zerolinecolor": "white"
           },
           "yaxis": {
            "backgroundcolor": "rgb(237,237,237)",
            "gridcolor": "white",
            "gridwidth": 2,
            "linecolor": "white",
            "showbackground": true,
            "showgrid": true,
            "tickcolor": "rgb(51,51,51)",
            "ticks": "outside",
            "zerolinecolor": "white"
           },
           "zaxis": {
            "backgroundcolor": "rgb(237,237,237)",
            "gridcolor": "white",
            "gridwidth": 2,
            "linecolor": "white",
            "showbackground": true,
            "showgrid": true,
            "tickcolor": "rgb(51,51,51)",
            "ticks": "outside",
            "zerolinecolor": "white"
           }
          },
          "shapedefaults": {
           "fillcolor": "black",
           "line": {
            "width": 0
           },
           "opacity": 0.3
          },
          "ternary": {
           "aaxis": {
            "gridcolor": "white",
            "linecolor": "white",
            "showgrid": true,
            "tickcolor": "rgb(51,51,51)",
            "ticks": "outside"
           },
           "baxis": {
            "gridcolor": "white",
            "linecolor": "white",
            "showgrid": true,
            "tickcolor": "rgb(51,51,51)",
            "ticks": "outside"
           },
           "bgcolor": "rgb(237,237,237)",
           "caxis": {
            "gridcolor": "white",
            "linecolor": "white",
            "showgrid": true,
            "tickcolor": "rgb(51,51,51)",
            "ticks": "outside"
           }
          },
          "xaxis": {
           "automargin": true,
           "gridcolor": "white",
           "linecolor": "white",
           "showgrid": true,
           "tickcolor": "rgb(51,51,51)",
           "ticks": "outside",
           "title": {
            "standoff": 15
           },
           "zerolinecolor": "white"
          },
          "yaxis": {
           "automargin": true,
           "gridcolor": "white",
           "linecolor": "white",
           "showgrid": true,
           "tickcolor": "rgb(51,51,51)",
           "ticks": "outside",
           "title": {
            "standoff": 15
           },
           "zerolinecolor": "white"
          }
         }
        },
        "title": {
         "text": "Actual vs. 'Out-of-Sample' Forecast | Close"
        },
        "xaxis": {
         "title": {
          "text": "Time"
         }
        },
        "yaxis": {
         "title": {
          "text": "Values"
         }
        }
       }
      }
     },
     "metadata": {},
     "output_type": "display_data"
    }
   ],
   "source": [
    "# plot forecast\n",
    "plot_model(best, plot = 'forecast')"
   ]
  },
  {
   "cell_type": "code",
   "execution_count": 37,
   "id": "877f9393",
   "metadata": {},
   "outputs": [
    {
     "data": {
      "application/vnd.plotly.v1+json": {
       "config": {
        "plotlyServerURL": "https://plot.ly"
       },
       "data": [
        {
         "line": {
          "color": "#1f77b4"
         },
         "marker": {
          "size": 5
         },
         "mode": "lines+markers",
         "name": "Forecast | ARIMA",
         "showlegend": true,
         "type": "scatter",
         "x": [
          "2025-10-08T00:00:00",
          "2025-10-09T00:00:00",
          "2025-10-10T00:00:00",
          "2025-10-11T00:00:00",
          "2025-10-12T00:00:00",
          "2025-10-13T00:00:00",
          "2025-10-14T00:00:00",
          "2025-10-15T00:00:00",
          "2025-10-16T00:00:00",
          "2025-10-17T00:00:00",
          "2025-10-18T00:00:00",
          "2025-10-19T00:00:00",
          "2025-10-20T00:00:00",
          "2025-10-21T00:00:00",
          "2025-10-22T00:00:00",
          "2025-10-23T00:00:00",
          "2025-10-24T00:00:00",
          "2025-10-25T00:00:00",
          "2025-10-26T00:00:00",
          "2025-10-27T00:00:00",
          "2025-10-28T00:00:00",
          "2025-10-29T00:00:00",
          "2025-10-30T00:00:00",
          "2025-10-31T00:00:00",
          "2025-11-01T00:00:00",
          "2025-11-02T00:00:00",
          "2025-11-03T00:00:00",
          "2025-11-04T00:00:00",
          "2025-11-05T00:00:00",
          "2025-11-06T00:00:00",
          "2025-11-07T00:00:00",
          "2025-11-08T00:00:00",
          "2025-11-09T00:00:00",
          "2025-11-10T00:00:00",
          "2025-11-11T00:00:00",
          "2025-11-12T00:00:00",
          "2025-11-13T00:00:00",
          "2025-11-14T00:00:00",
          "2025-11-15T00:00:00",
          "2025-11-16T00:00:00",
          "2025-11-17T00:00:00",
          "2025-11-18T00:00:00",
          "2025-11-19T00:00:00",
          "2025-11-20T00:00:00",
          "2025-11-21T00:00:00",
          "2025-11-22T00:00:00",
          "2025-11-23T00:00:00",
          "2025-11-24T00:00:00",
          "2025-11-25T00:00:00",
          "2025-11-26T00:00:00"
         ],
         "y": {
          "bdata": "G55eKcvVdkBvEoPAysd2QPkx5q4lunZAukkMAisld0BeukkMAkF3QMWPMXctHXdADeAtkKBWd0Bm9+RhoUp3QGdEaW/wPndAayv2l91vd0BGJXUCmlh3QD7o2az6YHdA30+Nl25Od0BtVn2utk53QARWDi2yRHdAtRX7y+46d0Bz1xLyQWl3QGsr9pfdandAm+Ydp+g3d0DWxW00gBl3QM6I0t7gSXdAOiNKe4NBd0CPwvUoXDl3QHWTGARWj3dA/tR46Saed0BB8WPMXWR3QN5xio7kc3dAyJi7lpCMd0DYgXNGlIV3QFmGONbFfndA2T15WKjTd0AxCKwcWv13QLfRAN4CAHhAzF1LyAfmd0AibHh6pQ14QDAqqRPQB3hA46WbxCACeECGONbFbWh4QHqlLEMcgXhAwTkjSntteEAxCKwcWlp4QGiz6nO1R3hAZohjXdyteEB3LSEf9MR4QNEi2/l+nHhAkX77OnDReEA1XrpJDMF4QKmkTkATsXhAQBNhw9PdeEDRItv5fsJ4QA==",
          "dtype": "f8"
         }
        },
        {
         "line": {
          "width": 0
         },
         "marker": {
          "color": "#68BBE3"
         },
         "mode": "lines",
         "name": "Lower Interval",
         "showlegend": false,
         "type": "scatter",
         "x": [
          "2025-10-08T00:00:00",
          "2025-10-09T00:00:00",
          "2025-10-10T00:00:00",
          "2025-10-11T00:00:00",
          "2025-10-12T00:00:00",
          "2025-10-13T00:00:00",
          "2025-10-14T00:00:00",
          "2025-10-15T00:00:00",
          "2025-10-16T00:00:00",
          "2025-10-17T00:00:00",
          "2025-10-18T00:00:00",
          "2025-10-19T00:00:00",
          "2025-10-20T00:00:00",
          "2025-10-21T00:00:00",
          "2025-10-22T00:00:00",
          "2025-10-23T00:00:00",
          "2025-10-24T00:00:00",
          "2025-10-25T00:00:00",
          "2025-10-26T00:00:00",
          "2025-10-27T00:00:00",
          "2025-10-28T00:00:00",
          "2025-10-29T00:00:00",
          "2025-10-30T00:00:00",
          "2025-10-31T00:00:00",
          "2025-11-01T00:00:00",
          "2025-11-02T00:00:00",
          "2025-11-03T00:00:00",
          "2025-11-04T00:00:00",
          "2025-11-05T00:00:00",
          "2025-11-06T00:00:00",
          "2025-11-07T00:00:00",
          "2025-11-08T00:00:00",
          "2025-11-09T00:00:00",
          "2025-11-10T00:00:00",
          "2025-11-11T00:00:00",
          "2025-11-12T00:00:00",
          "2025-11-13T00:00:00",
          "2025-11-14T00:00:00",
          "2025-11-15T00:00:00",
          "2025-11-16T00:00:00",
          "2025-11-17T00:00:00",
          "2025-11-18T00:00:00",
          "2025-11-19T00:00:00",
          "2025-11-20T00:00:00",
          "2025-11-21T00:00:00",
          "2025-11-22T00:00:00",
          "2025-11-23T00:00:00",
          "2025-11-24T00:00:00",
          "2025-11-25T00:00:00",
          "2025-11-26T00:00:00"
         ],
         "y": {
          "bdata": "ZapgVFJ5dkCRD3o2q0Z2QESLbOf7HXZAs+pztRVzdkDek4eFWnx2QFHaG3xhSHZAw/UoXI9zdkBvEoPAylp2QHrHKTqSQ3ZAaQBvgQRqdkDA7J48LEl2QET67evASHZAcF8HzhkudkCGWtO84yZ2QATnjCjtFXZAFD/G3LUFdkDMXUvIBy52QH6MuWsJKnZArrZif9nxdUC4rwPnjM51QNjw9EpZ+nVA/7J78rDtdUDhC5OpguF1QGIQWDm0M3ZA24r9Zfc+dkD35GGh1gF2QJwzorQ3DnZABOeMKO0jdkBSSZ2AJhp2QBQ/xty1EHZA07zjFB1jdkCxUGuad4p2QKCJsOHpinZAqRPQRNhudkBzaJHtfJR2QG8Sg8DKjHZAf9k9eViFdkA+6Nms+ul2QLPqc7UVAXdAke18PzXZdkA5tMh2vrN2QGHD0ytlkHZAvAUSFD/ndkDXNO84RfB2QEa28/3UunZA9ihcj8LjdkCh1jTvOMh2QIC3QILirXZARIts5/vQdkB24JwRpax2QA==",
          "dtype": "f8"
         }
        },
        {
         "fill": "tonexty",
         "fillcolor": "rgba(104,187,227,0.5)",
         "line": {
          "width": 0
         },
         "marker": {
          "color": "#68BBE3"
         },
         "mode": "lines",
         "name": "Prediction Interval | ARIMA",
         "showlegend": true,
         "type": "scatter",
         "x": [
          "2025-10-08T00:00:00",
          "2025-10-09T00:00:00",
          "2025-10-10T00:00:00",
          "2025-10-11T00:00:00",
          "2025-10-12T00:00:00",
          "2025-10-13T00:00:00",
          "2025-10-14T00:00:00",
          "2025-10-15T00:00:00",
          "2025-10-16T00:00:00",
          "2025-10-17T00:00:00",
          "2025-10-18T00:00:00",
          "2025-10-19T00:00:00",
          "2025-10-20T00:00:00",
          "2025-10-21T00:00:00",
          "2025-10-22T00:00:00",
          "2025-10-23T00:00:00",
          "2025-10-24T00:00:00",
          "2025-10-25T00:00:00",
          "2025-10-26T00:00:00",
          "2025-10-27T00:00:00",
          "2025-10-28T00:00:00",
          "2025-10-29T00:00:00",
          "2025-10-30T00:00:00",
          "2025-10-31T00:00:00",
          "2025-11-01T00:00:00",
          "2025-11-02T00:00:00",
          "2025-11-03T00:00:00",
          "2025-11-04T00:00:00",
          "2025-11-05T00:00:00",
          "2025-11-06T00:00:00",
          "2025-11-07T00:00:00",
          "2025-11-08T00:00:00",
          "2025-11-09T00:00:00",
          "2025-11-10T00:00:00",
          "2025-11-11T00:00:00",
          "2025-11-12T00:00:00",
          "2025-11-13T00:00:00",
          "2025-11-14T00:00:00",
          "2025-11-15T00:00:00",
          "2025-11-16T00:00:00",
          "2025-11-17T00:00:00",
          "2025-11-18T00:00:00",
          "2025-11-19T00:00:00",
          "2025-11-20T00:00:00",
          "2025-11-21T00:00:00",
          "2025-11-22T00:00:00",
          "2025-11-23T00:00:00",
          "2025-11-24T00:00:00",
          "2025-11-25T00:00:00",
          "2025-11-26T00:00:00"
         ],
         "y": {
          "bdata": "0ZFc/kMyd0D5oGez6kh3QK7YX3ZPVndAbjSAt0DXd0Df4AuTqQV4QDlFR3L58XdABFYOLbI5eEAKaCJseDp4QFXBqKROOnhAbVZ9rrZ1eEAg0m9fB2h4QIxK6gQ0eXhAorQ3+MJueEBUUiegiXZ4QAXFjzF3c3hAV+wvuydweEDG3LWEfKR4QFjKMsSxq3hA24r9Zfd9eED129eBc2R4QMUgsHJomXhAyAc9m1WVeEA+eVioNZF4QNuK/WX36nhAzqrP1Vb9eEA3iUFg5cZ4QCGwcmiR2XhAjErqBDT1eEALRiV1AvF4QPJBz2bV7HhA4L4OnDNEeUBeS8gHPXB5QM4ZUdobdXlA8KfGSzddeUAm5IOezYZ5QJ/Nqs/VgnlA9P3UeOl+eUDOiNLe4OZ5QJXUCWgiAXpA8IXJVMEBekApXI/C9QB6QBsv3SQG/3lAY3/ZPXl0ekAYJlMFo5l6QAkbnl4pfnpA2V92Tx6/ekDJ5T+k37l6QCUGgZVDtHpAPZtVn6vqekAsZRniWNh6QA==",
          "dtype": "f8"
         }
        },
        {
         "marker": {
          "color": "#3f3f3f",
          "size": 5
         },
         "mode": "lines+markers",
         "name": "Original",
         "showlegend": true,
         "type": "scatter",
         "x": [
          "2024-10-09T00:00:00",
          "2024-10-10T00:00:00",
          "2024-10-11T00:00:00",
          "2024-10-12T00:00:00",
          "2024-10-13T00:00:00",
          "2024-10-14T00:00:00",
          "2024-10-15T00:00:00",
          "2024-10-16T00:00:00",
          "2024-10-17T00:00:00",
          "2024-10-18T00:00:00",
          "2024-10-19T00:00:00",
          "2024-10-20T00:00:00",
          "2024-10-21T00:00:00",
          "2024-10-22T00:00:00",
          "2024-10-23T00:00:00",
          "2024-10-24T00:00:00",
          "2024-10-25T00:00:00",
          "2024-10-26T00:00:00",
          "2024-10-27T00:00:00",
          "2024-10-28T00:00:00",
          "2024-10-29T00:00:00",
          "2024-10-30T00:00:00",
          "2024-10-31T00:00:00",
          "2024-11-01T00:00:00",
          "2024-11-02T00:00:00",
          "2024-11-03T00:00:00",
          "2024-11-04T00:00:00",
          "2024-11-05T00:00:00",
          "2024-11-06T00:00:00",
          "2024-11-07T00:00:00",
          "2024-11-08T00:00:00",
          "2024-11-09T00:00:00",
          "2024-11-10T00:00:00",
          "2024-11-11T00:00:00",
          "2024-11-12T00:00:00",
          "2024-11-13T00:00:00",
          "2024-11-14T00:00:00",
          "2024-11-15T00:00:00",
          "2024-11-16T00:00:00",
          "2024-11-17T00:00:00",
          "2024-11-18T00:00:00",
          "2024-11-19T00:00:00",
          "2024-11-20T00:00:00",
          "2024-11-21T00:00:00",
          "2024-11-22T00:00:00",
          "2024-11-23T00:00:00",
          "2024-11-24T00:00:00",
          "2024-11-25T00:00:00",
          "2024-11-26T00:00:00",
          "2024-11-27T00:00:00",
          "2024-11-28T00:00:00",
          "2024-11-29T00:00:00",
          "2024-11-30T00:00:00",
          "2024-12-01T00:00:00",
          "2024-12-02T00:00:00",
          "2024-12-03T00:00:00",
          "2024-12-04T00:00:00",
          "2024-12-05T00:00:00",
          "2024-12-06T00:00:00",
          "2024-12-07T00:00:00",
          "2024-12-08T00:00:00",
          "2024-12-09T00:00:00",
          "2024-12-10T00:00:00",
          "2024-12-11T00:00:00",
          "2024-12-12T00:00:00",
          "2024-12-13T00:00:00",
          "2024-12-14T00:00:00",
          "2024-12-15T00:00:00",
          "2024-12-16T00:00:00",
          "2024-12-17T00:00:00",
          "2024-12-18T00:00:00",
          "2024-12-19T00:00:00",
          "2024-12-20T00:00:00",
          "2024-12-21T00:00:00",
          "2024-12-22T00:00:00",
          "2024-12-23T00:00:00",
          "2024-12-24T00:00:00",
          "2024-12-25T00:00:00",
          "2024-12-26T00:00:00",
          "2024-12-27T00:00:00",
          "2024-12-28T00:00:00",
          "2024-12-29T00:00:00",
          "2024-12-30T00:00:00",
          "2024-12-31T00:00:00",
          "2025-01-01T00:00:00",
          "2025-01-02T00:00:00",
          "2025-01-03T00:00:00",
          "2025-01-04T00:00:00",
          "2025-01-05T00:00:00",
          "2025-01-06T00:00:00",
          "2025-01-07T00:00:00",
          "2025-01-08T00:00:00",
          "2025-01-09T00:00:00",
          "2025-01-10T00:00:00",
          "2025-01-11T00:00:00",
          "2025-01-12T00:00:00",
          "2025-01-13T00:00:00",
          "2025-01-14T00:00:00",
          "2025-01-15T00:00:00",
          "2025-01-16T00:00:00",
          "2025-01-17T00:00:00",
          "2025-01-18T00:00:00",
          "2025-01-19T00:00:00",
          "2025-01-20T00:00:00",
          "2025-01-21T00:00:00",
          "2025-01-22T00:00:00",
          "2025-01-23T00:00:00",
          "2025-01-24T00:00:00",
          "2025-01-25T00:00:00",
          "2025-01-26T00:00:00",
          "2025-01-27T00:00:00",
          "2025-01-28T00:00:00",
          "2025-01-29T00:00:00",
          "2025-01-30T00:00:00",
          "2025-01-31T00:00:00",
          "2025-02-01T00:00:00",
          "2025-02-02T00:00:00",
          "2025-02-03T00:00:00",
          "2025-02-04T00:00:00",
          "2025-02-05T00:00:00",
          "2025-02-06T00:00:00",
          "2025-02-07T00:00:00",
          "2025-02-08T00:00:00",
          "2025-02-09T00:00:00",
          "2025-02-10T00:00:00",
          "2025-02-11T00:00:00",
          "2025-02-12T00:00:00",
          "2025-02-13T00:00:00",
          "2025-02-14T00:00:00",
          "2025-02-15T00:00:00",
          "2025-02-16T00:00:00",
          "2025-02-17T00:00:00",
          "2025-02-18T00:00:00",
          "2025-02-19T00:00:00",
          "2025-02-20T00:00:00",
          "2025-02-21T00:00:00",
          "2025-02-22T00:00:00",
          "2025-02-23T00:00:00",
          "2025-02-24T00:00:00",
          "2025-02-25T00:00:00",
          "2025-02-26T00:00:00",
          "2025-02-27T00:00:00",
          "2025-02-28T00:00:00",
          "2025-03-01T00:00:00",
          "2025-03-02T00:00:00",
          "2025-03-03T00:00:00",
          "2025-03-04T00:00:00",
          "2025-03-05T00:00:00",
          "2025-03-06T00:00:00",
          "2025-03-07T00:00:00",
          "2025-03-08T00:00:00",
          "2025-03-09T00:00:00",
          "2025-03-10T00:00:00",
          "2025-03-11T00:00:00",
          "2025-03-12T00:00:00",
          "2025-03-13T00:00:00",
          "2025-03-14T00:00:00",
          "2025-03-15T00:00:00",
          "2025-03-16T00:00:00",
          "2025-03-17T00:00:00",
          "2025-03-18T00:00:00",
          "2025-03-19T00:00:00",
          "2025-03-20T00:00:00",
          "2025-03-21T00:00:00",
          "2025-03-22T00:00:00",
          "2025-03-23T00:00:00",
          "2025-03-24T00:00:00",
          "2025-03-25T00:00:00",
          "2025-03-26T00:00:00",
          "2025-03-27T00:00:00",
          "2025-03-28T00:00:00",
          "2025-03-29T00:00:00",
          "2025-03-30T00:00:00",
          "2025-03-31T00:00:00",
          "2025-04-01T00:00:00",
          "2025-04-02T00:00:00",
          "2025-04-03T00:00:00",
          "2025-04-04T00:00:00",
          "2025-04-05T00:00:00",
          "2025-04-06T00:00:00",
          "2025-04-07T00:00:00",
          "2025-04-08T00:00:00",
          "2025-04-09T00:00:00",
          "2025-04-10T00:00:00",
          "2025-04-11T00:00:00",
          "2025-04-12T00:00:00",
          "2025-04-13T00:00:00",
          "2025-04-14T00:00:00",
          "2025-04-15T00:00:00",
          "2025-04-16T00:00:00",
          "2025-04-17T00:00:00",
          "2025-04-18T00:00:00",
          "2025-04-19T00:00:00",
          "2025-04-20T00:00:00",
          "2025-04-21T00:00:00",
          "2025-04-22T00:00:00",
          "2025-04-23T00:00:00",
          "2025-04-24T00:00:00",
          "2025-04-25T00:00:00",
          "2025-04-26T00:00:00",
          "2025-04-27T00:00:00",
          "2025-04-28T00:00:00",
          "2025-04-29T00:00:00",
          "2025-04-30T00:00:00",
          "2025-05-01T00:00:00",
          "2025-05-02T00:00:00",
          "2025-05-03T00:00:00",
          "2025-05-04T00:00:00",
          "2025-05-05T00:00:00",
          "2025-05-06T00:00:00",
          "2025-05-07T00:00:00",
          "2025-05-08T00:00:00",
          "2025-05-09T00:00:00",
          "2025-05-10T00:00:00",
          "2025-05-11T00:00:00",
          "2025-05-12T00:00:00",
          "2025-05-13T00:00:00",
          "2025-05-14T00:00:00",
          "2025-05-15T00:00:00",
          "2025-05-16T00:00:00",
          "2025-05-17T00:00:00",
          "2025-05-18T00:00:00",
          "2025-05-19T00:00:00",
          "2025-05-20T00:00:00",
          "2025-05-21T00:00:00",
          "2025-05-22T00:00:00",
          "2025-05-23T00:00:00",
          "2025-05-24T00:00:00",
          "2025-05-25T00:00:00",
          "2025-05-26T00:00:00",
          "2025-05-27T00:00:00",
          "2025-05-28T00:00:00",
          "2025-05-29T00:00:00",
          "2025-05-30T00:00:00",
          "2025-05-31T00:00:00",
          "2025-06-01T00:00:00",
          "2025-06-02T00:00:00",
          "2025-06-03T00:00:00",
          "2025-06-04T00:00:00",
          "2025-06-05T00:00:00",
          "2025-06-06T00:00:00",
          "2025-06-07T00:00:00",
          "2025-06-08T00:00:00",
          "2025-06-09T00:00:00",
          "2025-06-10T00:00:00",
          "2025-06-11T00:00:00",
          "2025-06-12T00:00:00",
          "2025-06-13T00:00:00",
          "2025-06-14T00:00:00",
          "2025-06-15T00:00:00",
          "2025-06-16T00:00:00",
          "2025-06-17T00:00:00",
          "2025-06-18T00:00:00",
          "2025-06-19T00:00:00",
          "2025-06-20T00:00:00",
          "2025-06-21T00:00:00",
          "2025-06-22T00:00:00",
          "2025-06-23T00:00:00",
          "2025-06-24T00:00:00",
          "2025-06-25T00:00:00",
          "2025-06-26T00:00:00",
          "2025-06-27T00:00:00",
          "2025-06-28T00:00:00",
          "2025-06-29T00:00:00",
          "2025-06-30T00:00:00",
          "2025-07-01T00:00:00",
          "2025-07-02T00:00:00",
          "2025-07-03T00:00:00",
          "2025-07-04T00:00:00",
          "2025-07-05T00:00:00",
          "2025-07-06T00:00:00",
          "2025-07-07T00:00:00",
          "2025-07-08T00:00:00",
          "2025-07-09T00:00:00",
          "2025-07-10T00:00:00",
          "2025-07-11T00:00:00",
          "2025-07-12T00:00:00",
          "2025-07-13T00:00:00",
          "2025-07-14T00:00:00",
          "2025-07-15T00:00:00",
          "2025-07-16T00:00:00",
          "2025-07-17T00:00:00",
          "2025-07-18T00:00:00",
          "2025-07-19T00:00:00",
          "2025-07-20T00:00:00",
          "2025-07-21T00:00:00",
          "2025-07-22T00:00:00",
          "2025-07-23T00:00:00",
          "2025-07-24T00:00:00",
          "2025-07-25T00:00:00",
          "2025-07-26T00:00:00",
          "2025-07-27T00:00:00",
          "2025-07-28T00:00:00",
          "2025-07-29T00:00:00",
          "2025-07-30T00:00:00",
          "2025-07-31T00:00:00",
          "2025-08-01T00:00:00",
          "2025-08-02T00:00:00",
          "2025-08-03T00:00:00",
          "2025-08-04T00:00:00",
          "2025-08-05T00:00:00",
          "2025-08-06T00:00:00",
          "2025-08-07T00:00:00",
          "2025-08-08T00:00:00",
          "2025-08-09T00:00:00",
          "2025-08-10T00:00:00",
          "2025-08-11T00:00:00",
          "2025-08-12T00:00:00",
          "2025-08-13T00:00:00",
          "2025-08-14T00:00:00",
          "2025-08-15T00:00:00",
          "2025-08-16T00:00:00",
          "2025-08-17T00:00:00",
          "2025-08-18T00:00:00",
          "2025-08-19T00:00:00",
          "2025-08-20T00:00:00",
          "2025-08-21T00:00:00",
          "2025-08-22T00:00:00",
          "2025-08-23T00:00:00",
          "2025-08-24T00:00:00",
          "2025-08-25T00:00:00",
          "2025-08-26T00:00:00",
          "2025-08-27T00:00:00",
          "2025-08-28T00:00:00",
          "2025-08-29T00:00:00",
          "2025-08-30T00:00:00",
          "2025-08-31T00:00:00",
          "2025-09-01T00:00:00",
          "2025-09-02T00:00:00",
          "2025-09-03T00:00:00",
          "2025-09-04T00:00:00",
          "2025-09-05T00:00:00",
          "2025-09-06T00:00:00",
          "2025-09-07T00:00:00",
          "2025-09-08T00:00:00",
          "2025-09-09T00:00:00",
          "2025-09-10T00:00:00",
          "2025-09-11T00:00:00",
          "2025-09-12T00:00:00",
          "2025-09-13T00:00:00",
          "2025-09-14T00:00:00",
          "2025-09-15T00:00:00",
          "2025-09-16T00:00:00",
          "2025-09-17T00:00:00",
          "2025-09-18T00:00:00",
          "2025-09-19T00:00:00",
          "2025-09-20T00:00:00",
          "2025-09-21T00:00:00",
          "2025-09-22T00:00:00",
          "2025-09-23T00:00:00",
          "2025-09-24T00:00:00",
          "2025-09-25T00:00:00",
          "2025-09-26T00:00:00",
          "2025-09-27T00:00:00",
          "2025-09-28T00:00:00",
          "2025-09-29T00:00:00",
          "2025-09-30T00:00:00",
          "2025-10-01T00:00:00",
          "2025-10-02T00:00:00",
          "2025-10-03T00:00:00",
          "2025-10-04T00:00:00",
          "2025-10-05T00:00:00",
          "2025-10-06T00:00:00",
          "2025-10-07T00:00:00",
          "2025-10-08T00:00:00"
         ],
         "y": {
          "bdata": "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",
          "dtype": "f8"
         }
        }
       ],
       "layout": {
        "showlegend": true,
        "template": {
         "data": {
          "bar": [
           {
            "error_x": {
             "color": "rgb(51,51,51)"
            },
            "error_y": {
             "color": "rgb(51,51,51)"
            },
            "marker": {
             "line": {
              "color": "rgb(237,237,237)",
              "width": 0.5
             },
             "pattern": {
              "fillmode": "overlay",
              "size": 10,
              "solidity": 0.2
             }
            },
            "type": "bar"
           }
          ],
          "barpolar": [
           {
            "marker": {
             "line": {
              "color": "rgb(237,237,237)",
              "width": 0.5
             },
             "pattern": {
              "fillmode": "overlay",
              "size": 10,
              "solidity": 0.2
             }
            },
            "type": "barpolar"
           }
          ],
          "carpet": [
           {
            "aaxis": {
             "endlinecolor": "rgb(51,51,51)",
             "gridcolor": "white",
             "linecolor": "white",
             "minorgridcolor": "white",
             "startlinecolor": "rgb(51,51,51)"
            },
            "baxis": {
             "endlinecolor": "rgb(51,51,51)",
             "gridcolor": "white",
             "linecolor": "white",
             "minorgridcolor": "white",
             "startlinecolor": "rgb(51,51,51)"
            },
            "type": "carpet"
           }
          ],
          "choropleth": [
           {
            "colorbar": {
             "outlinewidth": 0,
             "tickcolor": "rgb(237,237,237)",
             "ticklen": 6,
             "ticks": "inside"
            },
            "type": "choropleth"
           }
          ],
          "contour": [
           {
            "colorbar": {
             "outlinewidth": 0,
             "tickcolor": "rgb(237,237,237)",
             "ticklen": 6,
             "ticks": "inside"
            },
            "colorscale": [
             [
              0,
              "rgb(20,44,66)"
             ],
             [
              1,
              "rgb(90,179,244)"
             ]
            ],
            "type": "contour"
           }
          ],
          "contourcarpet": [
           {
            "colorbar": {
             "outlinewidth": 0,
             "tickcolor": "rgb(237,237,237)",
             "ticklen": 6,
             "ticks": "inside"
            },
            "type": "contourcarpet"
           }
          ],
          "heatmap": [
           {
            "colorbar": {
             "outlinewidth": 0,
             "tickcolor": "rgb(237,237,237)",
             "ticklen": 6,
             "ticks": "inside"
            },
            "colorscale": [
             [
              0,
              "rgb(20,44,66)"
             ],
             [
              1,
              "rgb(90,179,244)"
             ]
            ],
            "type": "heatmap"
           }
          ],
          "histogram": [
           {
            "marker": {
             "pattern": {
              "fillmode": "overlay",
              "size": 10,
              "solidity": 0.2
             }
            },
            "type": "histogram"
           }
          ],
          "histogram2d": [
           {
            "colorbar": {
             "outlinewidth": 0,
             "tickcolor": "rgb(237,237,237)",
             "ticklen": 6,
             "ticks": "inside"
            },
            "colorscale": [
             [
              0,
              "rgb(20,44,66)"
             ],
             [
              1,
              "rgb(90,179,244)"
             ]
            ],
            "type": "histogram2d"
           }
          ],
          "histogram2dcontour": [
           {
            "colorbar": {
             "outlinewidth": 0,
             "tickcolor": "rgb(237,237,237)",
             "ticklen": 6,
             "ticks": "inside"
            },
            "colorscale": [
             [
              0,
              "rgb(20,44,66)"
             ],
             [
              1,
              "rgb(90,179,244)"
             ]
            ],
            "type": "histogram2dcontour"
           }
          ],
          "mesh3d": [
           {
            "colorbar": {
             "outlinewidth": 0,
             "tickcolor": "rgb(237,237,237)",
             "ticklen": 6,
             "ticks": "inside"
            },
            "type": "mesh3d"
           }
          ],
          "parcoords": [
           {
            "line": {
             "colorbar": {
              "outlinewidth": 0,
              "tickcolor": "rgb(237,237,237)",
              "ticklen": 6,
              "ticks": "inside"
             }
            },
            "type": "parcoords"
           }
          ],
          "pie": [
           {
            "automargin": true,
            "type": "pie"
           }
          ],
          "scatter": [
           {
            "fillpattern": {
             "fillmode": "overlay",
             "size": 10,
             "solidity": 0.2
            },
            "type": "scatter"
           }
          ],
          "scatter3d": [
           {
            "line": {
             "colorbar": {
              "outlinewidth": 0,
              "tickcolor": "rgb(237,237,237)",
              "ticklen": 6,
              "ticks": "inside"
             }
            },
            "marker": {
             "colorbar": {
              "outlinewidth": 0,
              "tickcolor": "rgb(237,237,237)",
              "ticklen": 6,
              "ticks": "inside"
             }
            },
            "type": "scatter3d"
           }
          ],
          "scattercarpet": [
           {
            "marker": {
             "colorbar": {
              "outlinewidth": 0,
              "tickcolor": "rgb(237,237,237)",
              "ticklen": 6,
              "ticks": "inside"
             }
            },
            "type": "scattercarpet"
           }
          ],
          "scattergeo": [
           {
            "marker": {
             "colorbar": {
              "outlinewidth": 0,
              "tickcolor": "rgb(237,237,237)",
              "ticklen": 6,
              "ticks": "inside"
             }
            },
            "type": "scattergeo"
           }
          ],
          "scattergl": [
           {
            "marker": {
             "colorbar": {
              "outlinewidth": 0,
              "tickcolor": "rgb(237,237,237)",
              "ticklen": 6,
              "ticks": "inside"
             }
            },
            "type": "scattergl"
           }
          ],
          "scattermap": [
           {
            "marker": {
             "colorbar": {
              "outlinewidth": 0,
              "tickcolor": "rgb(237,237,237)",
              "ticklen": 6,
              "ticks": "inside"
             }
            },
            "type": "scattermap"
           }
          ],
          "scattermapbox": [
           {
            "marker": {
             "colorbar": {
              "outlinewidth": 0,
              "tickcolor": "rgb(237,237,237)",
              "ticklen": 6,
              "ticks": "inside"
             }
            },
            "type": "scattermapbox"
           }
          ],
          "scatterpolar": [
           {
            "marker": {
             "colorbar": {
              "outlinewidth": 0,
              "tickcolor": "rgb(237,237,237)",
              "ticklen": 6,
              "ticks": "inside"
             }
            },
            "type": "scatterpolar"
           }
          ],
          "scatterpolargl": [
           {
            "marker": {
             "colorbar": {
              "outlinewidth": 0,
              "tickcolor": "rgb(237,237,237)",
              "ticklen": 6,
              "ticks": "inside"
             }
            },
            "type": "scatterpolargl"
           }
          ],
          "scatterternary": [
           {
            "marker": {
             "colorbar": {
              "outlinewidth": 0,
              "tickcolor": "rgb(237,237,237)",
              "ticklen": 6,
              "ticks": "inside"
             }
            },
            "type": "scatterternary"
           }
          ],
          "surface": [
           {
            "colorbar": {
             "outlinewidth": 0,
             "tickcolor": "rgb(237,237,237)",
             "ticklen": 6,
             "ticks": "inside"
            },
            "colorscale": [
             [
              0,
              "rgb(20,44,66)"
             ],
             [
              1,
              "rgb(90,179,244)"
             ]
            ],
            "type": "surface"
           }
          ],
          "table": [
           {
            "cells": {
             "fill": {
              "color": "rgb(237,237,237)"
             },
             "line": {
              "color": "white"
             }
            },
            "header": {
             "fill": {
              "color": "rgb(217,217,217)"
             },
             "line": {
              "color": "white"
             }
            },
            "type": "table"
           }
          ]
         },
         "layout": {
          "annotationdefaults": {
           "arrowhead": 0,
           "arrowwidth": 1
          },
          "autotypenumbers": "strict",
          "coloraxis": {
           "colorbar": {
            "outlinewidth": 0,
            "tickcolor": "rgb(237,237,237)",
            "ticklen": 6,
            "ticks": "inside"
           }
          },
          "colorscale": {
           "sequential": [
            [
             0,
             "rgb(20,44,66)"
            ],
            [
             1,
             "rgb(90,179,244)"
            ]
           ],
           "sequentialminus": [
            [
             0,
             "rgb(20,44,66)"
            ],
            [
             1,
             "rgb(90,179,244)"
            ]
           ]
          },
          "colorway": [
           "#F8766D",
           "#A3A500",
           "#00BF7D",
           "#00B0F6",
           "#E76BF3"
          ],
          "font": {
           "color": "rgb(51,51,51)"
          },
          "geo": {
           "bgcolor": "white",
           "lakecolor": "white",
           "landcolor": "rgb(237,237,237)",
           "showlakes": true,
           "showland": true,
           "subunitcolor": "white"
          },
          "hoverlabel": {
           "align": "left"
          },
          "hovermode": "closest",
          "paper_bgcolor": "white",
          "plot_bgcolor": "rgb(237,237,237)",
          "polar": {
           "angularaxis": {
            "gridcolor": "white",
            "linecolor": "white",
            "showgrid": true,
            "tickcolor": "rgb(51,51,51)",
            "ticks": "outside"
           },
           "bgcolor": "rgb(237,237,237)",
           "radialaxis": {
            "gridcolor": "white",
            "linecolor": "white",
            "showgrid": true,
            "tickcolor": "rgb(51,51,51)",
            "ticks": "outside"
           }
          },
          "scene": {
           "xaxis": {
            "backgroundcolor": "rgb(237,237,237)",
            "gridcolor": "white",
            "gridwidth": 2,
            "linecolor": "white",
            "showbackground": true,
            "showgrid": true,
            "tickcolor": "rgb(51,51,51)",
            "ticks": "outside",
            "zerolinecolor": "white"
           },
           "yaxis": {
            "backgroundcolor": "rgb(237,237,237)",
            "gridcolor": "white",
            "gridwidth": 2,
            "linecolor": "white",
            "showbackground": true,
            "showgrid": true,
            "tickcolor": "rgb(51,51,51)",
            "ticks": "outside",
            "zerolinecolor": "white"
           },
           "zaxis": {
            "backgroundcolor": "rgb(237,237,237)",
            "gridcolor": "white",
            "gridwidth": 2,
            "linecolor": "white",
            "showbackground": true,
            "showgrid": true,
            "tickcolor": "rgb(51,51,51)",
            "ticks": "outside",
            "zerolinecolor": "white"
           }
          },
          "shapedefaults": {
           "fillcolor": "black",
           "line": {
            "width": 0
           },
           "opacity": 0.3
          },
          "ternary": {
           "aaxis": {
            "gridcolor": "white",
            "linecolor": "white",
            "showgrid": true,
            "tickcolor": "rgb(51,51,51)",
            "ticks": "outside"
           },
           "baxis": {
            "gridcolor": "white",
            "linecolor": "white",
            "showgrid": true,
            "tickcolor": "rgb(51,51,51)",
            "ticks": "outside"
           },
           "bgcolor": "rgb(237,237,237)",
           "caxis": {
            "gridcolor": "white",
            "linecolor": "white",
            "showgrid": true,
            "tickcolor": "rgb(51,51,51)",
            "ticks": "outside"
           }
          },
          "xaxis": {
           "automargin": true,
           "gridcolor": "white",
           "linecolor": "white",
           "showgrid": true,
           "tickcolor": "rgb(51,51,51)",
           "ticks": "outside",
           "title": {
            "standoff": 15
           },
           "zerolinecolor": "white"
          },
          "yaxis": {
           "automargin": true,
           "gridcolor": "white",
           "linecolor": "white",
           "showgrid": true,
           "tickcolor": "rgb(51,51,51)",
           "ticks": "outside",
           "title": {
            "standoff": 15
           },
           "zerolinecolor": "white"
          }
         }
        },
        "title": {
         "text": "Actual vs. 'Out-of-Sample' Forecast | Close"
        },
        "xaxis": {
         "title": {
          "text": "Time"
         }
        },
        "yaxis": {
         "title": {
          "text": "Values"
         }
        }
       }
      }
     },
     "metadata": {},
     "output_type": "display_data"
    }
   ],
   "source": [
    "plot_model(best, plot = 'forecast', data_kwargs = {'fh' : 50})"
   ]
  },
  {
   "cell_type": "code",
   "execution_count": 38,
   "id": "5a64514f",
   "metadata": {},
   "outputs": [
    {
     "data": {
      "text/html": [
       "<div>\n",
       "<style scoped>\n",
       "    .dataframe tbody tr th:only-of-type {\n",
       "        vertical-align: middle;\n",
       "    }\n",
       "\n",
       "    .dataframe tbody tr th {\n",
       "        vertical-align: top;\n",
       "    }\n",
       "\n",
       "    .dataframe thead th {\n",
       "        text-align: right;\n",
       "    }\n",
       "</style>\n",
       "<table border=\"1\" class=\"dataframe\">\n",
       "  <thead>\n",
       "    <tr style=\"text-align: right;\">\n",
       "      <th></th>\n",
       "      <th>y_pred</th>\n",
       "    </tr>\n",
       "  </thead>\n",
       "  <tbody>\n",
       "    <tr>\n",
       "      <th>2025-10-08</th>\n",
       "      <td>365.3621</td>\n",
       "    </tr>\n",
       "    <tr>\n",
       "      <th>2025-10-09</th>\n",
       "      <td>364.4870</td>\n",
       "    </tr>\n",
       "    <tr>\n",
       "      <th>2025-10-10</th>\n",
       "      <td>363.6342</td>\n",
       "    </tr>\n",
       "    <tr>\n",
       "      <th>2025-10-11</th>\n",
       "      <td>370.3230</td>\n",
       "    </tr>\n",
       "    <tr>\n",
       "      <th>2025-10-12</th>\n",
       "      <td>372.0630</td>\n",
       "    </tr>\n",
       "    <tr>\n",
       "      <th>2025-10-13</th>\n",
       "      <td>369.8236</td>\n",
       "    </tr>\n",
       "    <tr>\n",
       "      <th>2025-10-14</th>\n",
       "      <td>373.4142</td>\n",
       "    </tr>\n",
       "    <tr>\n",
       "      <th>2025-10-15</th>\n",
       "      <td>372.6644</td>\n",
       "    </tr>\n",
       "    <tr>\n",
       "      <th>2025-10-16</th>\n",
       "      <td>371.9337</td>\n",
       "    </tr>\n",
       "    <tr>\n",
       "      <th>2025-10-17</th>\n",
       "      <td>374.9916</td>\n",
       "    </tr>\n",
       "    <tr>\n",
       "      <th>2025-10-18</th>\n",
       "      <td>373.5376</td>\n",
       "    </tr>\n",
       "    <tr>\n",
       "      <th>2025-10-19</th>\n",
       "      <td>374.0612</td>\n",
       "    </tr>\n",
       "    <tr>\n",
       "      <th>2025-10-20</th>\n",
       "      <td>372.9020</td>\n",
       "    </tr>\n",
       "    <tr>\n",
       "      <th>2025-10-21</th>\n",
       "      <td>372.9196</td>\n",
       "    </tr>\n",
       "    <tr>\n",
       "      <th>2025-10-22</th>\n",
       "      <td>372.2935</td>\n",
       "    </tr>\n",
       "    <tr>\n",
       "      <th>2025-10-23</th>\n",
       "      <td>371.6833</td>\n",
       "    </tr>\n",
       "    <tr>\n",
       "      <th>2025-10-24</th>\n",
       "      <td>374.5786</td>\n",
       "    </tr>\n",
       "    <tr>\n",
       "      <th>2025-10-25</th>\n",
       "      <td>374.6791</td>\n",
       "    </tr>\n",
       "    <tr>\n",
       "      <th>2025-10-26</th>\n",
       "      <td>371.4943</td>\n",
       "    </tr>\n",
       "    <tr>\n",
       "      <th>2025-10-27</th>\n",
       "      <td>369.5938</td>\n",
       "    </tr>\n",
       "    <tr>\n",
       "      <th>2025-10-28</th>\n",
       "      <td>372.6174</td>\n",
       "    </tr>\n",
       "    <tr>\n",
       "      <th>2025-10-29</th>\n",
       "      <td>372.0946</td>\n",
       "    </tr>\n",
       "    <tr>\n",
       "      <th>2025-10-30</th>\n",
       "      <td>371.5850</td>\n",
       "    </tr>\n",
       "    <tr>\n",
       "      <th>2025-10-31</th>\n",
       "      <td>376.9585</td>\n",
       "    </tr>\n",
       "    <tr>\n",
       "      <th>2025-11-01</th>\n",
       "      <td>377.8845</td>\n",
       "    </tr>\n",
       "    <tr>\n",
       "      <th>2025-11-02</th>\n",
       "      <td>374.2729</td>\n",
       "    </tr>\n",
       "    <tr>\n",
       "      <th>2025-11-03</th>\n",
       "      <td>375.2433</td>\n",
       "    </tr>\n",
       "    <tr>\n",
       "      <th>2025-11-04</th>\n",
       "      <td>376.7853</td>\n",
       "    </tr>\n",
       "    <tr>\n",
       "      <th>2025-11-05</th>\n",
       "      <td>376.3487</td>\n",
       "    </tr>\n",
       "    <tr>\n",
       "      <th>2025-11-06</th>\n",
       "      <td>375.9233</td>\n",
       "    </tr>\n",
       "    <tr>\n",
       "      <th>2025-11-07</th>\n",
       "      <td>381.2286</td>\n",
       "    </tr>\n",
       "    <tr>\n",
       "      <th>2025-11-08</th>\n",
       "      <td>383.8345</td>\n",
       "    </tr>\n",
       "    <tr>\n",
       "      <th>2025-11-09</th>\n",
       "      <td>384.0007</td>\n",
       "    </tr>\n",
       "    <tr>\n",
       "      <th>2025-11-10</th>\n",
       "      <td>382.3769</td>\n",
       "    </tr>\n",
       "    <tr>\n",
       "      <th>2025-11-11</th>\n",
       "      <td>384.8529</td>\n",
       "    </tr>\n",
       "    <tr>\n",
       "      <th>2025-11-12</th>\n",
       "      <td>384.4883</td>\n",
       "    </tr>\n",
       "  </tbody>\n",
       "</table>\n",
       "</div>"
      ],
      "text/plain": [
       "              y_pred\n",
       "2025-10-08  365.3621\n",
       "2025-10-09  364.4870\n",
       "2025-10-10  363.6342\n",
       "2025-10-11  370.3230\n",
       "2025-10-12  372.0630\n",
       "2025-10-13  369.8236\n",
       "2025-10-14  373.4142\n",
       "2025-10-15  372.6644\n",
       "2025-10-16  371.9337\n",
       "2025-10-17  374.9916\n",
       "2025-10-18  373.5376\n",
       "2025-10-19  374.0612\n",
       "2025-10-20  372.9020\n",
       "2025-10-21  372.9196\n",
       "2025-10-22  372.2935\n",
       "2025-10-23  371.6833\n",
       "2025-10-24  374.5786\n",
       "2025-10-25  374.6791\n",
       "2025-10-26  371.4943\n",
       "2025-10-27  369.5938\n",
       "2025-10-28  372.6174\n",
       "2025-10-29  372.0946\n",
       "2025-10-30  371.5850\n",
       "2025-10-31  376.9585\n",
       "2025-11-01  377.8845\n",
       "2025-11-02  374.2729\n",
       "2025-11-03  375.2433\n",
       "2025-11-04  376.7853\n",
       "2025-11-05  376.3487\n",
       "2025-11-06  375.9233\n",
       "2025-11-07  381.2286\n",
       "2025-11-08  383.8345\n",
       "2025-11-09  384.0007\n",
       "2025-11-10  382.3769\n",
       "2025-11-11  384.8529\n",
       "2025-11-12  384.4883"
      ]
     },
     "execution_count": 38,
     "metadata": {},
     "output_type": "execute_result"
    }
   ],
   "source": [
    "predict_model(best, fh = 36)"
   ]
  },
  {
   "cell_type": "code",
   "execution_count": null,
   "id": "2535ab80",
   "metadata": {},
   "outputs": [],
   "source": []
  }
 ],
 "metadata": {
  "kernelspec": {
   "display_name": "pycaret-env",
   "language": "python",
   "name": "python3"
  },
  "language_info": {
   "codemirror_mode": {
    "name": "ipython",
    "version": 3
   },
   "file_extension": ".py",
   "mimetype": "text/x-python",
   "name": "python",
   "nbconvert_exporter": "python",
   "pygments_lexer": "ipython3",
   "version": "3.10.18"
  }
 },
 "nbformat": 4,
 "nbformat_minor": 5
}
